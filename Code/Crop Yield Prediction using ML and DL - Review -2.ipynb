{
 "cells": [
  {
   "cell_type": "markdown",
   "id": "d6076e87",
   "metadata": {
    "id": "d6076e87",
    "papermill": {
     "duration": 0.071932,
     "end_time": "2022-04-18T20:52:19.272106",
     "exception": false,
     "start_time": "2022-04-18T20:52:19.200174",
     "status": "completed"
    },
    "tags": []
   },
   "source": [
    "# Crop Yield Prediction\n",
    " \n",
    "The science of training machines to learn and produce models for future predictions is widely used, and not for nothing.\n",
    "Agriculture plays a critical role in the global economy. With the continuing expansion of the human population understanding worldwide crop yield is central to addressing food security challenges and reducing the impacts of climate change. \n",
    "\n",
    "Crop yield prediction is an important agricultural problem. The Agricultural yield primarily depends on <i><b>weather conditions (rain, temperature, etc)</b></i>, pesticides and accurate information about history of crop yield is an important thing for making decisions related to agricultural risk management and future predictions.  The basic ingredients that sustain humans are similar. We eat a lot of corn, wheat, rice and other simple crops. In this paper the prediction of <b>top 10 most consumed yields all over the world</b> is established by applying machine learning techniques. It consist of 10 most consumed crops. It is a regression problem\n",
    " \n",
    " These corps include :\n",
    "\n",
    "- Cassava                \n",
    "- Maize                  \n",
    "- Plantains and others   \n",
    "- Potatoes                \n",
    "- Rice, paddy             \n",
    "- Sorghum                \n",
    "- Soybeans               \n",
    "- Sweet potatoes       \n",
    "- Wheat                  \n",
    "- Yams             "
   ]
  },
  {
   "cell_type": "markdown",
   "id": "7b7ea399",
   "metadata": {
    "id": "7b7ea399",
    "papermill": {
     "duration": 0.067058,
     "end_time": "2022-04-18T20:52:19.406632",
     "exception": false,
     "start_time": "2022-04-18T20:52:19.339574",
     "status": "completed"
    },
    "tags": []
   },
   "source": [
    "# Gathering & Cleaning Data\n",
    "\n",
    "### Crops Yield Data:\n",
    "\n",
    "\n",
    " \n",
    "After importing required libraries, crops yield of ten most consumed crops around the world was downloaded from FAO webiste.The collected data include country, item, year starting from 1961 to 2016 and yield value. "
   ]
  },
  {
   "cell_type": "code",
   "execution_count": 1,
   "id": "5cc3c54d",
   "metadata": {
    "execution": {
     "iopub.execute_input": "2022-04-18T20:52:19.552660Z",
     "iopub.status.busy": "2022-04-18T20:52:19.552023Z",
     "iopub.status.idle": "2022-04-18T20:52:19.556984Z",
     "shell.execute_reply": "2022-04-18T20:52:19.556203Z"
    },
    "id": "5cc3c54d",
    "papermill": {
     "duration": 0.083818,
     "end_time": "2022-04-18T20:52:19.557167",
     "exception": false,
     "start_time": "2022-04-18T20:52:19.473349",
     "status": "completed"
    },
    "tags": []
   },
   "outputs": [],
   "source": [
    "import numpy as np \n",
    "import pandas as pd \n",
    "import warnings\n",
    "\n",
    "# ignore all warnings\n",
    "warnings.filterwarnings(\"ignore\")"
   ]
  },
  {
   "cell_type": "code",
   "execution_count": 2,
   "id": "1933b94c",
   "metadata": {
    "colab": {
     "base_uri": "https://localhost:8080/"
    },
    "execution": {
     "iopub.execute_input": "2022-04-18T20:52:19.704656Z",
     "iopub.status.busy": "2022-04-18T20:52:19.703932Z",
     "iopub.status.idle": "2022-04-18T20:52:19.851168Z",
     "shell.execute_reply": "2022-04-18T20:52:19.851692Z",
     "shell.execute_reply.started": "2022-04-18T18:46:45.995348Z"
    },
    "id": "1933b94c",
    "outputId": "8609033f-8fdf-478b-e5b7-e3775e85e60c",
    "papermill": {
     "duration": 0.222081,
     "end_time": "2022-04-18T20:52:19.851865",
     "exception": false,
     "start_time": "2022-04-18T20:52:19.629784",
     "status": "completed"
    },
    "tags": []
   },
   "outputs": [
    {
     "data": {
      "text/plain": [
       "(56717, 12)"
      ]
     },
     "execution_count": 2,
     "metadata": {},
     "output_type": "execute_result"
    }
   ],
   "source": [
    "df_yield = pd.read_csv('yield.csv')\n",
    "df_yield.shape"
   ]
  },
  {
   "cell_type": "code",
   "execution_count": 3,
   "id": "07f97238",
   "metadata": {
    "colab": {
     "base_uri": "https://localhost:8080/",
     "height": 206
    },
    "execution": {
     "iopub.execute_input": "2022-04-18T20:52:19.995744Z",
     "iopub.status.busy": "2022-04-18T20:52:19.994642Z",
     "iopub.status.idle": "2022-04-18T20:52:20.018161Z",
     "shell.execute_reply": "2022-04-18T20:52:20.018841Z",
     "shell.execute_reply.started": "2022-04-18T18:46:48.559223Z"
    },
    "id": "07f97238",
    "outputId": "f4ecf217-9dde-4d20-93d9-bae851e61e29",
    "papermill": {
     "duration": 0.097573,
     "end_time": "2022-04-18T20:52:20.019046",
     "exception": false,
     "start_time": "2022-04-18T20:52:19.921473",
     "status": "completed"
    },
    "scrolled": true,
    "tags": []
   },
   "outputs": [
    {
     "data": {
      "text/html": [
       "<div>\n",
       "<style scoped>\n",
       "    .dataframe tbody tr th:only-of-type {\n",
       "        vertical-align: middle;\n",
       "    }\n",
       "\n",
       "    .dataframe tbody tr th {\n",
       "        vertical-align: top;\n",
       "    }\n",
       "\n",
       "    .dataframe thead th {\n",
       "        text-align: right;\n",
       "    }\n",
       "</style>\n",
       "<table border=\"1\" class=\"dataframe\">\n",
       "  <thead>\n",
       "    <tr style=\"text-align: right;\">\n",
       "      <th></th>\n",
       "      <th>Domain Code</th>\n",
       "      <th>Domain</th>\n",
       "      <th>Area Code</th>\n",
       "      <th>Area</th>\n",
       "      <th>Element Code</th>\n",
       "      <th>Element</th>\n",
       "      <th>Item Code</th>\n",
       "      <th>Item</th>\n",
       "      <th>Year Code</th>\n",
       "      <th>Year</th>\n",
       "      <th>Unit</th>\n",
       "      <th>Value</th>\n",
       "    </tr>\n",
       "  </thead>\n",
       "  <tbody>\n",
       "    <tr>\n",
       "      <th>0</th>\n",
       "      <td>QC</td>\n",
       "      <td>Crops</td>\n",
       "      <td>2</td>\n",
       "      <td>Afghanistan</td>\n",
       "      <td>5419</td>\n",
       "      <td>Yield</td>\n",
       "      <td>56</td>\n",
       "      <td>Maize</td>\n",
       "      <td>1961</td>\n",
       "      <td>1961</td>\n",
       "      <td>hg/ha</td>\n",
       "      <td>14000</td>\n",
       "    </tr>\n",
       "    <tr>\n",
       "      <th>1</th>\n",
       "      <td>QC</td>\n",
       "      <td>Crops</td>\n",
       "      <td>2</td>\n",
       "      <td>Afghanistan</td>\n",
       "      <td>5419</td>\n",
       "      <td>Yield</td>\n",
       "      <td>56</td>\n",
       "      <td>Maize</td>\n",
       "      <td>1962</td>\n",
       "      <td>1962</td>\n",
       "      <td>hg/ha</td>\n",
       "      <td>14000</td>\n",
       "    </tr>\n",
       "    <tr>\n",
       "      <th>2</th>\n",
       "      <td>QC</td>\n",
       "      <td>Crops</td>\n",
       "      <td>2</td>\n",
       "      <td>Afghanistan</td>\n",
       "      <td>5419</td>\n",
       "      <td>Yield</td>\n",
       "      <td>56</td>\n",
       "      <td>Maize</td>\n",
       "      <td>1963</td>\n",
       "      <td>1963</td>\n",
       "      <td>hg/ha</td>\n",
       "      <td>14260</td>\n",
       "    </tr>\n",
       "    <tr>\n",
       "      <th>3</th>\n",
       "      <td>QC</td>\n",
       "      <td>Crops</td>\n",
       "      <td>2</td>\n",
       "      <td>Afghanistan</td>\n",
       "      <td>5419</td>\n",
       "      <td>Yield</td>\n",
       "      <td>56</td>\n",
       "      <td>Maize</td>\n",
       "      <td>1964</td>\n",
       "      <td>1964</td>\n",
       "      <td>hg/ha</td>\n",
       "      <td>14257</td>\n",
       "    </tr>\n",
       "    <tr>\n",
       "      <th>4</th>\n",
       "      <td>QC</td>\n",
       "      <td>Crops</td>\n",
       "      <td>2</td>\n",
       "      <td>Afghanistan</td>\n",
       "      <td>5419</td>\n",
       "      <td>Yield</td>\n",
       "      <td>56</td>\n",
       "      <td>Maize</td>\n",
       "      <td>1965</td>\n",
       "      <td>1965</td>\n",
       "      <td>hg/ha</td>\n",
       "      <td>14400</td>\n",
       "    </tr>\n",
       "  </tbody>\n",
       "</table>\n",
       "</div>"
      ],
      "text/plain": [
       "  Domain Code Domain  Area Code         Area  Element Code Element  Item Code  \\\n",
       "0          QC  Crops          2  Afghanistan          5419   Yield         56   \n",
       "1          QC  Crops          2  Afghanistan          5419   Yield         56   \n",
       "2          QC  Crops          2  Afghanistan          5419   Yield         56   \n",
       "3          QC  Crops          2  Afghanistan          5419   Yield         56   \n",
       "4          QC  Crops          2  Afghanistan          5419   Yield         56   \n",
       "\n",
       "    Item  Year Code  Year   Unit  Value  \n",
       "0  Maize       1961  1961  hg/ha  14000  \n",
       "1  Maize       1962  1962  hg/ha  14000  \n",
       "2  Maize       1963  1963  hg/ha  14260  \n",
       "3  Maize       1964  1964  hg/ha  14257  \n",
       "4  Maize       1965  1965  hg/ha  14400  "
      ]
     },
     "execution_count": 3,
     "metadata": {},
     "output_type": "execute_result"
    }
   ],
   "source": [
    "df_yield.head()"
   ]
  },
  {
   "cell_type": "code",
   "execution_count": 4,
   "id": "30a5e229",
   "metadata": {
    "colab": {
     "base_uri": "https://localhost:8080/",
     "height": 363
    },
    "execution": {
     "iopub.execute_input": "2022-04-18T20:52:20.177656Z",
     "iopub.status.busy": "2022-04-18T20:52:20.176629Z",
     "iopub.status.idle": "2022-04-18T20:52:20.180518Z",
     "shell.execute_reply": "2022-04-18T20:52:20.181028Z",
     "shell.execute_reply.started": "2022-04-18T18:46:50.847614Z"
    },
    "id": "30a5e229",
    "outputId": "b19ccfa6-2841-4986-f5d1-c7e6ea85da7a",
    "papermill": {
     "duration": 0.093166,
     "end_time": "2022-04-18T20:52:20.181226",
     "exception": false,
     "start_time": "2022-04-18T20:52:20.088060",
     "status": "completed"
    },
    "scrolled": true,
    "tags": []
   },
   "outputs": [
    {
     "data": {
      "text/html": [
       "<div>\n",
       "<style scoped>\n",
       "    .dataframe tbody tr th:only-of-type {\n",
       "        vertical-align: middle;\n",
       "    }\n",
       "\n",
       "    .dataframe tbody tr th {\n",
       "        vertical-align: top;\n",
       "    }\n",
       "\n",
       "    .dataframe thead th {\n",
       "        text-align: right;\n",
       "    }\n",
       "</style>\n",
       "<table border=\"1\" class=\"dataframe\">\n",
       "  <thead>\n",
       "    <tr style=\"text-align: right;\">\n",
       "      <th></th>\n",
       "      <th>Domain Code</th>\n",
       "      <th>Domain</th>\n",
       "      <th>Area Code</th>\n",
       "      <th>Area</th>\n",
       "      <th>Element Code</th>\n",
       "      <th>Element</th>\n",
       "      <th>Item Code</th>\n",
       "      <th>Item</th>\n",
       "      <th>Year Code</th>\n",
       "      <th>Year</th>\n",
       "      <th>Unit</th>\n",
       "      <th>Value</th>\n",
       "    </tr>\n",
       "  </thead>\n",
       "  <tbody>\n",
       "    <tr>\n",
       "      <th>56707</th>\n",
       "      <td>QC</td>\n",
       "      <td>Crops</td>\n",
       "      <td>181</td>\n",
       "      <td>Zimbabwe</td>\n",
       "      <td>5419</td>\n",
       "      <td>Yield</td>\n",
       "      <td>15</td>\n",
       "      <td>Wheat</td>\n",
       "      <td>2007</td>\n",
       "      <td>2007</td>\n",
       "      <td>hg/ha</td>\n",
       "      <td>29998</td>\n",
       "    </tr>\n",
       "    <tr>\n",
       "      <th>56708</th>\n",
       "      <td>QC</td>\n",
       "      <td>Crops</td>\n",
       "      <td>181</td>\n",
       "      <td>Zimbabwe</td>\n",
       "      <td>5419</td>\n",
       "      <td>Yield</td>\n",
       "      <td>15</td>\n",
       "      <td>Wheat</td>\n",
       "      <td>2008</td>\n",
       "      <td>2008</td>\n",
       "      <td>hg/ha</td>\n",
       "      <td>30097</td>\n",
       "    </tr>\n",
       "    <tr>\n",
       "      <th>56709</th>\n",
       "      <td>QC</td>\n",
       "      <td>Crops</td>\n",
       "      <td>181</td>\n",
       "      <td>Zimbabwe</td>\n",
       "      <td>5419</td>\n",
       "      <td>Yield</td>\n",
       "      <td>15</td>\n",
       "      <td>Wheat</td>\n",
       "      <td>2009</td>\n",
       "      <td>2009</td>\n",
       "      <td>hg/ha</td>\n",
       "      <td>30000</td>\n",
       "    </tr>\n",
       "    <tr>\n",
       "      <th>56710</th>\n",
       "      <td>QC</td>\n",
       "      <td>Crops</td>\n",
       "      <td>181</td>\n",
       "      <td>Zimbabwe</td>\n",
       "      <td>5419</td>\n",
       "      <td>Yield</td>\n",
       "      <td>15</td>\n",
       "      <td>Wheat</td>\n",
       "      <td>2010</td>\n",
       "      <td>2010</td>\n",
       "      <td>hg/ha</td>\n",
       "      <td>27681</td>\n",
       "    </tr>\n",
       "    <tr>\n",
       "      <th>56711</th>\n",
       "      <td>QC</td>\n",
       "      <td>Crops</td>\n",
       "      <td>181</td>\n",
       "      <td>Zimbabwe</td>\n",
       "      <td>5419</td>\n",
       "      <td>Yield</td>\n",
       "      <td>15</td>\n",
       "      <td>Wheat</td>\n",
       "      <td>2011</td>\n",
       "      <td>2011</td>\n",
       "      <td>hg/ha</td>\n",
       "      <td>26274</td>\n",
       "    </tr>\n",
       "    <tr>\n",
       "      <th>56712</th>\n",
       "      <td>QC</td>\n",
       "      <td>Crops</td>\n",
       "      <td>181</td>\n",
       "      <td>Zimbabwe</td>\n",
       "      <td>5419</td>\n",
       "      <td>Yield</td>\n",
       "      <td>15</td>\n",
       "      <td>Wheat</td>\n",
       "      <td>2012</td>\n",
       "      <td>2012</td>\n",
       "      <td>hg/ha</td>\n",
       "      <td>24420</td>\n",
       "    </tr>\n",
       "    <tr>\n",
       "      <th>56713</th>\n",
       "      <td>QC</td>\n",
       "      <td>Crops</td>\n",
       "      <td>181</td>\n",
       "      <td>Zimbabwe</td>\n",
       "      <td>5419</td>\n",
       "      <td>Yield</td>\n",
       "      <td>15</td>\n",
       "      <td>Wheat</td>\n",
       "      <td>2013</td>\n",
       "      <td>2013</td>\n",
       "      <td>hg/ha</td>\n",
       "      <td>22888</td>\n",
       "    </tr>\n",
       "    <tr>\n",
       "      <th>56714</th>\n",
       "      <td>QC</td>\n",
       "      <td>Crops</td>\n",
       "      <td>181</td>\n",
       "      <td>Zimbabwe</td>\n",
       "      <td>5419</td>\n",
       "      <td>Yield</td>\n",
       "      <td>15</td>\n",
       "      <td>Wheat</td>\n",
       "      <td>2014</td>\n",
       "      <td>2014</td>\n",
       "      <td>hg/ha</td>\n",
       "      <td>21357</td>\n",
       "    </tr>\n",
       "    <tr>\n",
       "      <th>56715</th>\n",
       "      <td>QC</td>\n",
       "      <td>Crops</td>\n",
       "      <td>181</td>\n",
       "      <td>Zimbabwe</td>\n",
       "      <td>5419</td>\n",
       "      <td>Yield</td>\n",
       "      <td>15</td>\n",
       "      <td>Wheat</td>\n",
       "      <td>2015</td>\n",
       "      <td>2015</td>\n",
       "      <td>hg/ha</td>\n",
       "      <td>19826</td>\n",
       "    </tr>\n",
       "    <tr>\n",
       "      <th>56716</th>\n",
       "      <td>QC</td>\n",
       "      <td>Crops</td>\n",
       "      <td>181</td>\n",
       "      <td>Zimbabwe</td>\n",
       "      <td>5419</td>\n",
       "      <td>Yield</td>\n",
       "      <td>15</td>\n",
       "      <td>Wheat</td>\n",
       "      <td>2016</td>\n",
       "      <td>2016</td>\n",
       "      <td>hg/ha</td>\n",
       "      <td>18294</td>\n",
       "    </tr>\n",
       "  </tbody>\n",
       "</table>\n",
       "</div>"
      ],
      "text/plain": [
       "      Domain Code Domain  Area Code      Area  Element Code Element  \\\n",
       "56707          QC  Crops        181  Zimbabwe          5419   Yield   \n",
       "56708          QC  Crops        181  Zimbabwe          5419   Yield   \n",
       "56709          QC  Crops        181  Zimbabwe          5419   Yield   \n",
       "56710          QC  Crops        181  Zimbabwe          5419   Yield   \n",
       "56711          QC  Crops        181  Zimbabwe          5419   Yield   \n",
       "56712          QC  Crops        181  Zimbabwe          5419   Yield   \n",
       "56713          QC  Crops        181  Zimbabwe          5419   Yield   \n",
       "56714          QC  Crops        181  Zimbabwe          5419   Yield   \n",
       "56715          QC  Crops        181  Zimbabwe          5419   Yield   \n",
       "56716          QC  Crops        181  Zimbabwe          5419   Yield   \n",
       "\n",
       "       Item Code   Item  Year Code  Year   Unit  Value  \n",
       "56707         15  Wheat       2007  2007  hg/ha  29998  \n",
       "56708         15  Wheat       2008  2008  hg/ha  30097  \n",
       "56709         15  Wheat       2009  2009  hg/ha  30000  \n",
       "56710         15  Wheat       2010  2010  hg/ha  27681  \n",
       "56711         15  Wheat       2011  2011  hg/ha  26274  \n",
       "56712         15  Wheat       2012  2012  hg/ha  24420  \n",
       "56713         15  Wheat       2013  2013  hg/ha  22888  \n",
       "56714         15  Wheat       2014  2014  hg/ha  21357  \n",
       "56715         15  Wheat       2015  2015  hg/ha  19826  \n",
       "56716         15  Wheat       2016  2016  hg/ha  18294  "
      ]
     },
     "execution_count": 4,
     "metadata": {},
     "output_type": "execute_result"
    }
   ],
   "source": [
    "df_yield.tail(10)"
   ]
  },
  {
   "cell_type": "markdown",
   "id": "ece2b35c",
   "metadata": {
    "id": "ece2b35c",
    "papermill": {
     "duration": 0.069054,
     "end_time": "2022-04-18T20:52:20.319555",
     "exception": false,
     "start_time": "2022-04-18T20:52:20.250501",
     "status": "completed"
    },
    "tags": []
   },
   "source": [
    "Looking at the columns in the csv, we can rename **Value** to **hg/ha_yield** to make it easier to recognise that this is our crops yields production value. In addition to removal of unnecessary coloumns like Area Code, Domain, Item Code, etc."
   ]
  },
  {
   "cell_type": "code",
   "execution_count": 5,
   "id": "92ff63a7",
   "metadata": {
    "colab": {
     "base_uri": "https://localhost:8080/",
     "height": 206
    },
    "execution": {
     "iopub.execute_input": "2022-04-18T20:52:20.465294Z",
     "iopub.status.busy": "2022-04-18T20:52:20.463967Z",
     "iopub.status.idle": "2022-04-18T20:52:20.510411Z",
     "shell.execute_reply": "2022-04-18T20:52:20.508740Z",
     "shell.execute_reply.started": "2022-04-18T18:46:53.628764Z"
    },
    "id": "92ff63a7",
    "outputId": "724f7c82-aecd-4c0f-c3ab-12f10521c1c3",
    "papermill": {
     "duration": 0.122241,
     "end_time": "2022-04-18T20:52:20.510976",
     "exception": false,
     "start_time": "2022-04-18T20:52:20.388735",
     "status": "completed"
    },
    "scrolled": true,
    "tags": []
   },
   "outputs": [
    {
     "data": {
      "text/html": [
       "<div>\n",
       "<style scoped>\n",
       "    .dataframe tbody tr th:only-of-type {\n",
       "        vertical-align: middle;\n",
       "    }\n",
       "\n",
       "    .dataframe tbody tr th {\n",
       "        vertical-align: top;\n",
       "    }\n",
       "\n",
       "    .dataframe thead th {\n",
       "        text-align: right;\n",
       "    }\n",
       "</style>\n",
       "<table border=\"1\" class=\"dataframe\">\n",
       "  <thead>\n",
       "    <tr style=\"text-align: right;\">\n",
       "      <th></th>\n",
       "      <th>Domain Code</th>\n",
       "      <th>Domain</th>\n",
       "      <th>Area Code</th>\n",
       "      <th>Area</th>\n",
       "      <th>Element Code</th>\n",
       "      <th>Element</th>\n",
       "      <th>Item Code</th>\n",
       "      <th>Item</th>\n",
       "      <th>Year Code</th>\n",
       "      <th>Year</th>\n",
       "      <th>Unit</th>\n",
       "      <th>hg/ha_yield</th>\n",
       "    </tr>\n",
       "  </thead>\n",
       "  <tbody>\n",
       "    <tr>\n",
       "      <th>0</th>\n",
       "      <td>QC</td>\n",
       "      <td>Crops</td>\n",
       "      <td>2</td>\n",
       "      <td>Afghanistan</td>\n",
       "      <td>5419</td>\n",
       "      <td>Yield</td>\n",
       "      <td>56</td>\n",
       "      <td>Maize</td>\n",
       "      <td>1961</td>\n",
       "      <td>1961</td>\n",
       "      <td>hg/ha</td>\n",
       "      <td>14000</td>\n",
       "    </tr>\n",
       "    <tr>\n",
       "      <th>1</th>\n",
       "      <td>QC</td>\n",
       "      <td>Crops</td>\n",
       "      <td>2</td>\n",
       "      <td>Afghanistan</td>\n",
       "      <td>5419</td>\n",
       "      <td>Yield</td>\n",
       "      <td>56</td>\n",
       "      <td>Maize</td>\n",
       "      <td>1962</td>\n",
       "      <td>1962</td>\n",
       "      <td>hg/ha</td>\n",
       "      <td>14000</td>\n",
       "    </tr>\n",
       "    <tr>\n",
       "      <th>2</th>\n",
       "      <td>QC</td>\n",
       "      <td>Crops</td>\n",
       "      <td>2</td>\n",
       "      <td>Afghanistan</td>\n",
       "      <td>5419</td>\n",
       "      <td>Yield</td>\n",
       "      <td>56</td>\n",
       "      <td>Maize</td>\n",
       "      <td>1963</td>\n",
       "      <td>1963</td>\n",
       "      <td>hg/ha</td>\n",
       "      <td>14260</td>\n",
       "    </tr>\n",
       "    <tr>\n",
       "      <th>3</th>\n",
       "      <td>QC</td>\n",
       "      <td>Crops</td>\n",
       "      <td>2</td>\n",
       "      <td>Afghanistan</td>\n",
       "      <td>5419</td>\n",
       "      <td>Yield</td>\n",
       "      <td>56</td>\n",
       "      <td>Maize</td>\n",
       "      <td>1964</td>\n",
       "      <td>1964</td>\n",
       "      <td>hg/ha</td>\n",
       "      <td>14257</td>\n",
       "    </tr>\n",
       "    <tr>\n",
       "      <th>4</th>\n",
       "      <td>QC</td>\n",
       "      <td>Crops</td>\n",
       "      <td>2</td>\n",
       "      <td>Afghanistan</td>\n",
       "      <td>5419</td>\n",
       "      <td>Yield</td>\n",
       "      <td>56</td>\n",
       "      <td>Maize</td>\n",
       "      <td>1965</td>\n",
       "      <td>1965</td>\n",
       "      <td>hg/ha</td>\n",
       "      <td>14400</td>\n",
       "    </tr>\n",
       "  </tbody>\n",
       "</table>\n",
       "</div>"
      ],
      "text/plain": [
       "  Domain Code Domain  Area Code         Area  Element Code Element  Item Code  \\\n",
       "0          QC  Crops          2  Afghanistan          5419   Yield         56   \n",
       "1          QC  Crops          2  Afghanistan          5419   Yield         56   \n",
       "2          QC  Crops          2  Afghanistan          5419   Yield         56   \n",
       "3          QC  Crops          2  Afghanistan          5419   Yield         56   \n",
       "4          QC  Crops          2  Afghanistan          5419   Yield         56   \n",
       "\n",
       "    Item  Year Code  Year   Unit  hg/ha_yield  \n",
       "0  Maize       1961  1961  hg/ha        14000  \n",
       "1  Maize       1962  1962  hg/ha        14000  \n",
       "2  Maize       1963  1963  hg/ha        14260  \n",
       "3  Maize       1964  1964  hg/ha        14257  \n",
       "4  Maize       1965  1965  hg/ha        14400  "
      ]
     },
     "execution_count": 5,
     "metadata": {},
     "output_type": "execute_result"
    }
   ],
   "source": [
    "# rename columns.\n",
    "df_yield = df_yield.rename(index=str, columns={\"Value\": \"hg/ha_yield\"})\n",
    "df_yield.head()"
   ]
  },
  {
   "cell_type": "code",
   "execution_count": 6,
   "id": "ed92370b",
   "metadata": {
    "colab": {
     "base_uri": "https://localhost:8080/",
     "height": 206
    },
    "execution": {
     "iopub.execute_input": "2022-04-18T20:52:20.661946Z",
     "iopub.status.busy": "2022-04-18T20:52:20.660909Z",
     "iopub.status.idle": "2022-04-18T20:52:20.673460Z",
     "shell.execute_reply": "2022-04-18T20:52:20.674133Z",
     "shell.execute_reply.started": "2022-04-18T18:46:56.601866Z"
    },
    "id": "ed92370b",
    "outputId": "e62af81f-b49e-48c8-a408-3ade7dac8350",
    "papermill": {
     "duration": 0.09208,
     "end_time": "2022-04-18T20:52:20.674345",
     "exception": false,
     "start_time": "2022-04-18T20:52:20.582265",
     "status": "completed"
    },
    "tags": []
   },
   "outputs": [
    {
     "data": {
      "text/html": [
       "<div>\n",
       "<style scoped>\n",
       "    .dataframe tbody tr th:only-of-type {\n",
       "        vertical-align: middle;\n",
       "    }\n",
       "\n",
       "    .dataframe tbody tr th {\n",
       "        vertical-align: top;\n",
       "    }\n",
       "\n",
       "    .dataframe thead th {\n",
       "        text-align: right;\n",
       "    }\n",
       "</style>\n",
       "<table border=\"1\" class=\"dataframe\">\n",
       "  <thead>\n",
       "    <tr style=\"text-align: right;\">\n",
       "      <th></th>\n",
       "      <th>Area</th>\n",
       "      <th>Item</th>\n",
       "      <th>Year</th>\n",
       "      <th>hg/ha_yield</th>\n",
       "    </tr>\n",
       "  </thead>\n",
       "  <tbody>\n",
       "    <tr>\n",
       "      <th>0</th>\n",
       "      <td>Afghanistan</td>\n",
       "      <td>Maize</td>\n",
       "      <td>1961</td>\n",
       "      <td>14000</td>\n",
       "    </tr>\n",
       "    <tr>\n",
       "      <th>1</th>\n",
       "      <td>Afghanistan</td>\n",
       "      <td>Maize</td>\n",
       "      <td>1962</td>\n",
       "      <td>14000</td>\n",
       "    </tr>\n",
       "    <tr>\n",
       "      <th>2</th>\n",
       "      <td>Afghanistan</td>\n",
       "      <td>Maize</td>\n",
       "      <td>1963</td>\n",
       "      <td>14260</td>\n",
       "    </tr>\n",
       "    <tr>\n",
       "      <th>3</th>\n",
       "      <td>Afghanistan</td>\n",
       "      <td>Maize</td>\n",
       "      <td>1964</td>\n",
       "      <td>14257</td>\n",
       "    </tr>\n",
       "    <tr>\n",
       "      <th>4</th>\n",
       "      <td>Afghanistan</td>\n",
       "      <td>Maize</td>\n",
       "      <td>1965</td>\n",
       "      <td>14400</td>\n",
       "    </tr>\n",
       "  </tbody>\n",
       "</table>\n",
       "</div>"
      ],
      "text/plain": [
       "          Area   Item  Year  hg/ha_yield\n",
       "0  Afghanistan  Maize  1961        14000\n",
       "1  Afghanistan  Maize  1962        14000\n",
       "2  Afghanistan  Maize  1963        14260\n",
       "3  Afghanistan  Maize  1964        14257\n",
       "4  Afghanistan  Maize  1965        14400"
      ]
     },
     "execution_count": 6,
     "metadata": {},
     "output_type": "execute_result"
    }
   ],
   "source": [
    "# drop unwanted columns.\n",
    "df_yield = df_yield.drop(['Year Code','Element Code','Element','Year Code','Area Code','Domain Code','Domain','Unit','Item Code'], axis=1)\n",
    "df_yield.head()"
   ]
  },
  {
   "cell_type": "code",
   "execution_count": 7,
   "id": "6419290a",
   "metadata": {
    "colab": {
     "base_uri": "https://localhost:8080/",
     "height": 300
    },
    "execution": {
     "iopub.execute_input": "2022-04-18T20:52:20.829784Z",
     "iopub.status.busy": "2022-04-18T20:52:20.828113Z",
     "iopub.status.idle": "2022-04-18T20:52:20.850780Z",
     "shell.execute_reply": "2022-04-18T20:52:20.850094Z",
     "shell.execute_reply.started": "2022-04-18T18:47:00.293265Z"
    },
    "id": "6419290a",
    "outputId": "0eac4dbe-1065-426d-b292-53ff92e70852",
    "papermill": {
     "duration": 0.106403,
     "end_time": "2022-04-18T20:52:20.850950",
     "exception": false,
     "start_time": "2022-04-18T20:52:20.744547",
     "status": "completed"
    },
    "scrolled": true,
    "tags": []
   },
   "outputs": [
    {
     "data": {
      "text/html": [
       "<div>\n",
       "<style scoped>\n",
       "    .dataframe tbody tr th:only-of-type {\n",
       "        vertical-align: middle;\n",
       "    }\n",
       "\n",
       "    .dataframe tbody tr th {\n",
       "        vertical-align: top;\n",
       "    }\n",
       "\n",
       "    .dataframe thead th {\n",
       "        text-align: right;\n",
       "    }\n",
       "</style>\n",
       "<table border=\"1\" class=\"dataframe\">\n",
       "  <thead>\n",
       "    <tr style=\"text-align: right;\">\n",
       "      <th></th>\n",
       "      <th>Year</th>\n",
       "      <th>hg/ha_yield</th>\n",
       "    </tr>\n",
       "  </thead>\n",
       "  <tbody>\n",
       "    <tr>\n",
       "      <th>count</th>\n",
       "      <td>56717.000000</td>\n",
       "      <td>56717.000000</td>\n",
       "    </tr>\n",
       "    <tr>\n",
       "      <th>mean</th>\n",
       "      <td>1989.669570</td>\n",
       "      <td>62094.660084</td>\n",
       "    </tr>\n",
       "    <tr>\n",
       "      <th>std</th>\n",
       "      <td>16.133198</td>\n",
       "      <td>67835.932856</td>\n",
       "    </tr>\n",
       "    <tr>\n",
       "      <th>min</th>\n",
       "      <td>1961.000000</td>\n",
       "      <td>0.000000</td>\n",
       "    </tr>\n",
       "    <tr>\n",
       "      <th>25%</th>\n",
       "      <td>1976.000000</td>\n",
       "      <td>15680.000000</td>\n",
       "    </tr>\n",
       "    <tr>\n",
       "      <th>50%</th>\n",
       "      <td>1991.000000</td>\n",
       "      <td>36744.000000</td>\n",
       "    </tr>\n",
       "    <tr>\n",
       "      <th>75%</th>\n",
       "      <td>2004.000000</td>\n",
       "      <td>86213.000000</td>\n",
       "    </tr>\n",
       "    <tr>\n",
       "      <th>max</th>\n",
       "      <td>2016.000000</td>\n",
       "      <td>1000000.000000</td>\n",
       "    </tr>\n",
       "  </tbody>\n",
       "</table>\n",
       "</div>"
      ],
      "text/plain": [
       "               Year     hg/ha_yield\n",
       "count  56717.000000    56717.000000\n",
       "mean    1989.669570    62094.660084\n",
       "std       16.133198    67835.932856\n",
       "min     1961.000000        0.000000\n",
       "25%     1976.000000    15680.000000\n",
       "50%     1991.000000    36744.000000\n",
       "75%     2004.000000    86213.000000\n",
       "max     2016.000000  1000000.000000"
      ]
     },
     "execution_count": 7,
     "metadata": {},
     "output_type": "execute_result"
    }
   ],
   "source": [
    "df_yield.describe()"
   ]
  },
  {
   "cell_type": "code",
   "execution_count": 8,
   "id": "49ce945c",
   "metadata": {
    "colab": {
     "base_uri": "https://localhost:8080/"
    },
    "execution": {
     "iopub.execute_input": "2022-04-18T20:52:21.013620Z",
     "iopub.status.busy": "2022-04-18T20:52:21.012456Z",
     "iopub.status.idle": "2022-04-18T20:52:21.027794Z",
     "shell.execute_reply": "2022-04-18T20:52:21.027120Z",
     "shell.execute_reply.started": "2022-04-18T18:47:06.230458Z"
    },
    "id": "49ce945c",
    "outputId": "fcf30a8c-a4d3-46f9-e507-8f74e21178e2",
    "papermill": {
     "duration": 0.10595,
     "end_time": "2022-04-18T20:52:21.027972",
     "exception": false,
     "start_time": "2022-04-18T20:52:20.922022",
     "status": "completed"
    },
    "tags": []
   },
   "outputs": [
    {
     "name": "stdout",
     "output_type": "stream",
     "text": [
      "<class 'pandas.core.frame.DataFrame'>\n",
      "Index: 56717 entries, 0 to 56716\n",
      "Data columns (total 4 columns):\n",
      " #   Column       Non-Null Count  Dtype \n",
      "---  ------       --------------  ----- \n",
      " 0   Area         56717 non-null  object\n",
      " 1   Item         56717 non-null  object\n",
      " 2   Year         56717 non-null  int64 \n",
      " 3   hg/ha_yield  56717 non-null  int64 \n",
      "dtypes: int64(2), object(2)\n",
      "memory usage: 2.2+ MB\n"
     ]
    }
   ],
   "source": [
    "df_yield.info()"
   ]
  },
  {
   "cell_type": "markdown",
   "id": "59bf1fa6",
   "metadata": {
    "id": "59bf1fa6",
    "papermill": {
     "duration": 0.069909,
     "end_time": "2022-04-18T20:52:21.168590",
     "exception": false,
     "start_time": "2022-04-18T20:52:21.098681",
     "status": "completed"
    },
    "tags": []
   },
   "source": [
    "### Climate Data : Rainfall \n",
    "The climatic factors include rainfall and temperature. They are abiotic components, including pesticides and soil, of the environmental factors that influence plant growth and development.\n",
    "\n",
    "\n",
    "Rainfall has a dramatic effect on agriculture. For this project rain fall per year information was gathered from World Data Bank. "
   ]
  },
  {
   "cell_type": "code",
   "execution_count": 9,
   "id": "cd9f71c9",
   "metadata": {
    "colab": {
     "base_uri": "https://localhost:8080/",
     "height": 206
    },
    "execution": {
     "iopub.execute_input": "2022-04-18T20:52:21.317458Z",
     "iopub.status.busy": "2022-04-18T20:52:21.316716Z",
     "iopub.status.idle": "2022-04-18T20:52:21.348157Z",
     "shell.execute_reply": "2022-04-18T20:52:21.347522Z",
     "shell.execute_reply.started": "2022-04-18T18:47:11.615933Z"
    },
    "id": "cd9f71c9",
    "outputId": "7ecf351d-0be7-41a5-be2d-e9a093a12316",
    "papermill": {
     "duration": 0.107241,
     "end_time": "2022-04-18T20:52:21.348317",
     "exception": false,
     "start_time": "2022-04-18T20:52:21.241076",
     "status": "completed"
    },
    "scrolled": true,
    "tags": []
   },
   "outputs": [
    {
     "data": {
      "text/html": [
       "<div>\n",
       "<style scoped>\n",
       "    .dataframe tbody tr th:only-of-type {\n",
       "        vertical-align: middle;\n",
       "    }\n",
       "\n",
       "    .dataframe tbody tr th {\n",
       "        vertical-align: top;\n",
       "    }\n",
       "\n",
       "    .dataframe thead th {\n",
       "        text-align: right;\n",
       "    }\n",
       "</style>\n",
       "<table border=\"1\" class=\"dataframe\">\n",
       "  <thead>\n",
       "    <tr style=\"text-align: right;\">\n",
       "      <th></th>\n",
       "      <th>Area</th>\n",
       "      <th>Year</th>\n",
       "      <th>average_rain_fall_mm_per_year</th>\n",
       "    </tr>\n",
       "  </thead>\n",
       "  <tbody>\n",
       "    <tr>\n",
       "      <th>0</th>\n",
       "      <td>Afghanistan</td>\n",
       "      <td>1985</td>\n",
       "      <td>327</td>\n",
       "    </tr>\n",
       "    <tr>\n",
       "      <th>1</th>\n",
       "      <td>Afghanistan</td>\n",
       "      <td>1986</td>\n",
       "      <td>327</td>\n",
       "    </tr>\n",
       "    <tr>\n",
       "      <th>2</th>\n",
       "      <td>Afghanistan</td>\n",
       "      <td>1987</td>\n",
       "      <td>327</td>\n",
       "    </tr>\n",
       "    <tr>\n",
       "      <th>3</th>\n",
       "      <td>Afghanistan</td>\n",
       "      <td>1989</td>\n",
       "      <td>327</td>\n",
       "    </tr>\n",
       "    <tr>\n",
       "      <th>4</th>\n",
       "      <td>Afghanistan</td>\n",
       "      <td>1990</td>\n",
       "      <td>327</td>\n",
       "    </tr>\n",
       "  </tbody>\n",
       "</table>\n",
       "</div>"
      ],
      "text/plain": [
       "          Area  Year average_rain_fall_mm_per_year\n",
       "0  Afghanistan  1985                           327\n",
       "1  Afghanistan  1986                           327\n",
       "2  Afghanistan  1987                           327\n",
       "3  Afghanistan  1989                           327\n",
       "4  Afghanistan  1990                           327"
      ]
     },
     "execution_count": 9,
     "metadata": {},
     "output_type": "execute_result"
    }
   ],
   "source": [
    "df_rain = pd.read_csv('rainfall.csv')\n",
    "df_rain.head()"
   ]
  },
  {
   "cell_type": "code",
   "execution_count": 10,
   "id": "c7bcefd2",
   "metadata": {
    "colab": {
     "base_uri": "https://localhost:8080/",
     "height": 206
    },
    "execution": {
     "iopub.execute_input": "2022-04-18T20:52:21.503790Z",
     "iopub.status.busy": "2022-04-18T20:52:21.503056Z",
     "iopub.status.idle": "2022-04-18T20:52:21.506984Z",
     "shell.execute_reply": "2022-04-18T20:52:21.506469Z",
     "shell.execute_reply.started": "2022-04-18T18:47:43.186431Z"
    },
    "id": "c7bcefd2",
    "outputId": "754acb84-a5a1-46fa-9ac1-7775e080b44f",
    "papermill": {
     "duration": 0.087294,
     "end_time": "2022-04-18T20:52:21.507160",
     "exception": false,
     "start_time": "2022-04-18T20:52:21.419866",
     "status": "completed"
    },
    "tags": []
   },
   "outputs": [
    {
     "data": {
      "text/html": [
       "<div>\n",
       "<style scoped>\n",
       "    .dataframe tbody tr th:only-of-type {\n",
       "        vertical-align: middle;\n",
       "    }\n",
       "\n",
       "    .dataframe tbody tr th {\n",
       "        vertical-align: top;\n",
       "    }\n",
       "\n",
       "    .dataframe thead th {\n",
       "        text-align: right;\n",
       "    }\n",
       "</style>\n",
       "<table border=\"1\" class=\"dataframe\">\n",
       "  <thead>\n",
       "    <tr style=\"text-align: right;\">\n",
       "      <th></th>\n",
       "      <th>Area</th>\n",
       "      <th>Year</th>\n",
       "      <th>average_rain_fall_mm_per_year</th>\n",
       "    </tr>\n",
       "  </thead>\n",
       "  <tbody>\n",
       "    <tr>\n",
       "      <th>6722</th>\n",
       "      <td>Zimbabwe</td>\n",
       "      <td>2013</td>\n",
       "      <td>657</td>\n",
       "    </tr>\n",
       "    <tr>\n",
       "      <th>6723</th>\n",
       "      <td>Zimbabwe</td>\n",
       "      <td>2014</td>\n",
       "      <td>657</td>\n",
       "    </tr>\n",
       "    <tr>\n",
       "      <th>6724</th>\n",
       "      <td>Zimbabwe</td>\n",
       "      <td>2015</td>\n",
       "      <td>657</td>\n",
       "    </tr>\n",
       "    <tr>\n",
       "      <th>6725</th>\n",
       "      <td>Zimbabwe</td>\n",
       "      <td>2016</td>\n",
       "      <td>657</td>\n",
       "    </tr>\n",
       "    <tr>\n",
       "      <th>6726</th>\n",
       "      <td>Zimbabwe</td>\n",
       "      <td>2017</td>\n",
       "      <td>657</td>\n",
       "    </tr>\n",
       "  </tbody>\n",
       "</table>\n",
       "</div>"
      ],
      "text/plain": [
       "          Area  Year average_rain_fall_mm_per_year\n",
       "6722  Zimbabwe  2013                           657\n",
       "6723  Zimbabwe  2014                           657\n",
       "6724  Zimbabwe  2015                           657\n",
       "6725  Zimbabwe  2016                           657\n",
       "6726  Zimbabwe  2017                           657"
      ]
     },
     "execution_count": 10,
     "metadata": {},
     "output_type": "execute_result"
    }
   ],
   "source": [
    "df_rain.tail()"
   ]
  },
  {
   "cell_type": "code",
   "execution_count": 11,
   "id": "a99250d4",
   "metadata": {
    "execution": {
     "iopub.execute_input": "2022-04-18T20:52:21.661905Z",
     "iopub.status.busy": "2022-04-18T20:52:21.661108Z",
     "iopub.status.idle": "2022-04-18T20:52:21.664102Z",
     "shell.execute_reply": "2022-04-18T20:52:21.663551Z",
     "shell.execute_reply.started": "2022-04-18T18:47:53.960938Z"
    },
    "id": "a99250d4",
    "papermill": {
     "duration": 0.085149,
     "end_time": "2022-04-18T20:52:21.664277",
     "exception": false,
     "start_time": "2022-04-18T20:52:21.579128",
     "status": "completed"
    },
    "tags": []
   },
   "outputs": [],
   "source": [
    "df_rain = df_rain.rename(index=str, columns={\" Area\": 'Area'})"
   ]
  },
  {
   "cell_type": "markdown",
   "id": "30e469c7",
   "metadata": {
    "id": "30e469c7",
    "papermill": {
     "duration": 0.072214,
     "end_time": "2022-04-18T20:52:21.809359",
     "exception": false,
     "start_time": "2022-04-18T20:52:21.737145",
     "status": "completed"
    },
    "tags": []
   },
   "source": [
    "Checking for the datatypes"
   ]
  },
  {
   "cell_type": "code",
   "execution_count": 12,
   "id": "9ae1f148",
   "metadata": {
    "colab": {
     "base_uri": "https://localhost:8080/"
    },
    "execution": {
     "iopub.execute_input": "2022-04-18T20:52:21.970516Z",
     "iopub.status.busy": "2022-04-18T20:52:21.969722Z",
     "iopub.status.idle": "2022-04-18T20:52:21.973560Z",
     "shell.execute_reply": "2022-04-18T20:52:21.972466Z",
     "shell.execute_reply.started": "2022-04-18T18:47:59.966938Z"
    },
    "id": "9ae1f148",
    "outputId": "312eb5ed-a2da-4fbb-c541-90a7382a5efa",
    "papermill": {
     "duration": 0.092147,
     "end_time": "2022-04-18T20:52:21.973729",
     "exception": false,
     "start_time": "2022-04-18T20:52:21.881582",
     "status": "completed"
    },
    "scrolled": true,
    "tags": []
   },
   "outputs": [
    {
     "name": "stdout",
     "output_type": "stream",
     "text": [
      "<class 'pandas.core.frame.DataFrame'>\n",
      "Index: 6727 entries, 0 to 6726\n",
      "Data columns (total 3 columns):\n",
      " #   Column                         Non-Null Count  Dtype \n",
      "---  ------                         --------------  ----- \n",
      " 0   Area                           6727 non-null   object\n",
      " 1   Year                           6727 non-null   int64 \n",
      " 2   average_rain_fall_mm_per_year  5953 non-null   object\n",
      "dtypes: int64(1), object(2)\n",
      "memory usage: 210.2+ KB\n"
     ]
    }
   ],
   "source": [
    "df_rain.info()"
   ]
  },
  {
   "cell_type": "markdown",
   "id": "417bf0ee",
   "metadata": {
    "id": "417bf0ee",
    "papermill": {
     "duration": 0.073862,
     "end_time": "2022-04-18T20:52:22.121133",
     "exception": false,
     "start_time": "2022-04-18T20:52:22.047271",
     "status": "completed"
    },
    "tags": []
   },
   "source": [
    "convert average_rain_fall_mm_per_year from object to float"
   ]
  },
  {
   "cell_type": "code",
   "execution_count": 13,
   "id": "98fa3d82",
   "metadata": {
    "colab": {
     "base_uri": "https://localhost:8080/"
    },
    "execution": {
     "iopub.execute_input": "2022-04-18T20:52:22.294853Z",
     "iopub.status.busy": "2022-04-18T20:52:22.294046Z",
     "iopub.status.idle": "2022-04-18T20:52:22.299386Z",
     "shell.execute_reply": "2022-04-18T20:52:22.297902Z",
     "shell.execute_reply.started": "2022-04-18T18:48:37.915257Z"
    },
    "id": "98fa3d82",
    "outputId": "259c00db-2a97-4f38-a413-abb4c4e5a640",
    "papermill": {
     "duration": 0.104126,
     "end_time": "2022-04-18T20:52:22.299635",
     "exception": false,
     "start_time": "2022-04-18T20:52:22.195509",
     "status": "completed"
    },
    "scrolled": true,
    "tags": []
   },
   "outputs": [
    {
     "name": "stdout",
     "output_type": "stream",
     "text": [
      "<class 'pandas.core.frame.DataFrame'>\n",
      "Index: 6727 entries, 0 to 6726\n",
      "Data columns (total 3 columns):\n",
      " #   Column                         Non-Null Count  Dtype  \n",
      "---  ------                         --------------  -----  \n",
      " 0   Area                           6727 non-null   object \n",
      " 1   Year                           6727 non-null   int64  \n",
      " 2   average_rain_fall_mm_per_year  5947 non-null   float64\n",
      "dtypes: float64(1), int64(1), object(1)\n",
      "memory usage: 210.2+ KB\n"
     ]
    }
   ],
   "source": [
    "df_rain['average_rain_fall_mm_per_year'] = pd.to_numeric(df_rain['average_rain_fall_mm_per_year'],errors = 'coerce')\n",
    "df_rain.info()"
   ]
  },
  {
   "cell_type": "markdown",
   "id": "7b082c5a",
   "metadata": {
    "id": "7b082c5a",
    "papermill": {
     "duration": 0.074368,
     "end_time": "2022-04-18T20:52:22.461713",
     "exception": false,
     "start_time": "2022-04-18T20:52:22.387345",
     "status": "completed"
    },
    "tags": []
   },
   "source": [
    "Next, droping any empty rows from dataset and merge yield dataframe with rain dataframe by year and area columns"
   ]
  },
  {
   "cell_type": "code",
   "execution_count": 14,
   "id": "d9b7187b",
   "metadata": {
    "execution": {
     "iopub.execute_input": "2022-04-18T20:52:22.618383Z",
     "iopub.status.busy": "2022-04-18T20:52:22.616081Z",
     "iopub.status.idle": "2022-04-18T20:52:22.622143Z",
     "shell.execute_reply": "2022-04-18T20:52:22.621502Z",
     "shell.execute_reply.started": "2022-04-18T18:48:56.760810Z"
    },
    "id": "d9b7187b",
    "papermill": {
     "duration": 0.087026,
     "end_time": "2022-04-18T20:52:22.622305",
     "exception": false,
     "start_time": "2022-04-18T20:52:22.535279",
     "status": "completed"
    },
    "tags": []
   },
   "outputs": [],
   "source": [
    "df_rain = df_rain.dropna()"
   ]
  },
  {
   "cell_type": "code",
   "execution_count": 15,
   "id": "cd691c3d",
   "metadata": {
    "colab": {
     "base_uri": "https://localhost:8080/",
     "height": 300
    },
    "execution": {
     "iopub.execute_input": "2022-04-18T20:52:22.779207Z",
     "iopub.status.busy": "2022-04-18T20:52:22.777321Z",
     "iopub.status.idle": "2022-04-18T20:52:22.791583Z",
     "shell.execute_reply": "2022-04-18T20:52:22.792280Z",
     "shell.execute_reply.started": "2022-04-18T18:49:15.557301Z"
    },
    "id": "cd691c3d",
    "outputId": "0aea7d7f-e817-46ac-8a03-2416ad44677b",
    "papermill": {
     "duration": 0.097315,
     "end_time": "2022-04-18T20:52:22.792506",
     "exception": false,
     "start_time": "2022-04-18T20:52:22.695191",
     "status": "completed"
    },
    "scrolled": true,
    "tags": []
   },
   "outputs": [
    {
     "data": {
      "text/html": [
       "<div>\n",
       "<style scoped>\n",
       "    .dataframe tbody tr th:only-of-type {\n",
       "        vertical-align: middle;\n",
       "    }\n",
       "\n",
       "    .dataframe tbody tr th {\n",
       "        vertical-align: top;\n",
       "    }\n",
       "\n",
       "    .dataframe thead th {\n",
       "        text-align: right;\n",
       "    }\n",
       "</style>\n",
       "<table border=\"1\" class=\"dataframe\">\n",
       "  <thead>\n",
       "    <tr style=\"text-align: right;\">\n",
       "      <th></th>\n",
       "      <th>Year</th>\n",
       "      <th>average_rain_fall_mm_per_year</th>\n",
       "    </tr>\n",
       "  </thead>\n",
       "  <tbody>\n",
       "    <tr>\n",
       "      <th>count</th>\n",
       "      <td>5947.000000</td>\n",
       "      <td>5947.000000</td>\n",
       "    </tr>\n",
       "    <tr>\n",
       "      <th>mean</th>\n",
       "      <td>2001.365899</td>\n",
       "      <td>1124.743232</td>\n",
       "    </tr>\n",
       "    <tr>\n",
       "      <th>std</th>\n",
       "      <td>9.526335</td>\n",
       "      <td>786.257365</td>\n",
       "    </tr>\n",
       "    <tr>\n",
       "      <th>min</th>\n",
       "      <td>1985.000000</td>\n",
       "      <td>51.000000</td>\n",
       "    </tr>\n",
       "    <tr>\n",
       "      <th>25%</th>\n",
       "      <td>1993.000000</td>\n",
       "      <td>534.000000</td>\n",
       "    </tr>\n",
       "    <tr>\n",
       "      <th>50%</th>\n",
       "      <td>2001.000000</td>\n",
       "      <td>1010.000000</td>\n",
       "    </tr>\n",
       "    <tr>\n",
       "      <th>75%</th>\n",
       "      <td>2010.000000</td>\n",
       "      <td>1651.000000</td>\n",
       "    </tr>\n",
       "    <tr>\n",
       "      <th>max</th>\n",
       "      <td>2017.000000</td>\n",
       "      <td>3240.000000</td>\n",
       "    </tr>\n",
       "  </tbody>\n",
       "</table>\n",
       "</div>"
      ],
      "text/plain": [
       "              Year  average_rain_fall_mm_per_year\n",
       "count  5947.000000                    5947.000000\n",
       "mean   2001.365899                    1124.743232\n",
       "std       9.526335                     786.257365\n",
       "min    1985.000000                      51.000000\n",
       "25%    1993.000000                     534.000000\n",
       "50%    2001.000000                    1010.000000\n",
       "75%    2010.000000                    1651.000000\n",
       "max    2017.000000                    3240.000000"
      ]
     },
     "execution_count": 15,
     "metadata": {},
     "output_type": "execute_result"
    }
   ],
   "source": [
    "df_rain.describe()"
   ]
  },
  {
   "cell_type": "markdown",
   "id": "66d74c12",
   "metadata": {
    "id": "66d74c12",
    "papermill": {
     "duration": 0.073242,
     "end_time": "2022-04-18T20:52:22.938861",
     "exception": false,
     "start_time": "2022-04-18T20:52:22.865619",
     "status": "completed"
    },
    "tags": []
   },
   "source": [
    "The rainfall dataframe begins at 1985 and ends at 2016. "
   ]
  },
  {
   "cell_type": "markdown",
   "id": "89f3d93a",
   "metadata": {
    "id": "89f3d93a",
    "papermill": {
     "duration": 0.073571,
     "end_time": "2022-04-18T20:52:23.086577",
     "exception": false,
     "start_time": "2022-04-18T20:52:23.013006",
     "status": "completed"
    },
    "tags": []
   },
   "source": [
    "Merge Yield Dataframe with rain Dataframe by year and area columns "
   ]
  },
  {
   "cell_type": "code",
   "execution_count": 16,
   "id": "86d752d1",
   "metadata": {
    "execution": {
     "iopub.execute_input": "2022-04-18T20:52:23.242680Z",
     "iopub.status.busy": "2022-04-18T20:52:23.241915Z",
     "iopub.status.idle": "2022-04-18T20:52:23.272724Z",
     "shell.execute_reply": "2022-04-18T20:52:23.271983Z",
     "shell.execute_reply.started": "2022-04-18T18:50:02.554899Z"
    },
    "id": "86d752d1",
    "papermill": {
     "duration": 0.109882,
     "end_time": "2022-04-18T20:52:23.272940",
     "exception": false,
     "start_time": "2022-04-18T20:52:23.163058",
     "status": "completed"
    },
    "tags": []
   },
   "outputs": [],
   "source": [
    "yield_df = pd.merge(df_yield, df_rain, on=['Year','Area'])"
   ]
  },
  {
   "cell_type": "code",
   "execution_count": 17,
   "id": "1b176dc8",
   "metadata": {
    "colab": {
     "base_uri": "https://localhost:8080/",
     "height": 206
    },
    "execution": {
     "iopub.execute_input": "2022-04-18T20:52:23.451163Z",
     "iopub.status.busy": "2022-04-18T20:52:23.445315Z",
     "iopub.status.idle": "2022-04-18T20:52:23.456097Z",
     "shell.execute_reply": "2022-04-18T20:52:23.455290Z",
     "shell.execute_reply.started": "2022-04-18T18:50:29.048773Z"
    },
    "id": "1b176dc8",
    "outputId": "bcc706a8-a4b5-4e70-8880-98cbd4ac470d",
    "papermill": {
     "duration": 0.097403,
     "end_time": "2022-04-18T20:52:23.456262",
     "exception": false,
     "start_time": "2022-04-18T20:52:23.358859",
     "status": "completed"
    },
    "scrolled": true,
    "tags": []
   },
   "outputs": [
    {
     "data": {
      "text/html": [
       "<div>\n",
       "<style scoped>\n",
       "    .dataframe tbody tr th:only-of-type {\n",
       "        vertical-align: middle;\n",
       "    }\n",
       "\n",
       "    .dataframe tbody tr th {\n",
       "        vertical-align: top;\n",
       "    }\n",
       "\n",
       "    .dataframe thead th {\n",
       "        text-align: right;\n",
       "    }\n",
       "</style>\n",
       "<table border=\"1\" class=\"dataframe\">\n",
       "  <thead>\n",
       "    <tr style=\"text-align: right;\">\n",
       "      <th></th>\n",
       "      <th>Area</th>\n",
       "      <th>Item</th>\n",
       "      <th>Year</th>\n",
       "      <th>hg/ha_yield</th>\n",
       "      <th>average_rain_fall_mm_per_year</th>\n",
       "    </tr>\n",
       "  </thead>\n",
       "  <tbody>\n",
       "    <tr>\n",
       "      <th>0</th>\n",
       "      <td>Afghanistan</td>\n",
       "      <td>Maize</td>\n",
       "      <td>1985</td>\n",
       "      <td>16652</td>\n",
       "      <td>327.0</td>\n",
       "    </tr>\n",
       "    <tr>\n",
       "      <th>1</th>\n",
       "      <td>Afghanistan</td>\n",
       "      <td>Potatoes</td>\n",
       "      <td>1985</td>\n",
       "      <td>140909</td>\n",
       "      <td>327.0</td>\n",
       "    </tr>\n",
       "    <tr>\n",
       "      <th>2</th>\n",
       "      <td>Afghanistan</td>\n",
       "      <td>Rice, paddy</td>\n",
       "      <td>1985</td>\n",
       "      <td>22482</td>\n",
       "      <td>327.0</td>\n",
       "    </tr>\n",
       "    <tr>\n",
       "      <th>3</th>\n",
       "      <td>Afghanistan</td>\n",
       "      <td>Wheat</td>\n",
       "      <td>1985</td>\n",
       "      <td>12277</td>\n",
       "      <td>327.0</td>\n",
       "    </tr>\n",
       "    <tr>\n",
       "      <th>4</th>\n",
       "      <td>Afghanistan</td>\n",
       "      <td>Maize</td>\n",
       "      <td>1986</td>\n",
       "      <td>16875</td>\n",
       "      <td>327.0</td>\n",
       "    </tr>\n",
       "  </tbody>\n",
       "</table>\n",
       "</div>"
      ],
      "text/plain": [
       "          Area         Item  Year  hg/ha_yield  average_rain_fall_mm_per_year\n",
       "0  Afghanistan        Maize  1985        16652                          327.0\n",
       "1  Afghanistan     Potatoes  1985       140909                          327.0\n",
       "2  Afghanistan  Rice, paddy  1985        22482                          327.0\n",
       "3  Afghanistan        Wheat  1985        12277                          327.0\n",
       "4  Afghanistan        Maize  1986        16875                          327.0"
      ]
     },
     "execution_count": 17,
     "metadata": {},
     "output_type": "execute_result"
    }
   ],
   "source": [
    "yield_df.head()"
   ]
  },
  {
   "cell_type": "markdown",
   "id": "473dad4b",
   "metadata": {
    "id": "473dad4b",
    "papermill": {
     "duration": 0.074573,
     "end_time": "2022-04-18T20:52:23.605514",
     "exception": false,
     "start_time": "2022-04-18T20:52:23.530941",
     "status": "completed"
    },
    "tags": []
   },
   "source": [
    "We can see that now the years start from the first yield dataframe the starting year was 1961, now it's 1985 because that's when the rainfall data begins. "
   ]
  },
  {
   "cell_type": "code",
   "execution_count": 18,
   "id": "29059f71",
   "metadata": {
    "colab": {
     "base_uri": "https://localhost:8080/",
     "height": 300
    },
    "execution": {
     "iopub.execute_input": "2022-04-18T20:52:23.760828Z",
     "iopub.status.busy": "2022-04-18T20:52:23.759701Z",
     "iopub.status.idle": "2022-04-18T20:52:23.779290Z",
     "shell.execute_reply": "2022-04-18T20:52:23.779861Z",
     "shell.execute_reply.started": "2022-04-18T18:50:35.366488Z"
    },
    "id": "29059f71",
    "outputId": "ca634a24-d2d9-425a-fc57-f05365986673",
    "papermill": {
     "duration": 0.101728,
     "end_time": "2022-04-18T20:52:23.780066",
     "exception": false,
     "start_time": "2022-04-18T20:52:23.678338",
     "status": "completed"
    },
    "scrolled": true,
    "tags": []
   },
   "outputs": [
    {
     "data": {
      "text/html": [
       "<div>\n",
       "<style scoped>\n",
       "    .dataframe tbody tr th:only-of-type {\n",
       "        vertical-align: middle;\n",
       "    }\n",
       "\n",
       "    .dataframe tbody tr th {\n",
       "        vertical-align: top;\n",
       "    }\n",
       "\n",
       "    .dataframe thead th {\n",
       "        text-align: right;\n",
       "    }\n",
       "</style>\n",
       "<table border=\"1\" class=\"dataframe\">\n",
       "  <thead>\n",
       "    <tr style=\"text-align: right;\">\n",
       "      <th></th>\n",
       "      <th>Year</th>\n",
       "      <th>hg/ha_yield</th>\n",
       "      <th>average_rain_fall_mm_per_year</th>\n",
       "    </tr>\n",
       "  </thead>\n",
       "  <tbody>\n",
       "    <tr>\n",
       "      <th>count</th>\n",
       "      <td>25385.000000</td>\n",
       "      <td>25385.000000</td>\n",
       "      <td>25385.000000</td>\n",
       "    </tr>\n",
       "    <tr>\n",
       "      <th>mean</th>\n",
       "      <td>2001.278787</td>\n",
       "      <td>68312.278353</td>\n",
       "      <td>1254.849754</td>\n",
       "    </tr>\n",
       "    <tr>\n",
       "      <th>std</th>\n",
       "      <td>9.143915</td>\n",
       "      <td>75213.292733</td>\n",
       "      <td>804.449430</td>\n",
       "    </tr>\n",
       "    <tr>\n",
       "      <th>min</th>\n",
       "      <td>1985.000000</td>\n",
       "      <td>50.000000</td>\n",
       "      <td>51.000000</td>\n",
       "    </tr>\n",
       "    <tr>\n",
       "      <th>25%</th>\n",
       "      <td>1994.000000</td>\n",
       "      <td>17432.000000</td>\n",
       "      <td>630.000000</td>\n",
       "    </tr>\n",
       "    <tr>\n",
       "      <th>50%</th>\n",
       "      <td>2001.000000</td>\n",
       "      <td>38750.000000</td>\n",
       "      <td>1150.000000</td>\n",
       "    </tr>\n",
       "    <tr>\n",
       "      <th>75%</th>\n",
       "      <td>2009.000000</td>\n",
       "      <td>94286.000000</td>\n",
       "      <td>1761.000000</td>\n",
       "    </tr>\n",
       "    <tr>\n",
       "      <th>max</th>\n",
       "      <td>2016.000000</td>\n",
       "      <td>554855.000000</td>\n",
       "      <td>3240.000000</td>\n",
       "    </tr>\n",
       "  </tbody>\n",
       "</table>\n",
       "</div>"
      ],
      "text/plain": [
       "               Year    hg/ha_yield  average_rain_fall_mm_per_year\n",
       "count  25385.000000   25385.000000                   25385.000000\n",
       "mean    2001.278787   68312.278353                    1254.849754\n",
       "std        9.143915   75213.292733                     804.449430\n",
       "min     1985.000000      50.000000                      51.000000\n",
       "25%     1994.000000   17432.000000                     630.000000\n",
       "50%     2001.000000   38750.000000                    1150.000000\n",
       "75%     2009.000000   94286.000000                    1761.000000\n",
       "max     2016.000000  554855.000000                    3240.000000"
      ]
     },
     "execution_count": 18,
     "metadata": {},
     "output_type": "execute_result"
    }
   ],
   "source": [
    "yield_df.describe()"
   ]
  },
  {
   "cell_type": "markdown",
   "id": "94ae6622",
   "metadata": {
    "id": "94ae6622",
    "papermill": {
     "duration": 0.073481,
     "end_time": "2022-04-18T20:52:23.927136",
     "exception": false,
     "start_time": "2022-04-18T20:52:23.853655",
     "status": "completed"
    },
    "tags": []
   },
   "source": [
    "### Pesticides Data:\n",
    "Pesticides used for each item and country was also collected from FAO database.  "
   ]
  },
  {
   "cell_type": "code",
   "execution_count": 19,
   "id": "7ddfee92",
   "metadata": {
    "colab": {
     "base_uri": "https://localhost:8080/",
     "height": 206
    },
    "execution": {
     "iopub.execute_input": "2022-04-18T20:52:24.082939Z",
     "iopub.status.busy": "2022-04-18T20:52:24.082229Z",
     "iopub.status.idle": "2022-04-18T20:52:24.114419Z",
     "shell.execute_reply": "2022-04-18T20:52:24.115082Z",
     "shell.execute_reply.started": "2022-04-18T18:50:38.094652Z"
    },
    "id": "7ddfee92",
    "outputId": "e4096be7-0736-4211-d8d1-bd62f1c0f337",
    "papermill": {
     "duration": 0.114222,
     "end_time": "2022-04-18T20:52:24.115265",
     "exception": false,
     "start_time": "2022-04-18T20:52:24.001043",
     "status": "completed"
    },
    "tags": []
   },
   "outputs": [
    {
     "data": {
      "text/html": [
       "<div>\n",
       "<style scoped>\n",
       "    .dataframe tbody tr th:only-of-type {\n",
       "        vertical-align: middle;\n",
       "    }\n",
       "\n",
       "    .dataframe tbody tr th {\n",
       "        vertical-align: top;\n",
       "    }\n",
       "\n",
       "    .dataframe thead th {\n",
       "        text-align: right;\n",
       "    }\n",
       "</style>\n",
       "<table border=\"1\" class=\"dataframe\">\n",
       "  <thead>\n",
       "    <tr style=\"text-align: right;\">\n",
       "      <th></th>\n",
       "      <th>Domain</th>\n",
       "      <th>Area</th>\n",
       "      <th>Element</th>\n",
       "      <th>Item</th>\n",
       "      <th>Year</th>\n",
       "      <th>Unit</th>\n",
       "      <th>Value</th>\n",
       "    </tr>\n",
       "  </thead>\n",
       "  <tbody>\n",
       "    <tr>\n",
       "      <th>0</th>\n",
       "      <td>Pesticides Use</td>\n",
       "      <td>Albania</td>\n",
       "      <td>Use</td>\n",
       "      <td>Pesticides (total)</td>\n",
       "      <td>1990</td>\n",
       "      <td>tonnes of active ingredients</td>\n",
       "      <td>121.0</td>\n",
       "    </tr>\n",
       "    <tr>\n",
       "      <th>1</th>\n",
       "      <td>Pesticides Use</td>\n",
       "      <td>Albania</td>\n",
       "      <td>Use</td>\n",
       "      <td>Pesticides (total)</td>\n",
       "      <td>1991</td>\n",
       "      <td>tonnes of active ingredients</td>\n",
       "      <td>121.0</td>\n",
       "    </tr>\n",
       "    <tr>\n",
       "      <th>2</th>\n",
       "      <td>Pesticides Use</td>\n",
       "      <td>Albania</td>\n",
       "      <td>Use</td>\n",
       "      <td>Pesticides (total)</td>\n",
       "      <td>1992</td>\n",
       "      <td>tonnes of active ingredients</td>\n",
       "      <td>121.0</td>\n",
       "    </tr>\n",
       "    <tr>\n",
       "      <th>3</th>\n",
       "      <td>Pesticides Use</td>\n",
       "      <td>Albania</td>\n",
       "      <td>Use</td>\n",
       "      <td>Pesticides (total)</td>\n",
       "      <td>1993</td>\n",
       "      <td>tonnes of active ingredients</td>\n",
       "      <td>121.0</td>\n",
       "    </tr>\n",
       "    <tr>\n",
       "      <th>4</th>\n",
       "      <td>Pesticides Use</td>\n",
       "      <td>Albania</td>\n",
       "      <td>Use</td>\n",
       "      <td>Pesticides (total)</td>\n",
       "      <td>1994</td>\n",
       "      <td>tonnes of active ingredients</td>\n",
       "      <td>201.0</td>\n",
       "    </tr>\n",
       "  </tbody>\n",
       "</table>\n",
       "</div>"
      ],
      "text/plain": [
       "           Domain     Area Element                Item  Year  \\\n",
       "0  Pesticides Use  Albania     Use  Pesticides (total)  1990   \n",
       "1  Pesticides Use  Albania     Use  Pesticides (total)  1991   \n",
       "2  Pesticides Use  Albania     Use  Pesticides (total)  1992   \n",
       "3  Pesticides Use  Albania     Use  Pesticides (total)  1993   \n",
       "4  Pesticides Use  Albania     Use  Pesticides (total)  1994   \n",
       "\n",
       "                           Unit  Value  \n",
       "0  tonnes of active ingredients  121.0  \n",
       "1  tonnes of active ingredients  121.0  \n",
       "2  tonnes of active ingredients  121.0  \n",
       "3  tonnes of active ingredients  121.0  \n",
       "4  tonnes of active ingredients  201.0  "
      ]
     },
     "execution_count": 19,
     "metadata": {},
     "output_type": "execute_result"
    }
   ],
   "source": [
    "df_pes = pd.read_csv('pesticides.csv')\n",
    "df_pes.head()"
   ]
  },
  {
   "cell_type": "code",
   "execution_count": 20,
   "id": "14ddf9e9",
   "metadata": {
    "colab": {
     "base_uri": "https://localhost:8080/",
     "height": 206
    },
    "execution": {
     "iopub.execute_input": "2022-04-18T20:52:24.275681Z",
     "iopub.status.busy": "2022-04-18T20:52:24.274262Z",
     "iopub.status.idle": "2022-04-18T20:52:24.290186Z",
     "shell.execute_reply": "2022-04-18T20:52:24.290726Z",
     "shell.execute_reply.started": "2022-04-18T18:50:40.469681Z"
    },
    "id": "14ddf9e9",
    "outputId": "1577eed6-d36e-4c41-9dfa-680a6483169a",
    "papermill": {
     "duration": 0.099813,
     "end_time": "2022-04-18T20:52:24.290910",
     "exception": false,
     "start_time": "2022-04-18T20:52:24.191097",
     "status": "completed"
    },
    "tags": []
   },
   "outputs": [
    {
     "data": {
      "text/html": [
       "<div>\n",
       "<style scoped>\n",
       "    .dataframe tbody tr th:only-of-type {\n",
       "        vertical-align: middle;\n",
       "    }\n",
       "\n",
       "    .dataframe tbody tr th {\n",
       "        vertical-align: top;\n",
       "    }\n",
       "\n",
       "    .dataframe thead th {\n",
       "        text-align: right;\n",
       "    }\n",
       "</style>\n",
       "<table border=\"1\" class=\"dataframe\">\n",
       "  <thead>\n",
       "    <tr style=\"text-align: right;\">\n",
       "      <th></th>\n",
       "      <th>Area</th>\n",
       "      <th>Year</th>\n",
       "      <th>pesticides_tonnes</th>\n",
       "    </tr>\n",
       "  </thead>\n",
       "  <tbody>\n",
       "    <tr>\n",
       "      <th>0</th>\n",
       "      <td>Albania</td>\n",
       "      <td>1990</td>\n",
       "      <td>121.0</td>\n",
       "    </tr>\n",
       "    <tr>\n",
       "      <th>1</th>\n",
       "      <td>Albania</td>\n",
       "      <td>1991</td>\n",
       "      <td>121.0</td>\n",
       "    </tr>\n",
       "    <tr>\n",
       "      <th>2</th>\n",
       "      <td>Albania</td>\n",
       "      <td>1992</td>\n",
       "      <td>121.0</td>\n",
       "    </tr>\n",
       "    <tr>\n",
       "      <th>3</th>\n",
       "      <td>Albania</td>\n",
       "      <td>1993</td>\n",
       "      <td>121.0</td>\n",
       "    </tr>\n",
       "    <tr>\n",
       "      <th>4</th>\n",
       "      <td>Albania</td>\n",
       "      <td>1994</td>\n",
       "      <td>201.0</td>\n",
       "    </tr>\n",
       "  </tbody>\n",
       "</table>\n",
       "</div>"
      ],
      "text/plain": [
       "      Area  Year  pesticides_tonnes\n",
       "0  Albania  1990              121.0\n",
       "1  Albania  1991              121.0\n",
       "2  Albania  1992              121.0\n",
       "3  Albania  1993              121.0\n",
       "4  Albania  1994              201.0"
      ]
     },
     "execution_count": 20,
     "metadata": {},
     "output_type": "execute_result"
    }
   ],
   "source": [
    "df_pes = df_pes.rename(index=str, columns={\"Value\": \"pesticides_tonnes\"})\n",
    "df_pes = df_pes.drop(['Element','Domain','Unit','Item'], axis=1)\n",
    "df_pes.head()"
   ]
  },
  {
   "cell_type": "code",
   "execution_count": 21,
   "id": "01a5d16c",
   "metadata": {
    "colab": {
     "base_uri": "https://localhost:8080/",
     "height": 300
    },
    "execution": {
     "iopub.execute_input": "2022-04-18T20:52:24.453293Z",
     "iopub.status.busy": "2022-04-18T20:52:24.452036Z",
     "iopub.status.idle": "2022-04-18T20:52:24.471456Z",
     "shell.execute_reply": "2022-04-18T20:52:24.470766Z",
     "shell.execute_reply.started": "2022-04-18T18:50:42.988505Z"
    },
    "id": "01a5d16c",
    "outputId": "3e3f8c19-8a00-4086-de09-455360c20d5b",
    "papermill": {
     "duration": 0.101352,
     "end_time": "2022-04-18T20:52:24.471618",
     "exception": false,
     "start_time": "2022-04-18T20:52:24.370266",
     "status": "completed"
    },
    "scrolled": true,
    "tags": []
   },
   "outputs": [
    {
     "data": {
      "text/html": [
       "<div>\n",
       "<style scoped>\n",
       "    .dataframe tbody tr th:only-of-type {\n",
       "        vertical-align: middle;\n",
       "    }\n",
       "\n",
       "    .dataframe tbody tr th {\n",
       "        vertical-align: top;\n",
       "    }\n",
       "\n",
       "    .dataframe thead th {\n",
       "        text-align: right;\n",
       "    }\n",
       "</style>\n",
       "<table border=\"1\" class=\"dataframe\">\n",
       "  <thead>\n",
       "    <tr style=\"text-align: right;\">\n",
       "      <th></th>\n",
       "      <th>Year</th>\n",
       "      <th>pesticides_tonnes</th>\n",
       "    </tr>\n",
       "  </thead>\n",
       "  <tbody>\n",
       "    <tr>\n",
       "      <th>count</th>\n",
       "      <td>4349.000000</td>\n",
       "      <td>4.349000e+03</td>\n",
       "    </tr>\n",
       "    <tr>\n",
       "      <th>mean</th>\n",
       "      <td>2003.138883</td>\n",
       "      <td>2.030334e+04</td>\n",
       "    </tr>\n",
       "    <tr>\n",
       "      <th>std</th>\n",
       "      <td>7.728044</td>\n",
       "      <td>1.177362e+05</td>\n",
       "    </tr>\n",
       "    <tr>\n",
       "      <th>min</th>\n",
       "      <td>1990.000000</td>\n",
       "      <td>0.000000e+00</td>\n",
       "    </tr>\n",
       "    <tr>\n",
       "      <th>25%</th>\n",
       "      <td>1996.000000</td>\n",
       "      <td>9.300000e+01</td>\n",
       "    </tr>\n",
       "    <tr>\n",
       "      <th>50%</th>\n",
       "      <td>2003.000000</td>\n",
       "      <td>1.137560e+03</td>\n",
       "    </tr>\n",
       "    <tr>\n",
       "      <th>75%</th>\n",
       "      <td>2010.000000</td>\n",
       "      <td>7.869000e+03</td>\n",
       "    </tr>\n",
       "    <tr>\n",
       "      <th>max</th>\n",
       "      <td>2016.000000</td>\n",
       "      <td>1.807000e+06</td>\n",
       "    </tr>\n",
       "  </tbody>\n",
       "</table>\n",
       "</div>"
      ],
      "text/plain": [
       "              Year  pesticides_tonnes\n",
       "count  4349.000000       4.349000e+03\n",
       "mean   2003.138883       2.030334e+04\n",
       "std       7.728044       1.177362e+05\n",
       "min    1990.000000       0.000000e+00\n",
       "25%    1996.000000       9.300000e+01\n",
       "50%    2003.000000       1.137560e+03\n",
       "75%    2010.000000       7.869000e+03\n",
       "max    2016.000000       1.807000e+06"
      ]
     },
     "execution_count": 21,
     "metadata": {},
     "output_type": "execute_result"
    }
   ],
   "source": [
    "df_pes.describe()"
   ]
  },
  {
   "cell_type": "code",
   "execution_count": 22,
   "id": "41b3074d",
   "metadata": {
    "colab": {
     "base_uri": "https://localhost:8080/"
    },
    "execution": {
     "iopub.execute_input": "2022-04-18T20:52:24.638516Z",
     "iopub.status.busy": "2022-04-18T20:52:24.634371Z",
     "iopub.status.idle": "2022-04-18T20:52:24.647891Z",
     "shell.execute_reply": "2022-04-18T20:52:24.648465Z",
     "shell.execute_reply.started": "2022-04-18T18:50:49.931918Z"
    },
    "id": "41b3074d",
    "outputId": "4e5c8f8d-8076-426c-d094-98d2157b76dc",
    "papermill": {
     "duration": 0.095004,
     "end_time": "2022-04-18T20:52:24.648651",
     "exception": false,
     "start_time": "2022-04-18T20:52:24.553647",
     "status": "completed"
    },
    "tags": []
   },
   "outputs": [
    {
     "name": "stdout",
     "output_type": "stream",
     "text": [
      "<class 'pandas.core.frame.DataFrame'>\n",
      "Index: 4349 entries, 0 to 4348\n",
      "Data columns (total 3 columns):\n",
      " #   Column             Non-Null Count  Dtype  \n",
      "---  ------             --------------  -----  \n",
      " 0   Area               4349 non-null   object \n",
      " 1   Year               4349 non-null   int64  \n",
      " 2   pesticides_tonnes  4349 non-null   float64\n",
      "dtypes: float64(1), int64(1), object(1)\n",
      "memory usage: 135.9+ KB\n"
     ]
    }
   ],
   "source": [
    "df_pes.info()"
   ]
  },
  {
   "cell_type": "markdown",
   "id": "61dbe56f",
   "metadata": {
    "id": "61dbe56f",
    "papermill": {
     "duration": 0.08171,
     "end_time": "2022-04-18T20:52:24.809508",
     "exception": false,
     "start_time": "2022-04-18T20:52:24.727798",
     "status": "completed"
    },
    "tags": []
   },
   "source": [
    "Merge Pesticides dataframe with yield dataframe "
   ]
  },
  {
   "cell_type": "code",
   "execution_count": 23,
   "id": "655ef7a2",
   "metadata": {
    "colab": {
     "base_uri": "https://localhost:8080/"
    },
    "execution": {
     "iopub.execute_input": "2022-04-18T20:52:24.971976Z",
     "iopub.status.busy": "2022-04-18T20:52:24.970686Z",
     "iopub.status.idle": "2022-04-18T20:52:24.985714Z",
     "shell.execute_reply": "2022-04-18T20:52:24.984965Z",
     "shell.execute_reply.started": "2022-04-18T18:51:15.336665Z"
    },
    "id": "655ef7a2",
    "outputId": "fc8c8ff7-5c7b-4d94-f6b1-ea79a3ee07cf",
    "papermill": {
     "duration": 0.098594,
     "end_time": "2022-04-18T20:52:24.985869",
     "exception": false,
     "start_time": "2022-04-18T20:52:24.887275",
     "status": "completed"
    },
    "tags": []
   },
   "outputs": [
    {
     "data": {
      "text/plain": [
       "(18949, 6)"
      ]
     },
     "execution_count": 23,
     "metadata": {},
     "output_type": "execute_result"
    }
   ],
   "source": [
    "yield_df = pd.merge(yield_df, df_pes, on=['Year','Area'])\n",
    "yield_df.shape"
   ]
  },
  {
   "cell_type": "code",
   "execution_count": 24,
   "id": "b7b9b4cd",
   "metadata": {
    "colab": {
     "base_uri": "https://localhost:8080/",
     "height": 206
    },
    "execution": {
     "iopub.execute_input": "2022-04-18T20:52:25.160830Z",
     "iopub.status.busy": "2022-04-18T20:52:25.159638Z",
     "iopub.status.idle": "2022-04-18T20:52:25.164237Z",
     "shell.execute_reply": "2022-04-18T20:52:25.163675Z",
     "shell.execute_reply.started": "2022-04-18T18:51:17.710906Z"
    },
    "id": "b7b9b4cd",
    "outputId": "c1b0633c-56f7-459d-fe5e-c870922debe9",
    "papermill": {
     "duration": 0.096718,
     "end_time": "2022-04-18T20:52:25.164393",
     "exception": false,
     "start_time": "2022-04-18T20:52:25.067675",
     "status": "completed"
    },
    "scrolled": true,
    "tags": []
   },
   "outputs": [
    {
     "data": {
      "text/html": [
       "<div>\n",
       "<style scoped>\n",
       "    .dataframe tbody tr th:only-of-type {\n",
       "        vertical-align: middle;\n",
       "    }\n",
       "\n",
       "    .dataframe tbody tr th {\n",
       "        vertical-align: top;\n",
       "    }\n",
       "\n",
       "    .dataframe thead th {\n",
       "        text-align: right;\n",
       "    }\n",
       "</style>\n",
       "<table border=\"1\" class=\"dataframe\">\n",
       "  <thead>\n",
       "    <tr style=\"text-align: right;\">\n",
       "      <th></th>\n",
       "      <th>Area</th>\n",
       "      <th>Item</th>\n",
       "      <th>Year</th>\n",
       "      <th>hg/ha_yield</th>\n",
       "      <th>average_rain_fall_mm_per_year</th>\n",
       "      <th>pesticides_tonnes</th>\n",
       "    </tr>\n",
       "  </thead>\n",
       "  <tbody>\n",
       "    <tr>\n",
       "      <th>0</th>\n",
       "      <td>Albania</td>\n",
       "      <td>Maize</td>\n",
       "      <td>1990</td>\n",
       "      <td>36613</td>\n",
       "      <td>1485.0</td>\n",
       "      <td>121.0</td>\n",
       "    </tr>\n",
       "    <tr>\n",
       "      <th>1</th>\n",
       "      <td>Albania</td>\n",
       "      <td>Potatoes</td>\n",
       "      <td>1990</td>\n",
       "      <td>66667</td>\n",
       "      <td>1485.0</td>\n",
       "      <td>121.0</td>\n",
       "    </tr>\n",
       "    <tr>\n",
       "      <th>2</th>\n",
       "      <td>Albania</td>\n",
       "      <td>Rice, paddy</td>\n",
       "      <td>1990</td>\n",
       "      <td>23333</td>\n",
       "      <td>1485.0</td>\n",
       "      <td>121.0</td>\n",
       "    </tr>\n",
       "    <tr>\n",
       "      <th>3</th>\n",
       "      <td>Albania</td>\n",
       "      <td>Sorghum</td>\n",
       "      <td>1990</td>\n",
       "      <td>12500</td>\n",
       "      <td>1485.0</td>\n",
       "      <td>121.0</td>\n",
       "    </tr>\n",
       "    <tr>\n",
       "      <th>4</th>\n",
       "      <td>Albania</td>\n",
       "      <td>Soybeans</td>\n",
       "      <td>1990</td>\n",
       "      <td>7000</td>\n",
       "      <td>1485.0</td>\n",
       "      <td>121.0</td>\n",
       "    </tr>\n",
       "  </tbody>\n",
       "</table>\n",
       "</div>"
      ],
      "text/plain": [
       "      Area         Item  Year  hg/ha_yield  average_rain_fall_mm_per_year  \\\n",
       "0  Albania        Maize  1990        36613                         1485.0   \n",
       "1  Albania     Potatoes  1990        66667                         1485.0   \n",
       "2  Albania  Rice, paddy  1990        23333                         1485.0   \n",
       "3  Albania      Sorghum  1990        12500                         1485.0   \n",
       "4  Albania     Soybeans  1990         7000                         1485.0   \n",
       "\n",
       "   pesticides_tonnes  \n",
       "0              121.0  \n",
       "1              121.0  \n",
       "2              121.0  \n",
       "3              121.0  \n",
       "4              121.0  "
      ]
     },
     "execution_count": 24,
     "metadata": {},
     "output_type": "execute_result"
    }
   ],
   "source": [
    "yield_df.head()"
   ]
  },
  {
   "cell_type": "markdown",
   "id": "fd6c5996",
   "metadata": {
    "id": "fd6c5996",
    "papermill": {
     "duration": 0.080494,
     "end_time": "2022-04-18T20:52:25.321685",
     "exception": false,
     "start_time": "2022-04-18T20:52:25.241191",
     "status": "completed"
    },
    "tags": []
   },
   "source": [
    "### Average Temprature: \n",
    "\n",
    "Average Temprature for each country was colleced from World Bank Data. "
   ]
  },
  {
   "cell_type": "code",
   "execution_count": 25,
   "id": "caa90be0",
   "metadata": {
    "execution": {
     "iopub.execute_input": "2022-04-18T20:52:25.481894Z",
     "iopub.status.busy": "2022-04-18T20:52:25.481128Z",
     "iopub.status.idle": "2022-04-18T20:52:25.540758Z",
     "shell.execute_reply": "2022-04-18T20:52:25.540079Z",
     "shell.execute_reply.started": "2022-04-18T18:51:20.277691Z"
    },
    "id": "caa90be0",
    "papermill": {
     "duration": 0.142434,
     "end_time": "2022-04-18T20:52:25.540945",
     "exception": false,
     "start_time": "2022-04-18T20:52:25.398511",
     "status": "completed"
    },
    "tags": []
   },
   "outputs": [],
   "source": [
    "avg_temp=  pd.read_csv('temp.csv')"
   ]
  },
  {
   "cell_type": "code",
   "execution_count": 26,
   "id": "adf38a5d",
   "metadata": {
    "colab": {
     "base_uri": "https://localhost:8080/",
     "height": 206
    },
    "execution": {
     "iopub.execute_input": "2022-04-18T20:52:25.707906Z",
     "iopub.status.busy": "2022-04-18T20:52:25.706909Z",
     "iopub.status.idle": "2022-04-18T20:52:25.710670Z",
     "shell.execute_reply": "2022-04-18T20:52:25.711199Z",
     "shell.execute_reply.started": "2022-04-18T18:51:24.633452Z"
    },
    "id": "adf38a5d",
    "outputId": "edcae296-6df7-40d7-e858-41c5f308a7c8",
    "papermill": {
     "duration": 0.091918,
     "end_time": "2022-04-18T20:52:25.711397",
     "exception": false,
     "start_time": "2022-04-18T20:52:25.619479",
     "status": "completed"
    },
    "scrolled": true,
    "tags": []
   },
   "outputs": [
    {
     "data": {
      "text/html": [
       "<div>\n",
       "<style scoped>\n",
       "    .dataframe tbody tr th:only-of-type {\n",
       "        vertical-align: middle;\n",
       "    }\n",
       "\n",
       "    .dataframe tbody tr th {\n",
       "        vertical-align: top;\n",
       "    }\n",
       "\n",
       "    .dataframe thead th {\n",
       "        text-align: right;\n",
       "    }\n",
       "</style>\n",
       "<table border=\"1\" class=\"dataframe\">\n",
       "  <thead>\n",
       "    <tr style=\"text-align: right;\">\n",
       "      <th></th>\n",
       "      <th>year</th>\n",
       "      <th>country</th>\n",
       "      <th>avg_temp</th>\n",
       "    </tr>\n",
       "  </thead>\n",
       "  <tbody>\n",
       "    <tr>\n",
       "      <th>0</th>\n",
       "      <td>1849</td>\n",
       "      <td>Côte D'Ivoire</td>\n",
       "      <td>25.58</td>\n",
       "    </tr>\n",
       "    <tr>\n",
       "      <th>1</th>\n",
       "      <td>1850</td>\n",
       "      <td>Côte D'Ivoire</td>\n",
       "      <td>25.52</td>\n",
       "    </tr>\n",
       "    <tr>\n",
       "      <th>2</th>\n",
       "      <td>1851</td>\n",
       "      <td>Côte D'Ivoire</td>\n",
       "      <td>25.67</td>\n",
       "    </tr>\n",
       "    <tr>\n",
       "      <th>3</th>\n",
       "      <td>1852</td>\n",
       "      <td>Côte D'Ivoire</td>\n",
       "      <td>NaN</td>\n",
       "    </tr>\n",
       "    <tr>\n",
       "      <th>4</th>\n",
       "      <td>1853</td>\n",
       "      <td>Côte D'Ivoire</td>\n",
       "      <td>NaN</td>\n",
       "    </tr>\n",
       "  </tbody>\n",
       "</table>\n",
       "</div>"
      ],
      "text/plain": [
       "   year        country  avg_temp\n",
       "0  1849  Côte D'Ivoire     25.58\n",
       "1  1850  Côte D'Ivoire     25.52\n",
       "2  1851  Côte D'Ivoire     25.67\n",
       "3  1852  Côte D'Ivoire       NaN\n",
       "4  1853  Côte D'Ivoire       NaN"
      ]
     },
     "execution_count": 26,
     "metadata": {},
     "output_type": "execute_result"
    }
   ],
   "source": [
    "avg_temp.head()"
   ]
  },
  {
   "cell_type": "code",
   "execution_count": 27,
   "id": "d21bff69",
   "metadata": {
    "colab": {
     "base_uri": "https://localhost:8080/",
     "height": 300
    },
    "execution": {
     "iopub.execute_input": "2022-04-18T20:52:25.878616Z",
     "iopub.status.busy": "2022-04-18T20:52:25.877239Z",
     "iopub.status.idle": "2022-04-18T20:52:25.895867Z",
     "shell.execute_reply": "2022-04-18T20:52:25.896404Z",
     "shell.execute_reply.started": "2022-04-18T18:51:28.158562Z"
    },
    "id": "d21bff69",
    "outputId": "a346044d-35fc-4080-8861-ded2e797c6d0",
    "papermill": {
     "duration": 0.107775,
     "end_time": "2022-04-18T20:52:25.896620",
     "exception": false,
     "start_time": "2022-04-18T20:52:25.788845",
     "status": "completed"
    },
    "scrolled": true,
    "tags": []
   },
   "outputs": [
    {
     "data": {
      "text/html": [
       "<div>\n",
       "<style scoped>\n",
       "    .dataframe tbody tr th:only-of-type {\n",
       "        vertical-align: middle;\n",
       "    }\n",
       "\n",
       "    .dataframe tbody tr th {\n",
       "        vertical-align: top;\n",
       "    }\n",
       "\n",
       "    .dataframe thead th {\n",
       "        text-align: right;\n",
       "    }\n",
       "</style>\n",
       "<table border=\"1\" class=\"dataframe\">\n",
       "  <thead>\n",
       "    <tr style=\"text-align: right;\">\n",
       "      <th></th>\n",
       "      <th>year</th>\n",
       "      <th>avg_temp</th>\n",
       "    </tr>\n",
       "  </thead>\n",
       "  <tbody>\n",
       "    <tr>\n",
       "      <th>count</th>\n",
       "      <td>71311.000000</td>\n",
       "      <td>68764.000000</td>\n",
       "    </tr>\n",
       "    <tr>\n",
       "      <th>mean</th>\n",
       "      <td>1905.799007</td>\n",
       "      <td>16.183876</td>\n",
       "    </tr>\n",
       "    <tr>\n",
       "      <th>std</th>\n",
       "      <td>67.102099</td>\n",
       "      <td>7.592960</td>\n",
       "    </tr>\n",
       "    <tr>\n",
       "      <th>min</th>\n",
       "      <td>1743.000000</td>\n",
       "      <td>-14.350000</td>\n",
       "    </tr>\n",
       "    <tr>\n",
       "      <th>25%</th>\n",
       "      <td>1858.000000</td>\n",
       "      <td>9.750000</td>\n",
       "    </tr>\n",
       "    <tr>\n",
       "      <th>50%</th>\n",
       "      <td>1910.000000</td>\n",
       "      <td>16.140000</td>\n",
       "    </tr>\n",
       "    <tr>\n",
       "      <th>75%</th>\n",
       "      <td>1962.000000</td>\n",
       "      <td>23.762500</td>\n",
       "    </tr>\n",
       "    <tr>\n",
       "      <th>max</th>\n",
       "      <td>2013.000000</td>\n",
       "      <td>30.730000</td>\n",
       "    </tr>\n",
       "  </tbody>\n",
       "</table>\n",
       "</div>"
      ],
      "text/plain": [
       "               year      avg_temp\n",
       "count  71311.000000  68764.000000\n",
       "mean    1905.799007     16.183876\n",
       "std       67.102099      7.592960\n",
       "min     1743.000000    -14.350000\n",
       "25%     1858.000000      9.750000\n",
       "50%     1910.000000     16.140000\n",
       "75%     1962.000000     23.762500\n",
       "max     2013.000000     30.730000"
      ]
     },
     "execution_count": 27,
     "metadata": {},
     "output_type": "execute_result"
    }
   ],
   "source": [
    "avg_temp.describe()"
   ]
  },
  {
   "cell_type": "markdown",
   "id": "3ab65785",
   "metadata": {
    "id": "3ab65785",
    "papermill": {
     "duration": 0.081411,
     "end_time": "2022-04-18T20:52:26.057061",
     "exception": false,
     "start_time": "2022-04-18T20:52:25.975650",
     "status": "completed"
    },
    "tags": []
   },
   "source": [
    "So average temprature starts from 1743 and ends at 2013, with some empty rows that we have to drop."
   ]
  },
  {
   "cell_type": "code",
   "execution_count": 28,
   "id": "66a3e0d6",
   "metadata": {
    "colab": {
     "base_uri": "https://localhost:8080/",
     "height": 206
    },
    "execution": {
     "iopub.execute_input": "2022-04-18T20:52:26.218010Z",
     "iopub.status.busy": "2022-04-18T20:52:26.216838Z",
     "iopub.status.idle": "2022-04-18T20:52:26.259604Z",
     "shell.execute_reply": "2022-04-18T20:52:26.260192Z",
     "shell.execute_reply.started": "2022-04-18T18:51:34.977244Z"
    },
    "id": "66a3e0d6",
    "outputId": "646d54c1-4c22-443d-ee23-7ad6425be57e",
    "papermill": {
     "duration": 0.124829,
     "end_time": "2022-04-18T20:52:26.260402",
     "exception": false,
     "start_time": "2022-04-18T20:52:26.135573",
     "status": "completed"
    },
    "scrolled": true,
    "tags": []
   },
   "outputs": [
    {
     "data": {
      "text/html": [
       "<div>\n",
       "<style scoped>\n",
       "    .dataframe tbody tr th:only-of-type {\n",
       "        vertical-align: middle;\n",
       "    }\n",
       "\n",
       "    .dataframe tbody tr th {\n",
       "        vertical-align: top;\n",
       "    }\n",
       "\n",
       "    .dataframe thead th {\n",
       "        text-align: right;\n",
       "    }\n",
       "</style>\n",
       "<table border=\"1\" class=\"dataframe\">\n",
       "  <thead>\n",
       "    <tr style=\"text-align: right;\">\n",
       "      <th></th>\n",
       "      <th>Year</th>\n",
       "      <th>Area</th>\n",
       "      <th>avg_temp</th>\n",
       "    </tr>\n",
       "  </thead>\n",
       "  <tbody>\n",
       "    <tr>\n",
       "      <th>0</th>\n",
       "      <td>1849</td>\n",
       "      <td>Côte D'Ivoire</td>\n",
       "      <td>25.58</td>\n",
       "    </tr>\n",
       "    <tr>\n",
       "      <th>1</th>\n",
       "      <td>1850</td>\n",
       "      <td>Côte D'Ivoire</td>\n",
       "      <td>25.52</td>\n",
       "    </tr>\n",
       "    <tr>\n",
       "      <th>2</th>\n",
       "      <td>1851</td>\n",
       "      <td>Côte D'Ivoire</td>\n",
       "      <td>25.67</td>\n",
       "    </tr>\n",
       "    <tr>\n",
       "      <th>3</th>\n",
       "      <td>1852</td>\n",
       "      <td>Côte D'Ivoire</td>\n",
       "      <td>NaN</td>\n",
       "    </tr>\n",
       "    <tr>\n",
       "      <th>4</th>\n",
       "      <td>1853</td>\n",
       "      <td>Côte D'Ivoire</td>\n",
       "      <td>NaN</td>\n",
       "    </tr>\n",
       "  </tbody>\n",
       "</table>\n",
       "</div>"
      ],
      "text/plain": [
       "   Year           Area  avg_temp\n",
       "0  1849  Côte D'Ivoire     25.58\n",
       "1  1850  Côte D'Ivoire     25.52\n",
       "2  1851  Côte D'Ivoire     25.67\n",
       "3  1852  Côte D'Ivoire       NaN\n",
       "4  1853  Côte D'Ivoire       NaN"
      ]
     },
     "execution_count": 28,
     "metadata": {},
     "output_type": "execute_result"
    }
   ],
   "source": [
    "avg_temp = avg_temp.rename(index=str, columns={\"year\": \"Year\", \"country\":'Area'})\n",
    "avg_temp.head()"
   ]
  },
  {
   "cell_type": "code",
   "execution_count": 29,
   "id": "87c00f49",
   "metadata": {
    "colab": {
     "base_uri": "https://localhost:8080/",
     "height": 206
    },
    "execution": {
     "iopub.execute_input": "2022-04-18T20:52:26.425002Z",
     "iopub.status.busy": "2022-04-18T20:52:26.423814Z",
     "iopub.status.idle": "2022-04-18T20:52:26.462903Z",
     "shell.execute_reply": "2022-04-18T20:52:26.463551Z",
     "shell.execute_reply.started": "2022-04-18T18:51:37.796712Z"
    },
    "id": "87c00f49",
    "outputId": "e383691c-ddac-44e6-fba3-2f8a44859770",
    "papermill": {
     "duration": 0.123433,
     "end_time": "2022-04-18T20:52:26.463757",
     "exception": false,
     "start_time": "2022-04-18T20:52:26.340324",
     "status": "completed"
    },
    "scrolled": true,
    "tags": []
   },
   "outputs": [
    {
     "data": {
      "text/html": [
       "<div>\n",
       "<style scoped>\n",
       "    .dataframe tbody tr th:only-of-type {\n",
       "        vertical-align: middle;\n",
       "    }\n",
       "\n",
       "    .dataframe tbody tr th {\n",
       "        vertical-align: top;\n",
       "    }\n",
       "\n",
       "    .dataframe thead th {\n",
       "        text-align: right;\n",
       "    }\n",
       "</style>\n",
       "<table border=\"1\" class=\"dataframe\">\n",
       "  <thead>\n",
       "    <tr style=\"text-align: right;\">\n",
       "      <th></th>\n",
       "      <th>Area</th>\n",
       "      <th>Item</th>\n",
       "      <th>Year</th>\n",
       "      <th>hg/ha_yield</th>\n",
       "      <th>average_rain_fall_mm_per_year</th>\n",
       "      <th>pesticides_tonnes</th>\n",
       "      <th>avg_temp</th>\n",
       "    </tr>\n",
       "  </thead>\n",
       "  <tbody>\n",
       "    <tr>\n",
       "      <th>0</th>\n",
       "      <td>Albania</td>\n",
       "      <td>Maize</td>\n",
       "      <td>1990</td>\n",
       "      <td>36613</td>\n",
       "      <td>1485.0</td>\n",
       "      <td>121.0</td>\n",
       "      <td>16.37</td>\n",
       "    </tr>\n",
       "    <tr>\n",
       "      <th>1</th>\n",
       "      <td>Albania</td>\n",
       "      <td>Potatoes</td>\n",
       "      <td>1990</td>\n",
       "      <td>66667</td>\n",
       "      <td>1485.0</td>\n",
       "      <td>121.0</td>\n",
       "      <td>16.37</td>\n",
       "    </tr>\n",
       "    <tr>\n",
       "      <th>2</th>\n",
       "      <td>Albania</td>\n",
       "      <td>Rice, paddy</td>\n",
       "      <td>1990</td>\n",
       "      <td>23333</td>\n",
       "      <td>1485.0</td>\n",
       "      <td>121.0</td>\n",
       "      <td>16.37</td>\n",
       "    </tr>\n",
       "    <tr>\n",
       "      <th>3</th>\n",
       "      <td>Albania</td>\n",
       "      <td>Sorghum</td>\n",
       "      <td>1990</td>\n",
       "      <td>12500</td>\n",
       "      <td>1485.0</td>\n",
       "      <td>121.0</td>\n",
       "      <td>16.37</td>\n",
       "    </tr>\n",
       "    <tr>\n",
       "      <th>4</th>\n",
       "      <td>Albania</td>\n",
       "      <td>Soybeans</td>\n",
       "      <td>1990</td>\n",
       "      <td>7000</td>\n",
       "      <td>1485.0</td>\n",
       "      <td>121.0</td>\n",
       "      <td>16.37</td>\n",
       "    </tr>\n",
       "  </tbody>\n",
       "</table>\n",
       "</div>"
      ],
      "text/plain": [
       "      Area         Item  Year  hg/ha_yield  average_rain_fall_mm_per_year  \\\n",
       "0  Albania        Maize  1990        36613                         1485.0   \n",
       "1  Albania     Potatoes  1990        66667                         1485.0   \n",
       "2  Albania  Rice, paddy  1990        23333                         1485.0   \n",
       "3  Albania      Sorghum  1990        12500                         1485.0   \n",
       "4  Albania     Soybeans  1990         7000                         1485.0   \n",
       "\n",
       "   pesticides_tonnes  avg_temp  \n",
       "0              121.0     16.37  \n",
       "1              121.0     16.37  \n",
       "2              121.0     16.37  \n",
       "3              121.0     16.37  \n",
       "4              121.0     16.37  "
      ]
     },
     "execution_count": 29,
     "metadata": {},
     "output_type": "execute_result"
    }
   ],
   "source": [
    "yield_df = pd.merge(yield_df,avg_temp, on=['Area','Year'])\n",
    "yield_df.head()"
   ]
  },
  {
   "cell_type": "code",
   "execution_count": 30,
   "id": "aed95268",
   "metadata": {
    "colab": {
     "base_uri": "https://localhost:8080/"
    },
    "execution": {
     "iopub.execute_input": "2022-04-18T20:52:26.627599Z",
     "iopub.status.busy": "2022-04-18T20:52:26.626408Z",
     "iopub.status.idle": "2022-04-18T20:52:26.632674Z",
     "shell.execute_reply": "2022-04-18T20:52:26.633241Z",
     "shell.execute_reply.started": "2022-04-18T18:51:40.626638Z"
    },
    "id": "aed95268",
    "outputId": "230aa7c8-581b-4b50-fdf0-04709d3b0eb1",
    "papermill": {
     "duration": 0.089263,
     "end_time": "2022-04-18T20:52:26.633457",
     "exception": false,
     "start_time": "2022-04-18T20:52:26.544194",
     "status": "completed"
    },
    "tags": []
   },
   "outputs": [
    {
     "data": {
      "text/plain": [
       "(28242, 7)"
      ]
     },
     "execution_count": 30,
     "metadata": {},
     "output_type": "execute_result"
    }
   ],
   "source": [
    "yield_df.shape"
   ]
  },
  {
   "cell_type": "code",
   "execution_count": 31,
   "id": "5d4ad1e7",
   "metadata": {
    "colab": {
     "base_uri": "https://localhost:8080/",
     "height": 300
    },
    "execution": {
     "iopub.execute_input": "2022-04-18T20:52:26.800661Z",
     "iopub.status.busy": "2022-04-18T20:52:26.799353Z",
     "iopub.status.idle": "2022-04-18T20:52:26.832175Z",
     "shell.execute_reply": "2022-04-18T20:52:26.832774Z",
     "shell.execute_reply.started": "2022-04-18T18:51:43.100890Z"
    },
    "id": "5d4ad1e7",
    "outputId": "79a002af-59b6-4c78-d426-8ae2d377ff65",
    "papermill": {
     "duration": 0.11969,
     "end_time": "2022-04-18T20:52:26.832979",
     "exception": false,
     "start_time": "2022-04-18T20:52:26.713289",
     "status": "completed"
    },
    "tags": []
   },
   "outputs": [
    {
     "data": {
      "text/html": [
       "<div>\n",
       "<style scoped>\n",
       "    .dataframe tbody tr th:only-of-type {\n",
       "        vertical-align: middle;\n",
       "    }\n",
       "\n",
       "    .dataframe tbody tr th {\n",
       "        vertical-align: top;\n",
       "    }\n",
       "\n",
       "    .dataframe thead th {\n",
       "        text-align: right;\n",
       "    }\n",
       "</style>\n",
       "<table border=\"1\" class=\"dataframe\">\n",
       "  <thead>\n",
       "    <tr style=\"text-align: right;\">\n",
       "      <th></th>\n",
       "      <th>Year</th>\n",
       "      <th>hg/ha_yield</th>\n",
       "      <th>average_rain_fall_mm_per_year</th>\n",
       "      <th>pesticides_tonnes</th>\n",
       "      <th>avg_temp</th>\n",
       "    </tr>\n",
       "  </thead>\n",
       "  <tbody>\n",
       "    <tr>\n",
       "      <th>count</th>\n",
       "      <td>28242.000000</td>\n",
       "      <td>28242.000000</td>\n",
       "      <td>28242.00000</td>\n",
       "      <td>28242.000000</td>\n",
       "      <td>28242.000000</td>\n",
       "    </tr>\n",
       "    <tr>\n",
       "      <th>mean</th>\n",
       "      <td>2001.544296</td>\n",
       "      <td>77053.332094</td>\n",
       "      <td>1149.05598</td>\n",
       "      <td>37076.909344</td>\n",
       "      <td>20.542627</td>\n",
       "    </tr>\n",
       "    <tr>\n",
       "      <th>std</th>\n",
       "      <td>7.051905</td>\n",
       "      <td>84956.612897</td>\n",
       "      <td>709.81215</td>\n",
       "      <td>59958.784665</td>\n",
       "      <td>6.312051</td>\n",
       "    </tr>\n",
       "    <tr>\n",
       "      <th>min</th>\n",
       "      <td>1990.000000</td>\n",
       "      <td>50.000000</td>\n",
       "      <td>51.00000</td>\n",
       "      <td>0.040000</td>\n",
       "      <td>1.300000</td>\n",
       "    </tr>\n",
       "    <tr>\n",
       "      <th>25%</th>\n",
       "      <td>1995.000000</td>\n",
       "      <td>19919.250000</td>\n",
       "      <td>593.00000</td>\n",
       "      <td>1702.000000</td>\n",
       "      <td>16.702500</td>\n",
       "    </tr>\n",
       "    <tr>\n",
       "      <th>50%</th>\n",
       "      <td>2001.000000</td>\n",
       "      <td>38295.000000</td>\n",
       "      <td>1083.00000</td>\n",
       "      <td>17529.440000</td>\n",
       "      <td>21.510000</td>\n",
       "    </tr>\n",
       "    <tr>\n",
       "      <th>75%</th>\n",
       "      <td>2008.000000</td>\n",
       "      <td>104676.750000</td>\n",
       "      <td>1668.00000</td>\n",
       "      <td>48687.880000</td>\n",
       "      <td>26.000000</td>\n",
       "    </tr>\n",
       "    <tr>\n",
       "      <th>max</th>\n",
       "      <td>2013.000000</td>\n",
       "      <td>501412.000000</td>\n",
       "      <td>3240.00000</td>\n",
       "      <td>367778.000000</td>\n",
       "      <td>30.650000</td>\n",
       "    </tr>\n",
       "  </tbody>\n",
       "</table>\n",
       "</div>"
      ],
      "text/plain": [
       "               Year    hg/ha_yield  average_rain_fall_mm_per_year  \\\n",
       "count  28242.000000   28242.000000                    28242.00000   \n",
       "mean    2001.544296   77053.332094                     1149.05598   \n",
       "std        7.051905   84956.612897                      709.81215   \n",
       "min     1990.000000      50.000000                       51.00000   \n",
       "25%     1995.000000   19919.250000                      593.00000   \n",
       "50%     2001.000000   38295.000000                     1083.00000   \n",
       "75%     2008.000000  104676.750000                     1668.00000   \n",
       "max     2013.000000  501412.000000                     3240.00000   \n",
       "\n",
       "       pesticides_tonnes      avg_temp  \n",
       "count       28242.000000  28242.000000  \n",
       "mean        37076.909344     20.542627  \n",
       "std         59958.784665      6.312051  \n",
       "min             0.040000      1.300000  \n",
       "25%          1702.000000     16.702500  \n",
       "50%         17529.440000     21.510000  \n",
       "75%         48687.880000     26.000000  \n",
       "max        367778.000000     30.650000  "
      ]
     },
     "execution_count": 31,
     "metadata": {},
     "output_type": "execute_result"
    }
   ],
   "source": [
    "yield_df.describe()"
   ]
  },
  {
   "cell_type": "code",
   "execution_count": 32,
   "id": "e1046c29",
   "metadata": {
    "colab": {
     "base_uri": "https://localhost:8080/"
    },
    "execution": {
     "iopub.execute_input": "2022-04-18T20:52:27Z",
     "iopub.status.busy": "2022-04-18T20:52:26.998854Z",
     "iopub.status.idle": "2022-04-18T20:52:27.015476Z",
     "shell.execute_reply": "2022-04-18T20:52:27.016095Z",
     "shell.execute_reply.started": "2022-04-18T18:51:45.839099Z"
    },
    "id": "e1046c29",
    "outputId": "e44e298a-e8ba-4c3f-b102-8348a058c46f",
    "papermill": {
     "duration": 0.103353,
     "end_time": "2022-04-18T20:52:27.016311",
     "exception": false,
     "start_time": "2022-04-18T20:52:26.912958",
     "status": "completed"
    },
    "scrolled": true,
    "tags": []
   },
   "outputs": [
    {
     "data": {
      "text/plain": [
       "Area                             0\n",
       "Item                             0\n",
       "Year                             0\n",
       "hg/ha_yield                      0\n",
       "average_rain_fall_mm_per_year    0\n",
       "pesticides_tonnes                0\n",
       "avg_temp                         0\n",
       "dtype: int64"
      ]
     },
     "execution_count": 32,
     "metadata": {},
     "output_type": "execute_result"
    }
   ],
   "source": [
    "yield_df.isnull().sum()"
   ]
  },
  {
   "cell_type": "markdown",
   "id": "78822b10",
   "metadata": {
    "id": "78822b10",
    "papermill": {
     "duration": 0.079819,
     "end_time": "2022-04-18T20:52:27.182481",
     "exception": false,
     "start_time": "2022-04-18T20:52:27.102662",
     "status": "completed"
    },
    "tags": []
   },
   "source": [
    "Great, no empty values!"
   ]
  },
  {
   "cell_type": "markdown",
   "id": "9813dde6",
   "metadata": {
    "id": "9813dde6",
    "papermill": {
     "duration": 0.081354,
     "end_time": "2022-04-18T20:52:27.345845",
     "exception": false,
     "start_time": "2022-04-18T20:52:27.264491",
     "status": "completed"
    },
    "tags": []
   },
   "source": [
    "# Data Exploration\n",
    "\n"
   ]
  },
  {
   "cell_type": "markdown",
   "id": "4e9f9c89",
   "metadata": {
    "id": "4e9f9c89",
    "papermill": {
     "duration": 0.07918,
     "end_time": "2022-04-18T20:52:27.504321",
     "exception": false,
     "start_time": "2022-04-18T20:52:27.425141",
     "status": "completed"
    },
    "tags": []
   },
   "source": [
    "**yield_df** is the final obtained dataframe; "
   ]
  },
  {
   "cell_type": "code",
   "execution_count": 33,
   "id": "7a541afc",
   "metadata": {
    "colab": {
     "base_uri": "https://localhost:8080/",
     "height": 394
    },
    "execution": {
     "iopub.execute_input": "2022-04-18T20:52:27.673109Z",
     "iopub.status.busy": "2022-04-18T20:52:27.672289Z",
     "iopub.status.idle": "2022-04-18T20:52:27.689557Z",
     "shell.execute_reply": "2022-04-18T20:52:27.690093Z",
     "shell.execute_reply.started": "2022-04-18T18:51:54.133387Z"
    },
    "id": "7a541afc",
    "outputId": "bc50afe0-7948-456b-8e74-c24926a9939d",
    "papermill": {
     "duration": 0.105945,
     "end_time": "2022-04-18T20:52:27.690293",
     "exception": false,
     "start_time": "2022-04-18T20:52:27.584348",
     "status": "completed"
    },
    "scrolled": true,
    "tags": []
   },
   "outputs": [
    {
     "data": {
      "text/html": [
       "<div>\n",
       "<style scoped>\n",
       "    .dataframe tbody tr th:only-of-type {\n",
       "        vertical-align: middle;\n",
       "    }\n",
       "\n",
       "    .dataframe tbody tr th {\n",
       "        vertical-align: top;\n",
       "    }\n",
       "\n",
       "    .dataframe thead th {\n",
       "        text-align: right;\n",
       "    }\n",
       "</style>\n",
       "<table border=\"1\" class=\"dataframe\">\n",
       "  <thead>\n",
       "    <tr style=\"text-align: right;\">\n",
       "      <th></th>\n",
       "      <th>Area</th>\n",
       "      <th>Year</th>\n",
       "      <th>hg/ha_yield</th>\n",
       "      <th>average_rain_fall_mm_per_year</th>\n",
       "      <th>pesticides_tonnes</th>\n",
       "      <th>avg_temp</th>\n",
       "    </tr>\n",
       "    <tr>\n",
       "      <th>Item</th>\n",
       "      <th></th>\n",
       "      <th></th>\n",
       "      <th></th>\n",
       "      <th></th>\n",
       "      <th></th>\n",
       "      <th></th>\n",
       "    </tr>\n",
       "  </thead>\n",
       "  <tbody>\n",
       "    <tr>\n",
       "      <th>Cassava</th>\n",
       "      <td>2045</td>\n",
       "      <td>2045</td>\n",
       "      <td>2045</td>\n",
       "      <td>2045</td>\n",
       "      <td>2045</td>\n",
       "      <td>2045</td>\n",
       "    </tr>\n",
       "    <tr>\n",
       "      <th>Maize</th>\n",
       "      <td>4121</td>\n",
       "      <td>4121</td>\n",
       "      <td>4121</td>\n",
       "      <td>4121</td>\n",
       "      <td>4121</td>\n",
       "      <td>4121</td>\n",
       "    </tr>\n",
       "    <tr>\n",
       "      <th>Plantains and others</th>\n",
       "      <td>556</td>\n",
       "      <td>556</td>\n",
       "      <td>556</td>\n",
       "      <td>556</td>\n",
       "      <td>556</td>\n",
       "      <td>556</td>\n",
       "    </tr>\n",
       "    <tr>\n",
       "      <th>Potatoes</th>\n",
       "      <td>4276</td>\n",
       "      <td>4276</td>\n",
       "      <td>4276</td>\n",
       "      <td>4276</td>\n",
       "      <td>4276</td>\n",
       "      <td>4276</td>\n",
       "    </tr>\n",
       "    <tr>\n",
       "      <th>Rice, paddy</th>\n",
       "      <td>3388</td>\n",
       "      <td>3388</td>\n",
       "      <td>3388</td>\n",
       "      <td>3388</td>\n",
       "      <td>3388</td>\n",
       "      <td>3388</td>\n",
       "    </tr>\n",
       "    <tr>\n",
       "      <th>Sorghum</th>\n",
       "      <td>3039</td>\n",
       "      <td>3039</td>\n",
       "      <td>3039</td>\n",
       "      <td>3039</td>\n",
       "      <td>3039</td>\n",
       "      <td>3039</td>\n",
       "    </tr>\n",
       "    <tr>\n",
       "      <th>Soybeans</th>\n",
       "      <td>3223</td>\n",
       "      <td>3223</td>\n",
       "      <td>3223</td>\n",
       "      <td>3223</td>\n",
       "      <td>3223</td>\n",
       "      <td>3223</td>\n",
       "    </tr>\n",
       "    <tr>\n",
       "      <th>Sweet potatoes</th>\n",
       "      <td>2890</td>\n",
       "      <td>2890</td>\n",
       "      <td>2890</td>\n",
       "      <td>2890</td>\n",
       "      <td>2890</td>\n",
       "      <td>2890</td>\n",
       "    </tr>\n",
       "    <tr>\n",
       "      <th>Wheat</th>\n",
       "      <td>3857</td>\n",
       "      <td>3857</td>\n",
       "      <td>3857</td>\n",
       "      <td>3857</td>\n",
       "      <td>3857</td>\n",
       "      <td>3857</td>\n",
       "    </tr>\n",
       "    <tr>\n",
       "      <th>Yams</th>\n",
       "      <td>847</td>\n",
       "      <td>847</td>\n",
       "      <td>847</td>\n",
       "      <td>847</td>\n",
       "      <td>847</td>\n",
       "      <td>847</td>\n",
       "    </tr>\n",
       "  </tbody>\n",
       "</table>\n",
       "</div>"
      ],
      "text/plain": [
       "                      Area  Year  hg/ha_yield  average_rain_fall_mm_per_year  \\\n",
       "Item                                                                           \n",
       "Cassava               2045  2045         2045                           2045   \n",
       "Maize                 4121  4121         4121                           4121   \n",
       "Plantains and others   556   556          556                            556   \n",
       "Potatoes              4276  4276         4276                           4276   \n",
       "Rice, paddy           3388  3388         3388                           3388   \n",
       "Sorghum               3039  3039         3039                           3039   \n",
       "Soybeans              3223  3223         3223                           3223   \n",
       "Sweet potatoes        2890  2890         2890                           2890   \n",
       "Wheat                 3857  3857         3857                           3857   \n",
       "Yams                   847   847          847                            847   \n",
       "\n",
       "                      pesticides_tonnes  avg_temp  \n",
       "Item                                               \n",
       "Cassava                            2045      2045  \n",
       "Maize                              4121      4121  \n",
       "Plantains and others                556       556  \n",
       "Potatoes                           4276      4276  \n",
       "Rice, paddy                        3388      3388  \n",
       "Sorghum                            3039      3039  \n",
       "Soybeans                           3223      3223  \n",
       "Sweet potatoes                     2890      2890  \n",
       "Wheat                              3857      3857  \n",
       "Yams                                847       847  "
      ]
     },
     "execution_count": 33,
     "metadata": {},
     "output_type": "execute_result"
    }
   ],
   "source": [
    "yield_df.groupby('Item').count()"
   ]
  },
  {
   "cell_type": "code",
   "execution_count": 34,
   "id": "9b6b7825",
   "metadata": {
    "colab": {
     "base_uri": "https://localhost:8080/",
     "height": 300
    },
    "execution": {
     "iopub.execute_input": "2022-04-18T20:52:27.886091Z",
     "iopub.status.busy": "2022-04-18T20:52:27.884951Z",
     "iopub.status.idle": "2022-04-18T20:52:27.912733Z",
     "shell.execute_reply": "2022-04-18T20:52:27.913284Z",
     "shell.execute_reply.started": "2022-04-18T18:51:57.495744Z"
    },
    "id": "9b6b7825",
    "outputId": "9779a453-4684-457c-c27d-3c536f1a7767",
    "papermill": {
     "duration": 0.13439,
     "end_time": "2022-04-18T20:52:27.913473",
     "exception": false,
     "start_time": "2022-04-18T20:52:27.779083",
     "status": "completed"
    },
    "tags": []
   },
   "outputs": [
    {
     "data": {
      "text/html": [
       "<div>\n",
       "<style scoped>\n",
       "    .dataframe tbody tr th:only-of-type {\n",
       "        vertical-align: middle;\n",
       "    }\n",
       "\n",
       "    .dataframe tbody tr th {\n",
       "        vertical-align: top;\n",
       "    }\n",
       "\n",
       "    .dataframe thead th {\n",
       "        text-align: right;\n",
       "    }\n",
       "</style>\n",
       "<table border=\"1\" class=\"dataframe\">\n",
       "  <thead>\n",
       "    <tr style=\"text-align: right;\">\n",
       "      <th></th>\n",
       "      <th>Year</th>\n",
       "      <th>hg/ha_yield</th>\n",
       "      <th>average_rain_fall_mm_per_year</th>\n",
       "      <th>pesticides_tonnes</th>\n",
       "      <th>avg_temp</th>\n",
       "    </tr>\n",
       "  </thead>\n",
       "  <tbody>\n",
       "    <tr>\n",
       "      <th>count</th>\n",
       "      <td>28242.000000</td>\n",
       "      <td>28242.000000</td>\n",
       "      <td>28242.00000</td>\n",
       "      <td>28242.000000</td>\n",
       "      <td>28242.000000</td>\n",
       "    </tr>\n",
       "    <tr>\n",
       "      <th>mean</th>\n",
       "      <td>2001.544296</td>\n",
       "      <td>77053.332094</td>\n",
       "      <td>1149.05598</td>\n",
       "      <td>37076.909344</td>\n",
       "      <td>20.542627</td>\n",
       "    </tr>\n",
       "    <tr>\n",
       "      <th>std</th>\n",
       "      <td>7.051905</td>\n",
       "      <td>84956.612897</td>\n",
       "      <td>709.81215</td>\n",
       "      <td>59958.784665</td>\n",
       "      <td>6.312051</td>\n",
       "    </tr>\n",
       "    <tr>\n",
       "      <th>min</th>\n",
       "      <td>1990.000000</td>\n",
       "      <td>50.000000</td>\n",
       "      <td>51.00000</td>\n",
       "      <td>0.040000</td>\n",
       "      <td>1.300000</td>\n",
       "    </tr>\n",
       "    <tr>\n",
       "      <th>25%</th>\n",
       "      <td>1995.000000</td>\n",
       "      <td>19919.250000</td>\n",
       "      <td>593.00000</td>\n",
       "      <td>1702.000000</td>\n",
       "      <td>16.702500</td>\n",
       "    </tr>\n",
       "    <tr>\n",
       "      <th>50%</th>\n",
       "      <td>2001.000000</td>\n",
       "      <td>38295.000000</td>\n",
       "      <td>1083.00000</td>\n",
       "      <td>17529.440000</td>\n",
       "      <td>21.510000</td>\n",
       "    </tr>\n",
       "    <tr>\n",
       "      <th>75%</th>\n",
       "      <td>2008.000000</td>\n",
       "      <td>104676.750000</td>\n",
       "      <td>1668.00000</td>\n",
       "      <td>48687.880000</td>\n",
       "      <td>26.000000</td>\n",
       "    </tr>\n",
       "    <tr>\n",
       "      <th>max</th>\n",
       "      <td>2013.000000</td>\n",
       "      <td>501412.000000</td>\n",
       "      <td>3240.00000</td>\n",
       "      <td>367778.000000</td>\n",
       "      <td>30.650000</td>\n",
       "    </tr>\n",
       "  </tbody>\n",
       "</table>\n",
       "</div>"
      ],
      "text/plain": [
       "               Year    hg/ha_yield  average_rain_fall_mm_per_year  \\\n",
       "count  28242.000000   28242.000000                    28242.00000   \n",
       "mean    2001.544296   77053.332094                     1149.05598   \n",
       "std        7.051905   84956.612897                      709.81215   \n",
       "min     1990.000000      50.000000                       51.00000   \n",
       "25%     1995.000000   19919.250000                      593.00000   \n",
       "50%     2001.000000   38295.000000                     1083.00000   \n",
       "75%     2008.000000  104676.750000                     1668.00000   \n",
       "max     2013.000000  501412.000000                     3240.00000   \n",
       "\n",
       "       pesticides_tonnes      avg_temp  \n",
       "count       28242.000000  28242.000000  \n",
       "mean        37076.909344     20.542627  \n",
       "std         59958.784665      6.312051  \n",
       "min             0.040000      1.300000  \n",
       "25%          1702.000000     16.702500  \n",
       "50%         17529.440000     21.510000  \n",
       "75%         48687.880000     26.000000  \n",
       "max        367778.000000     30.650000  "
      ]
     },
     "execution_count": 34,
     "metadata": {},
     "output_type": "execute_result"
    }
   ],
   "source": [
    "yield_df.describe()"
   ]
  },
  {
   "cell_type": "markdown",
   "id": "4b6cade8",
   "metadata": {
    "id": "4b6cade8",
    "papermill": {
     "duration": 0.083465,
     "end_time": "2022-04-18T20:52:28.079369",
     "exception": false,
     "start_time": "2022-04-18T20:52:27.995904",
     "status": "completed"
    },
    "tags": []
   },
   "source": [
    "It can be noticed the high variance in the values for each columns, later on I'll account for that will scaling. "
   ]
  },
  {
   "cell_type": "code",
   "execution_count": 35,
   "id": "f935edf1",
   "metadata": {
    "colab": {
     "base_uri": "https://localhost:8080/"
    },
    "execution": {
     "iopub.execute_input": "2022-04-18T20:52:28.251635Z",
     "iopub.status.busy": "2022-04-18T20:52:28.250728Z",
     "iopub.status.idle": "2022-04-18T20:52:28.255970Z",
     "shell.execute_reply": "2022-04-18T20:52:28.256629Z",
     "shell.execute_reply.started": "2022-04-18T18:52:00.672127Z"
    },
    "id": "f935edf1",
    "outputId": "8de84f38-5fd4-4a18-d241-84f5ec4a7adc",
    "papermill": {
     "duration": 0.095801,
     "end_time": "2022-04-18T20:52:28.256835",
     "exception": false,
     "start_time": "2022-04-18T20:52:28.161034",
     "status": "completed"
    },
    "tags": []
   },
   "outputs": [
    {
     "data": {
      "text/plain": [
       "101"
      ]
     },
     "execution_count": 35,
     "metadata": {},
     "output_type": "execute_result"
    }
   ],
   "source": [
    "yield_df['Area'].nunique()"
   ]
  },
  {
   "cell_type": "markdown",
   "id": "28d97233",
   "metadata": {
    "id": "28d97233",
    "papermill": {
     "duration": 0.080941,
     "end_time": "2022-04-18T20:52:28.423509",
     "exception": false,
     "start_time": "2022-04-18T20:52:28.342568",
     "status": "completed"
    },
    "tags": []
   },
   "source": [
    "The dataframe has 101 Countries, ordering these by 10 the highest yield production: "
   ]
  },
  {
   "cell_type": "code",
   "execution_count": 36,
   "id": "149d8e0f",
   "metadata": {
    "colab": {
     "base_uri": "https://localhost:8080/"
    },
    "execution": {
     "iopub.execute_input": "2022-04-18T20:52:28.590934Z",
     "iopub.status.busy": "2022-04-18T20:52:28.589860Z",
     "iopub.status.idle": "2022-04-18T20:52:28.604865Z",
     "shell.execute_reply": "2022-04-18T20:52:28.605386Z",
     "shell.execute_reply.started": "2022-04-18T18:52:02.511240Z"
    },
    "id": "149d8e0f",
    "outputId": "c5fb41b9-6f93-4a7c-9c3c-937f42295674",
    "papermill": {
     "duration": 0.100983,
     "end_time": "2022-04-18T20:52:28.605636",
     "exception": false,
     "start_time": "2022-04-18T20:52:28.504653",
     "status": "completed"
    },
    "scrolled": true,
    "tags": []
   },
   "outputs": [
    {
     "data": {
      "text/plain": [
       "Area\n",
       "India             327420324\n",
       "Brazil            167550306\n",
       "Mexico            130788528\n",
       "Japan             124470912\n",
       "Australia         109111062\n",
       "Pakistan           73897434\n",
       "Indonesia          69193506\n",
       "United Kingdom     55419990\n",
       "Turkey             52263950\n",
       "Spain              46773540\n",
       "Name: hg/ha_yield, dtype: int64"
      ]
     },
     "execution_count": 36,
     "metadata": {},
     "output_type": "execute_result"
    }
   ],
   "source": [
    "yield_df.groupby(['Area'],sort=True)['hg/ha_yield'].sum().nlargest(10)"
   ]
  },
  {
   "cell_type": "markdown",
   "id": "cf55c82c",
   "metadata": {
    "id": "cf55c82c",
    "papermill": {
     "duration": 0.083144,
     "end_time": "2022-04-18T20:52:28.771174",
     "exception": false,
     "start_time": "2022-04-18T20:52:28.688030",
     "status": "completed"
    },
    "tags": []
   },
   "source": [
    "India has the highest yield production in the dataset. Inclusing items in the groupby:"
   ]
  },
  {
   "cell_type": "code",
   "execution_count": 37,
   "id": "436ba98b",
   "metadata": {
    "colab": {
     "base_uri": "https://localhost:8080/"
    },
    "execution": {
     "iopub.execute_input": "2022-04-18T20:52:28.959402Z",
     "iopub.status.busy": "2022-04-18T20:52:28.958702Z",
     "iopub.status.idle": "2022-04-18T20:52:28.977377Z",
     "shell.execute_reply": "2022-04-18T20:52:28.977955Z",
     "shell.execute_reply.started": "2022-04-18T18:52:04.651940Z"
    },
    "id": "436ba98b",
    "outputId": "657e33e2-87d8-41de-a832-84177db99786",
    "papermill": {
     "duration": 0.124225,
     "end_time": "2022-04-18T20:52:28.978154",
     "exception": false,
     "start_time": "2022-04-18T20:52:28.853929",
     "status": "completed"
    },
    "scrolled": true,
    "tags": []
   },
   "outputs": [
    {
     "data": {
      "text/plain": [
       "Item            Area          \n",
       "Cassava         India             142810624\n",
       "Potatoes        India              92122514\n",
       "                Brazil             49602168\n",
       "                United Kingdom     46705145\n",
       "                Australia          45670386\n",
       "Sweet potatoes  India              44439538\n",
       "Potatoes        Japan              42918726\n",
       "                Mexico             42053880\n",
       "Sweet potatoes  Mexico             35808592\n",
       "                Australia          35550294\n",
       "Name: hg/ha_yield, dtype: int64"
      ]
     },
     "execution_count": 37,
     "metadata": {},
     "output_type": "execute_result"
    }
   ],
   "source": [
    "yield_df.groupby(['Item','Area'],sort=True)['hg/ha_yield'].sum().nlargest(10)"
   ]
  },
  {
   "cell_type": "markdown",
   "id": "b6db107e",
   "metadata": {
    "id": "b6db107e",
    "papermill": {
     "duration": 0.082567,
     "end_time": "2022-04-18T20:52:29.144045",
     "exception": false,
     "start_time": "2022-04-18T20:52:29.061478",
     "status": "completed"
    },
    "tags": []
   },
   "source": [
    "India is the highest for production of cassava and potatoes. Potatoes seems to be the dominated crop in the dataset, being the highest in 4 countries. "
   ]
  },
  {
   "cell_type": "markdown",
   "id": "4948e8e1",
   "metadata": {
    "id": "4948e8e1",
    "papermill": {
     "duration": 0.082435,
     "end_time": "2022-04-18T20:52:29.310775",
     "exception": false,
     "start_time": "2022-04-18T20:52:29.228340",
     "status": "completed"
    },
    "tags": []
   },
   "source": [
    "The final dataframe starts from 1990 and ends in 2013, that's 23 years worth of data for 101 countries. "
   ]
  },
  {
   "cell_type": "markdown",
   "id": "4bf1a5a8",
   "metadata": {
    "id": "4bf1a5a8",
    "papermill": {
     "duration": 0.083965,
     "end_time": "2022-04-18T20:52:29.480385",
     "exception": false,
     "start_time": "2022-04-18T20:52:29.396420",
     "status": "completed"
    },
    "tags": []
   },
   "source": [
    "Now, exploring the relationships between the colunms of the dataframe, a good way to quickly check correlations among columns is by visualizing the correlation matrix as a heatmap."
   ]
  },
  {
   "cell_type": "code",
   "execution_count": 38,
   "id": "544ac447",
   "metadata": {
    "execution": {
     "iopub.execute_input": "2022-04-18T20:52:29.652247Z",
     "iopub.status.busy": "2022-04-18T20:52:29.651417Z",
     "iopub.status.idle": "2022-04-18T20:52:30.924415Z",
     "shell.execute_reply": "2022-04-18T20:52:30.923798Z",
     "shell.execute_reply.started": "2022-04-18T18:52:06.987011Z"
    },
    "id": "544ac447",
    "papermill": {
     "duration": 1.361535,
     "end_time": "2022-04-18T20:52:30.924606",
     "exception": false,
     "start_time": "2022-04-18T20:52:29.563071",
     "status": "completed"
    },
    "tags": []
   },
   "outputs": [],
   "source": [
    "import sklearn\n",
    "import seaborn as sns\n",
    "import matplotlib.pyplot as plt"
   ]
  },
  {
   "cell_type": "code",
   "execution_count": 39,
   "id": "2acc41ab",
   "metadata": {
    "colab": {
     "base_uri": "https://localhost:8080/",
     "height": 758
    },
    "execution": {
     "iopub.execute_input": "2022-04-18T20:52:31.108478Z",
     "iopub.status.busy": "2022-04-18T20:52:31.107715Z",
     "iopub.status.idle": "2022-04-18T20:52:31.517392Z",
     "shell.execute_reply": "2022-04-18T20:52:31.517977Z",
     "shell.execute_reply.started": "2022-04-18T18:52:09.553061Z"
    },
    "id": "2acc41ab",
    "outputId": "cf92c8df-fe14-46f7-94b7-626db86c4739",
    "papermill": {
     "duration": 0.507317,
     "end_time": "2022-04-18T20:52:31.518174",
     "exception": false,
     "start_time": "2022-04-18T20:52:31.010857",
     "status": "completed"
    },
    "tags": []
   },
   "outputs": [
    {
     "name": "stderr",
     "output_type": "stream",
     "text": [
      "C:\\Users\\aryan\\AppData\\Local\\Temp/ipykernel_18708/4006580737.py:3: DeprecationWarning: `np.bool` is a deprecated alias for the builtin `bool`. To silence this warning, use `bool` by itself. Doing this will not modify any behavior and is safe. If you specifically wanted the numpy scalar type, use `np.bool_` here.\n",
      "Deprecated in NumPy 1.20; for more details and guidance: https://numpy.org/devdocs/release/1.20.0-notes.html#deprecations\n",
      "  mask = np.zeros_like(correlation_data, dtype=np.bool)\n"
     ]
    },
    {
     "data": {
      "image/png": "[encoded data removed]",
      "text/plain": [
       "<Figure size 792x648 with 2 Axes>"
      ]
     },
     "metadata": {
      "needs_background": "light"
     },
     "output_type": "display_data"
    }
   ],
   "source": [
    "correlation_data=yield_df.select_dtypes(include=[np.number]).corr()\n",
    "\n",
    "mask = np.zeros_like(correlation_data, dtype=np.bool)\n",
    "mask[np.triu_indices_from(mask)] = True\n",
    "\n",
    "f, ax = plt.subplots(figsize=(11, 9))\n",
    "\n",
    "# Generate a custom diverging colormap\n",
    "cmap = sns.palette=\"vlag\"\n",
    "\n",
    "# Draw the heatmap with the mask and correct aspect ratio\n",
    "sns.heatmap(correlation_data, mask=mask, cmap=cmap, vmax=.3, center=0,\n",
    "            square=True, linewidths=.5, cbar_kws={\"shrink\": .5});"
   ]
  },
  {
   "cell_type": "markdown",
   "id": "291f0e6c",
   "metadata": {
    "id": "291f0e6c",
    "papermill": {
     "duration": 0.082366,
     "end_time": "2022-04-18T20:52:31.683664",
     "exception": false,
     "start_time": "2022-04-18T20:52:31.601298",
     "status": "completed"
    },
    "tags": []
   },
   "source": [
    "It can be seen from the above correlation map that there is no correlation between any of the colmuns in the dataframe. "
   ]
  },
  {
   "cell_type": "markdown",
   "id": "1c8cbe7f",
   "metadata": {
    "id": "1c8cbe7f",
    "papermill": {
     "duration": 0.082336,
     "end_time": "2022-04-18T20:52:31.849676",
     "exception": false,
     "start_time": "2022-04-18T20:52:31.767340",
     "status": "completed"
    },
    "tags": []
   },
   "source": [
    "# Data Preprocessing"
   ]
  },
  {
   "cell_type": "markdown",
   "id": "25fb03b5",
   "metadata": {
    "id": "25fb03b5",
    "papermill": {
     "duration": 0.083396,
     "end_time": "2022-04-18T20:52:32.017556",
     "exception": false,
     "start_time": "2022-04-18T20:52:31.934160",
     "status": "completed"
    },
    "tags": []
   },
   "source": [
    "Data Preprocessing is a technique that is used to convert the raw data into a clean data set. In other words, whenever the data is gathered from different sources it is collected in raw format which is not feasible for the analysis.  \n",
    "\n",
    "\n"
   ]
  },
  {
   "cell_type": "code",
   "execution_count": 88,
   "id": "dc2bd381",
   "metadata": {
    "colab": {
     "base_uri": "https://localhost:8080/",
     "height": 206
    },
    "execution": {
     "iopub.execute_input": "2022-04-18T20:52:32.188460Z",
     "iopub.status.busy": "2022-04-18T20:52:32.187290Z",
     "iopub.status.idle": "2022-04-18T20:52:32.202042Z",
     "shell.execute_reply": "2022-04-18T20:52:32.202577Z",
     "shell.execute_reply.started": "2022-04-18T18:52:15.524358Z"
    },
    "id": "dc2bd381",
    "outputId": "beae2486-17a0-4ffe-ea7e-3f077e3b8de0",
    "papermill": {
     "duration": 0.101925,
     "end_time": "2022-04-18T20:52:32.202780",
     "exception": false,
     "start_time": "2022-04-18T20:52:32.100855",
     "status": "completed"
    },
    "scrolled": true,
    "tags": []
   },
   "outputs": [
    {
     "data": {
      "text/html": [
       "<div>\n",
       "<style scoped>\n",
       "    .dataframe tbody tr th:only-of-type {\n",
       "        vertical-align: middle;\n",
       "    }\n",
       "\n",
       "    .dataframe tbody tr th {\n",
       "        vertical-align: top;\n",
       "    }\n",
       "\n",
       "    .dataframe thead th {\n",
       "        text-align: right;\n",
       "    }\n",
       "</style>\n",
       "<table border=\"1\" class=\"dataframe\">\n",
       "  <thead>\n",
       "    <tr style=\"text-align: right;\">\n",
       "      <th></th>\n",
       "      <th>Area</th>\n",
       "      <th>Item</th>\n",
       "      <th>Year</th>\n",
       "      <th>hg/ha_yield</th>\n",
       "      <th>average_rain_fall_mm_per_year</th>\n",
       "      <th>pesticides_tonnes</th>\n",
       "      <th>avg_temp</th>\n",
       "    </tr>\n",
       "  </thead>\n",
       "  <tbody>\n",
       "    <tr>\n",
       "      <th>0</th>\n",
       "      <td>Albania</td>\n",
       "      <td>Maize</td>\n",
       "      <td>1990</td>\n",
       "      <td>36613</td>\n",
       "      <td>1485.0</td>\n",
       "      <td>121.0</td>\n",
       "      <td>16.37</td>\n",
       "    </tr>\n",
       "    <tr>\n",
       "      <th>1</th>\n",
       "      <td>Albania</td>\n",
       "      <td>Potatoes</td>\n",
       "      <td>1990</td>\n",
       "      <td>66667</td>\n",
       "      <td>1485.0</td>\n",
       "      <td>121.0</td>\n",
       "      <td>16.37</td>\n",
       "    </tr>\n",
       "    <tr>\n",
       "      <th>2</th>\n",
       "      <td>Albania</td>\n",
       "      <td>Rice, paddy</td>\n",
       "      <td>1990</td>\n",
       "      <td>23333</td>\n",
       "      <td>1485.0</td>\n",
       "      <td>121.0</td>\n",
       "      <td>16.37</td>\n",
       "    </tr>\n",
       "    <tr>\n",
       "      <th>3</th>\n",
       "      <td>Albania</td>\n",
       "      <td>Sorghum</td>\n",
       "      <td>1990</td>\n",
       "      <td>12500</td>\n",
       "      <td>1485.0</td>\n",
       "      <td>121.0</td>\n",
       "      <td>16.37</td>\n",
       "    </tr>\n",
       "    <tr>\n",
       "      <th>4</th>\n",
       "      <td>Albania</td>\n",
       "      <td>Soybeans</td>\n",
       "      <td>1990</td>\n",
       "      <td>7000</td>\n",
       "      <td>1485.0</td>\n",
       "      <td>121.0</td>\n",
       "      <td>16.37</td>\n",
       "    </tr>\n",
       "  </tbody>\n",
       "</table>\n",
       "</div>"
      ],
      "text/plain": [
       "      Area         Item  Year  hg/ha_yield  average_rain_fall_mm_per_year  \\\n",
       "0  Albania        Maize  1990        36613                         1485.0   \n",
       "1  Albania     Potatoes  1990        66667                         1485.0   \n",
       "2  Albania  Rice, paddy  1990        23333                         1485.0   \n",
       "3  Albania      Sorghum  1990        12500                         1485.0   \n",
       "4  Albania     Soybeans  1990         7000                         1485.0   \n",
       "\n",
       "   pesticides_tonnes  avg_temp  \n",
       "0              121.0     16.37  \n",
       "1              121.0     16.37  \n",
       "2              121.0     16.37  \n",
       "3              121.0     16.37  \n",
       "4              121.0     16.37  "
      ]
     },
     "execution_count": 88,
     "metadata": {},
     "output_type": "execute_result"
    }
   ],
   "source": [
    "yield_df.head()"
   ]
  },
  {
   "cell_type": "markdown",
   "id": "92b6486b",
   "metadata": {
    "id": "92b6486b",
    "papermill": {
     "duration": 0.086624,
     "end_time": "2022-04-18T20:52:32.374626",
     "exception": false,
     "start_time": "2022-04-18T20:52:32.288002",
     "status": "completed"
    },
    "tags": []
   },
   "source": [
    "### Encoding Categorical Variables:\n",
    "There are two categorical columns in the dataframe, categorical data are variables that contain label values rather than numeric values. The number of possible values is often limited to a fixed set, like in this case, items and countries values.\n",
    "Many machine learning algorithms cannot operate on label data directly. They require all input variables and output variables to be numeric.\n",
    "\n",
    "This means that categorical data must be converted to a numerical form. One hot encoding is a process by which categorical variables are converted into a form that could be provided to ML algorithms to do a better job in prediction. For that purpose, One-Hot Encoding will be used to convert these two columns to one-hot numeric array.\n",
    "\n",
    "The categorical value represents the numerical value of the entry in the dataset. This encoding will create a binary column for each category and returns a matrix with the results. \n"
   ]
  },
  {
   "cell_type": "code",
   "execution_count": 89,
   "id": "f1897961",
   "metadata": {
    "execution": {
     "iopub.execute_input": "2022-04-18T20:52:32.550281Z",
     "iopub.status.busy": "2022-04-18T20:52:32.548686Z",
     "iopub.status.idle": "2022-04-18T20:52:32.581870Z",
     "shell.execute_reply": "2022-04-18T20:52:32.582462Z"
    },
    "id": "f1897961",
    "papermill": {
     "duration": 0.122906,
     "end_time": "2022-04-18T20:52:32.582655",
     "exception": false,
     "start_time": "2022-04-18T20:52:32.459749",
     "status": "completed"
    },
    "tags": []
   },
   "outputs": [],
   "source": [
    "from sklearn.preprocessing import OneHotEncoder"
   ]
  },
  {
   "cell_type": "code",
   "execution_count": 90,
   "id": "04fe50aa",
   "metadata": {
    "colab": {
     "base_uri": "https://localhost:8080/",
     "height": 317
    },
    "execution": {
     "iopub.execute_input": "2022-04-18T20:52:32.755267Z",
     "iopub.status.busy": "2022-04-18T20:52:32.754572Z",
     "iopub.status.idle": "2022-04-18T20:52:32.813323Z",
     "shell.execute_reply": "2022-04-18T20:52:32.813872Z",
     "shell.execute_reply.started": "2022-04-18T18:52:20.824016Z"
    },
    "id": "04fe50aa",
    "outputId": "e1680b4c-9851-48ad-f643-c93539f4b818",
    "papermill": {
     "duration": 0.146792,
     "end_time": "2022-04-18T20:52:32.814060",
     "exception": false,
     "start_time": "2022-04-18T20:52:32.667268",
     "status": "completed"
    },
    "tags": []
   },
   "outputs": [
    {
     "data": {
      "text/html": [
       "<div>\n",
       "<style scoped>\n",
       "    .dataframe tbody tr th:only-of-type {\n",
       "        vertical-align: middle;\n",
       "    }\n",
       "\n",
       "    .dataframe tbody tr th {\n",
       "        vertical-align: top;\n",
       "    }\n",
       "\n",
       "    .dataframe thead th {\n",
       "        text-align: right;\n",
       "    }\n",
       "</style>\n",
       "<table border=\"1\" class=\"dataframe\">\n",
       "  <thead>\n",
       "    <tr style=\"text-align: right;\">\n",
       "      <th></th>\n",
       "      <th>Year</th>\n",
       "      <th>average_rain_fall_mm_per_year</th>\n",
       "      <th>pesticides_tonnes</th>\n",
       "      <th>avg_temp</th>\n",
       "      <th>Country_Albania</th>\n",
       "      <th>Country_Algeria</th>\n",
       "      <th>Country_Angola</th>\n",
       "      <th>Country_Argentina</th>\n",
       "      <th>Country_Armenia</th>\n",
       "      <th>Country_Australia</th>\n",
       "      <th>...</th>\n",
       "      <th>Item_Cassava</th>\n",
       "      <th>Item_Maize</th>\n",
       "      <th>Item_Plantains and others</th>\n",
       "      <th>Item_Potatoes</th>\n",
       "      <th>Item_Rice, paddy</th>\n",
       "      <th>Item_Sorghum</th>\n",
       "      <th>Item_Soybeans</th>\n",
       "      <th>Item_Sweet potatoes</th>\n",
       "      <th>Item_Wheat</th>\n",
       "      <th>Item_Yams</th>\n",
       "    </tr>\n",
       "  </thead>\n",
       "  <tbody>\n",
       "    <tr>\n",
       "      <th>0</th>\n",
       "      <td>1990</td>\n",
       "      <td>1485.0</td>\n",
       "      <td>121.0</td>\n",
       "      <td>16.37</td>\n",
       "      <td>1</td>\n",
       "      <td>0</td>\n",
       "      <td>0</td>\n",
       "      <td>0</td>\n",
       "      <td>0</td>\n",
       "      <td>0</td>\n",
       "      <td>...</td>\n",
       "      <td>0</td>\n",
       "      <td>1</td>\n",
       "      <td>0</td>\n",
       "      <td>0</td>\n",
       "      <td>0</td>\n",
       "      <td>0</td>\n",
       "      <td>0</td>\n",
       "      <td>0</td>\n",
       "      <td>0</td>\n",
       "      <td>0</td>\n",
       "    </tr>\n",
       "    <tr>\n",
       "      <th>1</th>\n",
       "      <td>1990</td>\n",
       "      <td>1485.0</td>\n",
       "      <td>121.0</td>\n",
       "      <td>16.37</td>\n",
       "      <td>1</td>\n",
       "      <td>0</td>\n",
       "      <td>0</td>\n",
       "      <td>0</td>\n",
       "      <td>0</td>\n",
       "      <td>0</td>\n",
       "      <td>...</td>\n",
       "      <td>0</td>\n",
       "      <td>0</td>\n",
       "      <td>0</td>\n",
       "      <td>1</td>\n",
       "      <td>0</td>\n",
       "      <td>0</td>\n",
       "      <td>0</td>\n",
       "      <td>0</td>\n",
       "      <td>0</td>\n",
       "      <td>0</td>\n",
       "    </tr>\n",
       "    <tr>\n",
       "      <th>2</th>\n",
       "      <td>1990</td>\n",
       "      <td>1485.0</td>\n",
       "      <td>121.0</td>\n",
       "      <td>16.37</td>\n",
       "      <td>1</td>\n",
       "      <td>0</td>\n",
       "      <td>0</td>\n",
       "      <td>0</td>\n",
       "      <td>0</td>\n",
       "      <td>0</td>\n",
       "      <td>...</td>\n",
       "      <td>0</td>\n",
       "      <td>0</td>\n",
       "      <td>0</td>\n",
       "      <td>0</td>\n",
       "      <td>1</td>\n",
       "      <td>0</td>\n",
       "      <td>0</td>\n",
       "      <td>0</td>\n",
       "      <td>0</td>\n",
       "      <td>0</td>\n",
       "    </tr>\n",
       "    <tr>\n",
       "      <th>3</th>\n",
       "      <td>1990</td>\n",
       "      <td>1485.0</td>\n",
       "      <td>121.0</td>\n",
       "      <td>16.37</td>\n",
       "      <td>1</td>\n",
       "      <td>0</td>\n",
       "      <td>0</td>\n",
       "      <td>0</td>\n",
       "      <td>0</td>\n",
       "      <td>0</td>\n",
       "      <td>...</td>\n",
       "      <td>0</td>\n",
       "      <td>0</td>\n",
       "      <td>0</td>\n",
       "      <td>0</td>\n",
       "      <td>0</td>\n",
       "      <td>1</td>\n",
       "      <td>0</td>\n",
       "      <td>0</td>\n",
       "      <td>0</td>\n",
       "      <td>0</td>\n",
       "    </tr>\n",
       "    <tr>\n",
       "      <th>4</th>\n",
       "      <td>1990</td>\n",
       "      <td>1485.0</td>\n",
       "      <td>121.0</td>\n",
       "      <td>16.37</td>\n",
       "      <td>1</td>\n",
       "      <td>0</td>\n",
       "      <td>0</td>\n",
       "      <td>0</td>\n",
       "      <td>0</td>\n",
       "      <td>0</td>\n",
       "      <td>...</td>\n",
       "      <td>0</td>\n",
       "      <td>0</td>\n",
       "      <td>0</td>\n",
       "      <td>0</td>\n",
       "      <td>0</td>\n",
       "      <td>0</td>\n",
       "      <td>1</td>\n",
       "      <td>0</td>\n",
       "      <td>0</td>\n",
       "      <td>0</td>\n",
       "    </tr>\n",
       "  </tbody>\n",
       "</table>\n",
       "<p>5 rows × 115 columns</p>\n",
       "</div>"
      ],
      "text/plain": [
       "   Year  average_rain_fall_mm_per_year  pesticides_tonnes  avg_temp  \\\n",
       "0  1990                         1485.0              121.0     16.37   \n",
       "1  1990                         1485.0              121.0     16.37   \n",
       "2  1990                         1485.0              121.0     16.37   \n",
       "3  1990                         1485.0              121.0     16.37   \n",
       "4  1990                         1485.0              121.0     16.37   \n",
       "\n",
       "   Country_Albania  Country_Algeria  Country_Angola  Country_Argentina  \\\n",
       "0                1                0               0                  0   \n",
       "1                1                0               0                  0   \n",
       "2                1                0               0                  0   \n",
       "3                1                0               0                  0   \n",
       "4                1                0               0                  0   \n",
       "\n",
       "   Country_Armenia  Country_Australia  ...  Item_Cassava  Item_Maize  \\\n",
       "0                0                  0  ...             0           1   \n",
       "1                0                  0  ...             0           0   \n",
       "2                0                  0  ...             0           0   \n",
       "3                0                  0  ...             0           0   \n",
       "4                0                  0  ...             0           0   \n",
       "\n",
       "   Item_Plantains and others  Item_Potatoes  Item_Rice, paddy  Item_Sorghum  \\\n",
       "0                          0              0                 0             0   \n",
       "1                          0              1                 0             0   \n",
       "2                          0              0                 1             0   \n",
       "3                          0              0                 0             1   \n",
       "4                          0              0                 0             0   \n",
       "\n",
       "   Item_Soybeans  Item_Sweet potatoes  Item_Wheat  Item_Yams  \n",
       "0              0                    0           0          0  \n",
       "1              0                    0           0          0  \n",
       "2              0                    0           0          0  \n",
       "3              0                    0           0          0  \n",
       "4              1                    0           0          0  \n",
       "\n",
       "[5 rows x 115 columns]"
      ]
     },
     "execution_count": 90,
     "metadata": {},
     "output_type": "execute_result"
    }
   ],
   "source": [
    "yield_df_onehot = pd.get_dummies(yield_df, columns=['Area',\"Item\"], prefix = ['Country',\"Item\"])\n",
    "features=yield_df_onehot.loc[:, yield_df_onehot.columns != 'hg/ha_yield']\n",
    "label=yield_df['hg/ha_yield']\n",
    "features.head()"
   ]
  },
  {
   "cell_type": "code",
   "execution_count": 91,
   "id": "a863ab7d",
   "metadata": {
    "execution": {
     "iopub.execute_input": "2022-04-18T20:52:32.995801Z",
     "iopub.status.busy": "2022-04-18T20:52:32.995038Z",
     "iopub.status.idle": "2022-04-18T20:52:33.004886Z",
     "shell.execute_reply": "2022-04-18T20:52:33.005449Z",
     "shell.execute_reply.started": "2022-04-18T18:52:23.265413Z"
    },
    "id": "a863ab7d",
    "papermill": {
     "duration": 0.10278,
     "end_time": "2022-04-18T20:52:33.005644",
     "exception": false,
     "start_time": "2022-04-18T20:52:32.902864",
     "status": "completed"
    },
    "tags": []
   },
   "outputs": [],
   "source": [
    "features = features.drop(['Year'], axis=1)"
   ]
  },
  {
   "cell_type": "code",
   "execution_count": 92,
   "id": "f0358acd",
   "metadata": {
    "colab": {
     "base_uri": "https://localhost:8080/"
    },
    "execution": {
     "iopub.execute_input": "2022-04-18T20:52:33.180012Z",
     "iopub.status.busy": "2022-04-18T20:52:33.179311Z",
     "iopub.status.idle": "2022-04-18T20:52:33.194528Z",
     "shell.execute_reply": "2022-04-18T20:52:33.195117Z",
     "shell.execute_reply.started": "2022-04-18T18:52:25.110487Z"
    },
    "id": "f0358acd",
    "outputId": "e75a077e-22e3-4840-bfd6-6f945d94f1e1",
    "papermill": {
     "duration": 0.104689,
     "end_time": "2022-04-18T20:52:33.195300",
     "exception": false,
     "start_time": "2022-04-18T20:52:33.090611",
     "status": "completed"
    },
    "scrolled": true,
    "tags": []
   },
   "outputs": [
    {
     "name": "stdout",
     "output_type": "stream",
     "text": [
      "<class 'pandas.core.frame.DataFrame'>\n",
      "Int64Index: 28242 entries, 0 to 28241\n",
      "Columns: 114 entries, average_rain_fall_mm_per_year to Item_Yams\n",
      "dtypes: float64(3), uint8(111)\n",
      "memory usage: 3.9 MB\n"
     ]
    }
   ],
   "source": [
    "features.info()"
   ]
  },
  {
   "cell_type": "code",
   "execution_count": 93,
   "id": "cf08b5a0",
   "metadata": {
    "colab": {
     "base_uri": "https://localhost:8080/",
     "height": 317
    },
    "execution": {
     "iopub.execute_input": "2022-04-18T20:52:33.374951Z",
     "iopub.status.busy": "2022-04-18T20:52:33.374259Z",
     "iopub.status.idle": "2022-04-18T20:52:33.393384Z",
     "shell.execute_reply": "2022-04-18T20:52:33.393979Z",
     "shell.execute_reply.started": "2022-04-18T18:52:27.125696Z"
    },
    "id": "cf08b5a0",
    "outputId": "58cd390b-1ea7-4682-8f24-0ba6849c9210",
    "papermill": {
     "duration": 0.109622,
     "end_time": "2022-04-18T20:52:33.394163",
     "exception": false,
     "start_time": "2022-04-18T20:52:33.284541",
     "status": "completed"
    },
    "scrolled": true,
    "tags": []
   },
   "outputs": [
    {
     "data": {
      "text/html": [
       "<div>\n",
       "<style scoped>\n",
       "    .dataframe tbody tr th:only-of-type {\n",
       "        vertical-align: middle;\n",
       "    }\n",
       "\n",
       "    .dataframe tbody tr th {\n",
       "        vertical-align: top;\n",
       "    }\n",
       "\n",
       "    .dataframe thead th {\n",
       "        text-align: right;\n",
       "    }\n",
       "</style>\n",
       "<table border=\"1\" class=\"dataframe\">\n",
       "  <thead>\n",
       "    <tr style=\"text-align: right;\">\n",
       "      <th></th>\n",
       "      <th>average_rain_fall_mm_per_year</th>\n",
       "      <th>pesticides_tonnes</th>\n",
       "      <th>avg_temp</th>\n",
       "      <th>Country_Albania</th>\n",
       "      <th>Country_Algeria</th>\n",
       "      <th>Country_Angola</th>\n",
       "      <th>Country_Argentina</th>\n",
       "      <th>Country_Armenia</th>\n",
       "      <th>Country_Australia</th>\n",
       "      <th>Country_Austria</th>\n",
       "      <th>...</th>\n",
       "      <th>Item_Cassava</th>\n",
       "      <th>Item_Maize</th>\n",
       "      <th>Item_Plantains and others</th>\n",
       "      <th>Item_Potatoes</th>\n",
       "      <th>Item_Rice, paddy</th>\n",
       "      <th>Item_Sorghum</th>\n",
       "      <th>Item_Soybeans</th>\n",
       "      <th>Item_Sweet potatoes</th>\n",
       "      <th>Item_Wheat</th>\n",
       "      <th>Item_Yams</th>\n",
       "    </tr>\n",
       "  </thead>\n",
       "  <tbody>\n",
       "    <tr>\n",
       "      <th>0</th>\n",
       "      <td>1485.0</td>\n",
       "      <td>121.0</td>\n",
       "      <td>16.37</td>\n",
       "      <td>1</td>\n",
       "      <td>0</td>\n",
       "      <td>0</td>\n",
       "      <td>0</td>\n",
       "      <td>0</td>\n",
       "      <td>0</td>\n",
       "      <td>0</td>\n",
       "      <td>...</td>\n",
       "      <td>0</td>\n",
       "      <td>1</td>\n",
       "      <td>0</td>\n",
       "      <td>0</td>\n",
       "      <td>0</td>\n",
       "      <td>0</td>\n",
       "      <td>0</td>\n",
       "      <td>0</td>\n",
       "      <td>0</td>\n",
       "      <td>0</td>\n",
       "    </tr>\n",
       "    <tr>\n",
       "      <th>1</th>\n",
       "      <td>1485.0</td>\n",
       "      <td>121.0</td>\n",
       "      <td>16.37</td>\n",
       "      <td>1</td>\n",
       "      <td>0</td>\n",
       "      <td>0</td>\n",
       "      <td>0</td>\n",
       "      <td>0</td>\n",
       "      <td>0</td>\n",
       "      <td>0</td>\n",
       "      <td>...</td>\n",
       "      <td>0</td>\n",
       "      <td>0</td>\n",
       "      <td>0</td>\n",
       "      <td>1</td>\n",
       "      <td>0</td>\n",
       "      <td>0</td>\n",
       "      <td>0</td>\n",
       "      <td>0</td>\n",
       "      <td>0</td>\n",
       "      <td>0</td>\n",
       "    </tr>\n",
       "    <tr>\n",
       "      <th>2</th>\n",
       "      <td>1485.0</td>\n",
       "      <td>121.0</td>\n",
       "      <td>16.37</td>\n",
       "      <td>1</td>\n",
       "      <td>0</td>\n",
       "      <td>0</td>\n",
       "      <td>0</td>\n",
       "      <td>0</td>\n",
       "      <td>0</td>\n",
       "      <td>0</td>\n",
       "      <td>...</td>\n",
       "      <td>0</td>\n",
       "      <td>0</td>\n",
       "      <td>0</td>\n",
       "      <td>0</td>\n",
       "      <td>1</td>\n",
       "      <td>0</td>\n",
       "      <td>0</td>\n",
       "      <td>0</td>\n",
       "      <td>0</td>\n",
       "      <td>0</td>\n",
       "    </tr>\n",
       "    <tr>\n",
       "      <th>3</th>\n",
       "      <td>1485.0</td>\n",
       "      <td>121.0</td>\n",
       "      <td>16.37</td>\n",
       "      <td>1</td>\n",
       "      <td>0</td>\n",
       "      <td>0</td>\n",
       "      <td>0</td>\n",
       "      <td>0</td>\n",
       "      <td>0</td>\n",
       "      <td>0</td>\n",
       "      <td>...</td>\n",
       "      <td>0</td>\n",
       "      <td>0</td>\n",
       "      <td>0</td>\n",
       "      <td>0</td>\n",
       "      <td>0</td>\n",
       "      <td>1</td>\n",
       "      <td>0</td>\n",
       "      <td>0</td>\n",
       "      <td>0</td>\n",
       "      <td>0</td>\n",
       "    </tr>\n",
       "    <tr>\n",
       "      <th>4</th>\n",
       "      <td>1485.0</td>\n",
       "      <td>121.0</td>\n",
       "      <td>16.37</td>\n",
       "      <td>1</td>\n",
       "      <td>0</td>\n",
       "      <td>0</td>\n",
       "      <td>0</td>\n",
       "      <td>0</td>\n",
       "      <td>0</td>\n",
       "      <td>0</td>\n",
       "      <td>...</td>\n",
       "      <td>0</td>\n",
       "      <td>0</td>\n",
       "      <td>0</td>\n",
       "      <td>0</td>\n",
       "      <td>0</td>\n",
       "      <td>0</td>\n",
       "      <td>1</td>\n",
       "      <td>0</td>\n",
       "      <td>0</td>\n",
       "      <td>0</td>\n",
       "    </tr>\n",
       "  </tbody>\n",
       "</table>\n",
       "<p>5 rows × 114 columns</p>\n",
       "</div>"
      ],
      "text/plain": [
       "   average_rain_fall_mm_per_year  pesticides_tonnes  avg_temp  \\\n",
       "0                         1485.0              121.0     16.37   \n",
       "1                         1485.0              121.0     16.37   \n",
       "2                         1485.0              121.0     16.37   \n",
       "3                         1485.0              121.0     16.37   \n",
       "4                         1485.0              121.0     16.37   \n",
       "\n",
       "   Country_Albania  Country_Algeria  Country_Angola  Country_Argentina  \\\n",
       "0                1                0               0                  0   \n",
       "1                1                0               0                  0   \n",
       "2                1                0               0                  0   \n",
       "3                1                0               0                  0   \n",
       "4                1                0               0                  0   \n",
       "\n",
       "   Country_Armenia  Country_Australia  Country_Austria  ...  Item_Cassava  \\\n",
       "0                0                  0                0  ...             0   \n",
       "1                0                  0                0  ...             0   \n",
       "2                0                  0                0  ...             0   \n",
       "3                0                  0                0  ...             0   \n",
       "4                0                  0                0  ...             0   \n",
       "\n",
       "   Item_Maize  Item_Plantains and others  Item_Potatoes  Item_Rice, paddy  \\\n",
       "0           1                          0              0                 0   \n",
       "1           0                          0              1                 0   \n",
       "2           0                          0              0                 1   \n",
       "3           0                          0              0                 0   \n",
       "4           0                          0              0                 0   \n",
       "\n",
       "   Item_Sorghum  Item_Soybeans  Item_Sweet potatoes  Item_Wheat  Item_Yams  \n",
       "0             0              0                    0           0          0  \n",
       "1             0              0                    0           0          0  \n",
       "2             0              0                    0           0          0  \n",
       "3             1              0                    0           0          0  \n",
       "4             0              1                    0           0          0  \n",
       "\n",
       "[5 rows x 114 columns]"
      ]
     },
     "execution_count": 93,
     "metadata": {},
     "output_type": "execute_result"
    }
   ],
   "source": [
    "features.head()"
   ]
  },
  {
   "cell_type": "markdown",
   "id": "9932c92f",
   "metadata": {
    "id": "9932c92f",
    "papermill": {
     "duration": 0.084945,
     "end_time": "2022-04-18T20:52:33.566039",
     "exception": false,
     "start_time": "2022-04-18T20:52:33.481094",
     "status": "completed"
    },
    "tags": []
   },
   "source": [
    "\n",
    "### Scaling Features: \n",
    "\n",
    "Taking a look at the dataset above, it contains features highly varying in magnitudes, units and range. The features with high magnitudes will weigh in a lot more in the distance calculations than features with low magnitudes.\n",
    "\n",
    "To supress this effect, we need to bring all features to the same level of magnitudes. This can be acheived by scaling."
   ]
  },
  {
   "cell_type": "code",
   "execution_count": 94,
   "id": "92010b14",
   "metadata": {
    "execution": {
     "iopub.execute_input": "2022-04-18T20:52:33.741676Z",
     "iopub.status.busy": "2022-04-18T20:52:33.740932Z",
     "iopub.status.idle": "2022-04-18T20:52:33.801511Z",
     "shell.execute_reply": "2022-04-18T20:52:33.800946Z",
     "shell.execute_reply.started": "2022-04-18T18:52:29.591373Z"
    },
    "id": "92010b14",
    "papermill": {
     "duration": 0.14998,
     "end_time": "2022-04-18T20:52:33.801706",
     "exception": false,
     "start_time": "2022-04-18T20:52:33.651726",
     "status": "completed"
    },
    "tags": []
   },
   "outputs": [],
   "source": [
    "from sklearn.preprocessing import MinMaxScaler\n",
    "scaler=MinMaxScaler()\n",
    "features=scaler.fit_transform(features) "
   ]
  },
  {
   "cell_type": "markdown",
   "id": "e5ffc45b",
   "metadata": {
    "id": "e5ffc45b",
    "papermill": {
     "duration": 0.08553,
     "end_time": "2022-04-18T20:52:33.974271",
     "exception": false,
     "start_time": "2022-04-18T20:52:33.888741",
     "status": "completed"
    },
    "tags": []
   },
   "source": [
    "After dropping year column in addition to scaling all values in features, the resulting array will look something like this : "
   ]
  },
  {
   "cell_type": "code",
   "execution_count": 95,
   "id": "f424b55f",
   "metadata": {
    "colab": {
     "base_uri": "https://localhost:8080/"
    },
    "execution": {
     "iopub.execute_input": "2022-04-18T20:52:34.152181Z",
     "iopub.status.busy": "2022-04-18T20:52:34.151471Z",
     "iopub.status.idle": "2022-04-18T20:52:34.157289Z",
     "shell.execute_reply": "2022-04-18T20:52:34.157870Z",
     "shell.execute_reply.started": "2022-04-18T18:52:32.188049Z"
    },
    "id": "f424b55f",
    "outputId": "75fa3022-35d3-4ef0-971a-9aec7d9c3284",
    "papermill": {
     "duration": 0.097136,
     "end_time": "2022-04-18T20:52:34.158058",
     "exception": false,
     "start_time": "2022-04-18T20:52:34.060922",
     "status": "completed"
    },
    "tags": []
   },
   "outputs": [
    {
     "data": {
      "text/plain": [
       "array([[4.49670743e-01, 3.28894097e-04, 5.13458262e-01, ...,\n",
       "        0.00000000e+00, 0.00000000e+00, 0.00000000e+00],\n",
       "       [4.49670743e-01, 3.28894097e-04, 5.13458262e-01, ...,\n",
       "        0.00000000e+00, 0.00000000e+00, 0.00000000e+00],\n",
       "       [4.49670743e-01, 3.28894097e-04, 5.13458262e-01, ...,\n",
       "        0.00000000e+00, 0.00000000e+00, 0.00000000e+00],\n",
       "       ...,\n",
       "       [1.90028222e-01, 6.93361288e-03, 6.28960818e-01, ...,\n",
       "        0.00000000e+00, 0.00000000e+00, 0.00000000e+00],\n",
       "       [1.90028222e-01, 6.93361288e-03, 6.28960818e-01, ...,\n",
       "        1.00000000e+00, 0.00000000e+00, 0.00000000e+00],\n",
       "       [1.90028222e-01, 6.93361288e-03, 6.28960818e-01, ...,\n",
       "        0.00000000e+00, 1.00000000e+00, 0.00000000e+00]])"
      ]
     },
     "execution_count": 95,
     "metadata": {},
     "output_type": "execute_result"
    }
   ],
   "source": [
    "features"
   ]
  },
  {
   "cell_type": "markdown",
   "id": "06b1ae8d",
   "metadata": {
    "id": "06b1ae8d",
    "papermill": {
     "duration": 0.087808,
     "end_time": "2022-04-18T20:52:34.334861",
     "exception": false,
     "start_time": "2022-04-18T20:52:34.247053",
     "status": "completed"
    },
    "tags": []
   },
   "source": [
    "## Training Data: \n",
    "\n",
    "The dataset will be split to two datasets, the training dataset and test dataset. The data is usually tend to be split inequality because training the model usually requires as much data-points as possible.The common splits are 70/30 or 80/20 for train/test.\n",
    "\n",
    "The training dataset is the intial dataset used to train ML algorithm to learn and produce right predictions. (70% of dataset is training dataset)\n",
    "\n",
    "The test dataset, however, is used to assess how well ML algorithm is trained with the training dataset. You can’t simply reuse the training dataset in the testing stage because ML algorithm will already “know” the expected output, which defeats the purpose of testing the algorithm. (30% of dataset is testing dataset) \n",
    "\n"
   ]
  },
  {
   "cell_type": "code",
   "execution_count": 118,
   "id": "73856908",
   "metadata": {
    "colab": {
     "base_uri": "https://localhost:8080/"
    },
    "execution": {
     "iopub.execute_input": "2022-04-18T20:52:34.513957Z",
     "iopub.status.busy": "2022-04-18T20:52:34.513141Z",
     "iopub.status.idle": "2022-04-18T20:52:34.623393Z",
     "shell.execute_reply": "2022-04-18T20:52:34.622662Z",
     "shell.execute_reply.started": "2022-04-18T18:52:34.698323Z"
    },
    "id": "73856908",
    "outputId": "65f5b409-e1a5-4b77-cf29-fb48a141c78d",
    "papermill": {
     "duration": 0.201602,
     "end_time": "2022-04-18T20:52:34.623597",
     "exception": false,
     "start_time": "2022-04-18T20:52:34.421995",
     "status": "completed"
    },
    "tags": []
   },
   "outputs": [
    {
     "name": "stdout",
     "output_type": "stream",
     "text": [
      "x_train : (21181, 114)\n",
      "x_test : (7061, 114)\n",
      "y_train : (21181,)\n",
      "y_test : (7061,)\n"
     ]
    }
   ],
   "source": [
    "from sklearn.model_selection import train_test_split\n",
    "\n",
    "# Splitting data set - 25% test dataset and 75% \n",
    "\n",
    "train_data, test_data, train_labels, test_labels = train_test_split(features, label, test_size=0.25, random_state=5)\n",
    "\n",
    "print(\"x_train :\",train_data.shape)\n",
    "print(\"x_test :\",test_data.shape)\n",
    "print(\"y_train :\",train_labels.shape)\n",
    "print(\"y_test :\",test_labels.shape)"
   ]
  },
  {
   "cell_type": "code",
   "execution_count": 119,
   "id": "9391bc45",
   "metadata": {
    "colab": {
     "base_uri": "https://localhost:8080/"
    },
    "execution": {
     "iopub.execute_input": "2022-04-18T20:52:34.807062Z",
     "iopub.status.busy": "2022-04-18T20:52:34.806330Z",
     "iopub.status.idle": "2022-04-18T20:52:34.809619Z",
     "shell.execute_reply": "2022-04-18T20:52:34.810212Z"
    },
    "id": "9391bc45",
    "outputId": "ef7449e1-d10d-45b5-9950-ad9ac7305458",
    "papermill": {
     "duration": 0.099215,
     "end_time": "2022-04-18T20:52:34.810409",
     "exception": false,
     "start_time": "2022-04-18T20:52:34.711194",
     "status": "completed"
    },
    "tags": []
   },
   "outputs": [
    {
     "name": "stdout",
     "output_type": "stream",
     "text": [
      "[[3.23612418e-01 3.93859654e-02 8.90971039e-01 ... 1.00000000e+00\n",
      "  0.00000000e+00 0.00000000e+00]\n",
      " [1.99121982e-01 1.18351301e-03 8.18739353e-01 ... 0.00000000e+00\n",
      "  0.00000000e+00 0.00000000e+00]\n",
      " [1.51458137e-01 7.24648100e-02 5.59795571e-01 ... 0.00000000e+00\n",
      "  0.00000000e+00 0.00000000e+00]\n",
      " ...\n",
      " [5.95798056e-02 2.03818630e-04 3.39011925e-01 ... 0.00000000e+00\n",
      "  0.00000000e+00 0.00000000e+00]\n",
      " [7.24365005e-02 4.02416719e-05 9.14139693e-01 ... 1.00000000e+00\n",
      "  0.00000000e+00 0.00000000e+00]\n",
      " [5.36218250e-01 2.05717303e-01 8.21465077e-01 ... 1.00000000e+00\n",
      "  0.00000000e+00 0.00000000e+00]]\n",
      "13634     88943\n",
      "24366     22497\n",
      "1341      19487\n",
      "17393     38500\n",
      "22371     12160\n",
      "          ...  \n",
      "3046     130631\n",
      "26301      6107\n",
      "20463    165000\n",
      "18638    159665\n",
      "2915     107920\n",
      "Name: hg/ha_yield, Length: 21181, dtype: int64\n"
     ]
    }
   ],
   "source": [
    "print(train_data)\n",
    "print(train_labels)"
   ]
  },
  {
   "cell_type": "markdown",
   "id": "22e5e1b2",
   "metadata": {
    "id": "22e5e1b2"
   },
   "source": [
    "# Linear Regression"
   ]
  },
  {
   "cell_type": "code",
   "execution_count": 50,
   "id": "51bf0a9d",
   "metadata": {
    "colab": {
     "base_uri": "https://localhost:8080/"
    },
    "id": "51bf0a9d",
    "outputId": "147923d4-a30b-4dd8-ba39-f27d57d63cce"
   },
   "outputs": [
    {
     "data": {
      "text/html": [
       "<style>#sk-container-id-1 {color: black;background-color: white;}#sk-container-id-1 pre{padding: 0;}#sk-container-id-1 div.sk-toggleable {background-color: white;}#sk-container-id-1 label.sk-toggleable__label {cursor: pointer;display: block;width: 100%;margin-bottom: 0;padding: 0.3em;box-sizing: border-box;text-align: center;}#sk-container-id-1 label.sk-toggleable__label-arrow:before {content: \"▸\";float: left;margin-right: 0.25em;color: #696969;}#sk-container-id-1 label.sk-toggleable__label-arrow:hover:before {color: black;}#sk-container-id-1 div.sk-estimator:hover label.sk-toggleable__label-arrow:before {color: black;}#sk-container-id-1 div.sk-toggleable__content {max-height: 0;max-width: 0;overflow: hidden;text-align: left;background-color: #f0f8ff;}#sk-container-id-1 div.sk-toggleable__content pre {margin: 0.2em;color: black;border-radius: 0.25em;background-color: #f0f8ff;}#sk-container-id-1 input.sk-toggleable__control:checked~div.sk-toggleable__content {max-height: 200px;max-width: 100%;overflow: auto;}#sk-container-id-1 input.sk-toggleable__control:checked~label.sk-toggleable__label-arrow:before {content: \"▾\";}#sk-container-id-1 div.sk-estimator input.sk-toggleable__control:checked~label.sk-toggleable__label {background-color: #d4ebff;}#sk-container-id-1 div.sk-label input.sk-toggleable__control:checked~label.sk-toggleable__label {background-color: #d4ebff;}#sk-container-id-1 input.sk-hidden--visually {border: 0;clip: rect(1px 1px 1px 1px);clip: rect(1px, 1px, 1px, 1px);height: 1px;margin: -1px;overflow: hidden;padding: 0;position: absolute;width: 1px;}#sk-container-id-1 div.sk-estimator {font-family: monospace;background-color: #f0f8ff;border: 1px dotted black;border-radius: 0.25em;box-sizing: border-box;margin-bottom: 0.5em;}#sk-container-id-1 div.sk-estimator:hover {background-color: #d4ebff;}#sk-container-id-1 div.sk-parallel-item::after {content: \"\";width: 100%;border-bottom: 1px solid gray;flex-grow: 1;}#sk-container-id-1 div.sk-label:hover label.sk-toggleable__label {background-color: #d4ebff;}#sk-container-id-1 div.sk-serial::before {content: \"\";position: absolute;border-left: 1px solid gray;box-sizing: border-box;top: 0;bottom: 0;left: 50%;z-index: 0;}#sk-container-id-1 div.sk-serial {display: flex;flex-direction: column;align-items: center;background-color: white;padding-right: 0.2em;padding-left: 0.2em;position: relative;}#sk-container-id-1 div.sk-item {position: relative;z-index: 1;}#sk-container-id-1 div.sk-parallel {display: flex;align-items: stretch;justify-content: center;background-color: white;position: relative;}#sk-container-id-1 div.sk-item::before, #sk-container-id-1 div.sk-parallel-item::before {content: \"\";position: absolute;border-left: 1px solid gray;box-sizing: border-box;top: 0;bottom: 0;left: 50%;z-index: -1;}#sk-container-id-1 div.sk-parallel-item {display: flex;flex-direction: column;z-index: 1;position: relative;background-color: white;}#sk-container-id-1 div.sk-parallel-item:first-child::after {align-self: flex-end;width: 50%;}#sk-container-id-1 div.sk-parallel-item:last-child::after {align-self: flex-start;width: 50%;}#sk-container-id-1 div.sk-parallel-item:only-child::after {width: 0;}#sk-container-id-1 div.sk-dashed-wrapped {border: 1px dashed gray;margin: 0 0.4em 0.5em 0.4em;box-sizing: border-box;padding-bottom: 0.4em;background-color: white;}#sk-container-id-1 div.sk-label label {font-family: monospace;font-weight: bold;display: inline-block;line-height: 1.2em;}#sk-container-id-1 div.sk-label-container {text-align: center;}#sk-container-id-1 div.sk-container {/* jupyter's `normalize.less` sets `[hidden] { display: none; }` but bootstrap.min.css set `[hidden] { display: none !important; }` so we also need the `!important` here to be able to override the default hidden behavior on the sphinx rendered scikit-learn.org. See: https://github.com/scikit-learn/scikit-learn/issues/21755 */display: inline-block !important;position: relative;}#sk-container-id-1 div.sk-text-repr-fallback {display: none;}</style><div id=\"sk-container-id-1\" class=\"sk-top-container\"><div class=\"sk-text-repr-fallback\"><pre>LinearRegression()</pre><b>In a Jupyter environment, please rerun this cell to show the HTML representation or trust the notebook. <br />On GitHub, the HTML representation is unable to render, please try loading this page with nbviewer.org.</b></div><div class=\"sk-container\" hidden><div class=\"sk-item\"><div class=\"sk-estimator sk-toggleable\"><input class=\"sk-toggleable__control sk-hidden--visually\" id=\"sk-estimator-id-1\" type=\"checkbox\" checked><label for=\"sk-estimator-id-1\" class=\"sk-toggleable__label sk-toggleable__label-arrow\">LinearRegression</label><div class=\"sk-toggleable__content\"><pre>LinearRegression()</pre></div></div></div></div></div>"
      ],
      "text/plain": [
       "LinearRegression()"
      ]
     },
     "execution_count": 50,
     "metadata": {},
     "output_type": "execute_result"
    }
   ],
   "source": [
    "# Training the Simple Linear Regression model .\n",
    "\n",
    "from sklearn.linear_model import LinearRegression\n",
    "model = LinearRegression()\n",
    "model.fit(train_data,train_labels)"
   ]
  },
  {
   "cell_type": "code",
   "execution_count": 51,
   "id": "97ca2676",
   "metadata": {
    "colab": {
     "base_uri": "https://localhost:8080/"
    },
    "id": "97ca2676",
    "outputId": "44fb2d9b-0ed1-4be3-d425-031a8b35a627"
   },
   "outputs": [
    {
     "data": {
      "text/plain": [
       "array([  7932.5,  69753.5, -25712.5, ...,  46842. ,  10938.5,  -1220.5])"
      ]
     },
     "execution_count": 51,
     "metadata": {},
     "output_type": "execute_result"
    }
   ],
   "source": [
    "# Predicting the test Results \n",
    "\n",
    "lr_predict = model.predict(test_data)\n",
    "lr_predict"
   ]
  },
  {
   "cell_type": "code",
   "execution_count": 52,
   "id": "c404f0ac",
   "metadata": {
    "colab": {
     "base_uri": "https://localhost:8080/"
    },
    "id": "c404f0ac",
    "outputId": "1f678102-2a70-45e7-e1b1-e3af389dbea9"
   },
   "outputs": [
    {
     "data": {
      "text/plain": [
       "0.7449639335582788"
      ]
     },
     "execution_count": 52,
     "metadata": {},
     "output_type": "execute_result"
    }
   ],
   "source": [
    "model.score(test_data,test_labels)"
   ]
  },
  {
   "cell_type": "code",
   "execution_count": 53,
   "id": "e412302b",
   "metadata": {
    "colab": {
     "base_uri": "https://localhost:8080/"
    },
    "id": "e412302b",
    "outputId": "629a8e97-9557-446d-bbd4-58b2b3106a4a"
   },
   "outputs": [
    {
     "name": "stdout",
     "output_type": "stream",
     "text": [
      "R2 score :  0.7449639335582788\n"
     ]
    }
   ],
   "source": [
    "from sklearn.metrics import r2_score\n",
    "r = r2_score(test_labels,lr_predict)\n",
    "print(\"R2 score : \",r)"
   ]
  },
  {
   "cell_type": "code",
   "execution_count": 54,
   "id": "f6b670f9",
   "metadata": {
    "colab": {
     "base_uri": "https://localhost:8080/",
     "height": 312
    },
    "id": "f6b670f9",
    "outputId": "6ab81256-622a-4cc7-e21e-a284443657a6"
   },
   "outputs": [
    {
     "data": {
      "text/plain": [
       "Text(0.5, 1.0, 'Linear Regression')"
      ]
     },
     "execution_count": 54,
     "metadata": {},
     "output_type": "execute_result"
    },
    {
     "data": {
      "image/png": "[encoded data removed]",
      "text/plain": [
       "<Figure size 432x288 with 1 Axes>"
      ]
     },
     "metadata": {
      "needs_background": "light"
     },
     "output_type": "display_data"
    }
   ],
   "source": [
    "plt.scatter(test_labels,lr_predict)\n",
    "plt.xlabel('Actual')\n",
    "plt.ylabel('Predicted')\n",
    "plt.title('Linear Regression')"
   ]
  },
  {
   "cell_type": "markdown",
   "id": "d6b3210f",
   "metadata": {
    "id": "d6b3210f"
   },
   "source": [
    "# Random Forest Regressor"
   ]
  },
  {
   "cell_type": "code",
   "execution_count": 55,
   "id": "ac64ea13",
   "metadata": {
    "colab": {
     "base_uri": "https://localhost:8080/"
    },
    "id": "ac64ea13",
    "outputId": "4a939356-8684-4e48-a92e-cb6429c06f61"
   },
   "outputs": [
    {
     "data": {
      "text/plain": [
       "array([15026.33932136, 57127.97831005, 17862.77644711, ...,\n",
       "       28523.09381238, 18675.92215569, 22434.9500998 ])"
      ]
     },
     "execution_count": 55,
     "metadata": {},
     "output_type": "execute_result"
    }
   ],
   "source": [
    "from sklearn.ensemble import RandomForestRegressor\n",
    "model = RandomForestRegressor(n_estimators = 501)\n",
    "model.fit(train_data,train_labels)\n",
    "rf_predict = model.predict(test_data)\n",
    "rf_predict"
   ]
  },
  {
   "cell_type": "code",
   "execution_count": 56,
   "id": "5ba30473",
   "metadata": {
    "colab": {
     "base_uri": "https://localhost:8080/"
    },
    "id": "5ba30473",
    "outputId": "c0db7d7e-19f4-48e9-d227-02127ec9f006"
   },
   "outputs": [
    {
     "data": {
      "text/plain": [
       "0.9742555653912223"
      ]
     },
     "execution_count": 56,
     "metadata": {},
     "output_type": "execute_result"
    }
   ],
   "source": [
    "model.score(test_data,test_labels)"
   ]
  },
  {
   "cell_type": "code",
   "execution_count": 57,
   "id": "6a4a74b7",
   "metadata": {
    "colab": {
     "base_uri": "https://localhost:8080/"
    },
    "id": "6a4a74b7",
    "outputId": "13194f90-f813-4584-88e0-579be9afdf2b"
   },
   "outputs": [
    {
     "name": "stdout",
     "output_type": "stream",
     "text": [
      "R2 score :  0.9742555653912223\n"
     ]
    }
   ],
   "source": [
    "# Calculating R2 score\n",
    "\n",
    "from sklearn.metrics import r2_score\n",
    "r1 = r2_score(test_labels,rf_predict)\n",
    "print(\"R2 score : \",r1)"
   ]
  },
  {
   "cell_type": "code",
   "execution_count": 58,
   "id": "9ee3594e",
   "metadata": {
    "colab": {
     "base_uri": "https://localhost:8080/"
    },
    "id": "9ee3594e",
    "outputId": "95a6a099-db87-48a6-dc9c-bb43ad6743e1"
   },
   "outputs": [
    {
     "name": "stdout",
     "output_type": "stream",
     "text": [
      "Adj. R-Squared : 0.7407781990960911\n"
     ]
    }
   ],
   "source": [
    "# Calculating Adj. R2 score: \n",
    "\n",
    "Adjr2_1 = 1 - (1-r)*(len(test_labels)-1)/(len(test_labels)-test_data.shape[1]-1)\n",
    "print(\"Adj. R-Squared : {}\".format(Adjr2_1))"
   ]
  },
  {
   "cell_type": "code",
   "execution_count": 59,
   "id": "b8271ba1",
   "metadata": {
    "colab": {
     "base_uri": "https://localhost:8080/",
     "height": 403
    },
    "id": "b8271ba1",
    "outputId": "5ade4bd0-1238-461d-f37d-8724f0f90386",
    "scrolled": false
   },
   "outputs": [
    {
     "name": "stderr",
     "output_type": "stream",
     "text": [
      "C:\\Users\\aryan\\anaconda3\\lib\\site-packages\\seaborn\\distributions.py:2619: FutureWarning: `distplot` is a deprecated function and will be removed in a future version. Please adapt your code to use either `displot` (a figure-level function with similar flexibility) or `kdeplot` (an axes-level function for kernel density plots).\n",
      "  warnings.warn(msg, FutureWarning)\n",
      "C:\\Users\\aryan\\anaconda3\\lib\\site-packages\\seaborn\\distributions.py:2619: FutureWarning: `distplot` is a deprecated function and will be removed in a future version. Please adapt your code to use either `displot` (a figure-level function with similar flexibility) or `kdeplot` (an axes-level function for kernel density plots).\n",
      "  warnings.warn(msg, FutureWarning)\n"
     ]
    },
    {
     "data": {
      "text/plain": [
       "Text(0.5, 1.0, 'Random Forest Regression')"
      ]
     },
     "execution_count": 59,
     "metadata": {},
     "output_type": "execute_result"
    },
    {
     "data": {
      "image/png": "[encoded data removed]",
      "text/plain": [
       "<Figure size 432x288 with 1 Axes>"
      ]
     },
     "metadata": {
      "needs_background": "light"
     },
     "output_type": "display_data"
    }
   ],
   "source": [
    "ax = sns.distplot(test_labels, hist = False, color = \"r\", label = \"Actual value \")\n",
    "sns.distplot(rf_predict, hist = False, color = \"b\", label = \"Predicted Values\", ax = ax)\n",
    "plt.title('Random Forest Regression')"
   ]
  },
  {
   "cell_type": "markdown",
   "id": "68fbd6ea",
   "metadata": {},
   "source": [
    "# Hypertuning Random Forest using Grid Search CV"
   ]
  },
  {
   "cell_type": "code",
   "execution_count": 60,
   "id": "Z6k1LUQcU6e-",
   "metadata": {
    "id": "Z6k1LUQcU6e-"
   },
   "outputs": [
    {
     "name": "stdout",
     "output_type": "stream",
     "text": [
      "Best hyperparameters: {'max_depth': 96, 'min_samples_leaf': 1, 'min_samples_split': 5, 'n_estimators': 200}\n",
      "Best score: 0.9741956017426983\n"
     ]
    }
   ],
   "source": [
    "# Import necessary libraries\n",
    "import numpy as np\n",
    "from sklearn.ensemble import RandomForestRegressor\n",
    "from sklearn.model_selection import GridSearchCV\n",
    "\n",
    "\n",
    "# Define Random Forest Regression model\n",
    "model = RandomForestRegressor(n_estimators = 11)\n",
    "model.fit(train_data,train_labels)\n",
    "rf_predict = model.predict(test_data)\n",
    "rf_predict\n",
    "\n",
    "# Define hyperparameters to tune\n",
    "hyperparameters = {\n",
    "    'n_estimators': [50, 100, 200],\n",
    "    'max_depth': [5, 10, 15,95,96,97],\n",
    "    'min_samples_split': [2, 5, 10],\n",
    "    'min_samples_leaf': [1, 2, 4]\n",
    "}\n",
    "\n",
    "# Define GridSearchCV object\n",
    "grid_search = GridSearchCV(model, hyperparameters, cv=5)\n",
    "\n",
    "# Fit GridSearchCV object to training data\n",
    "grid_search.fit(train_data,train_labels)\n",
    "\n",
    "# Print best hyperparameters and corresponding score\n",
    "print(\"Best hyperparameters:\", grid_search.best_params_)\n",
    "print(\"Best score:\", grid_search.best_score_)"
   ]
  },
  {
   "cell_type": "code",
   "execution_count": 61,
   "id": "TpTM2oVChjps",
   "metadata": {
    "id": "TpTM2oVChjps"
   },
   "outputs": [],
   "source": [
    "# rf2 =  RandomForestRegressor(max_depth= 97, min_samples_leaf= 1, min_samples_split=5, n_estimators= 200)\n",
    "# rf2.fit(train_data,train_labels)\n",
    "# rf_predict = rf2.predict(test_data)\n",
    "# rf_predict\n",
    "# rf2.score(test_data,test_labels)"
   ]
  },
  {
   "cell_type": "code",
   "execution_count": 62,
   "id": "922419cc",
   "metadata": {},
   "outputs": [
    {
     "name": "stderr",
     "output_type": "stream",
     "text": [
      "C:\\Users\\aryan\\anaconda3\\lib\\site-packages\\seaborn\\distributions.py:2619: FutureWarning: `distplot` is a deprecated function and will be removed in a future version. Please adapt your code to use either `displot` (a figure-level function with similar flexibility) or `kdeplot` (an axes-level function for kernel density plots).\n",
      "  warnings.warn(msg, FutureWarning)\n",
      "C:\\Users\\aryan\\anaconda3\\lib\\site-packages\\seaborn\\distributions.py:2619: FutureWarning: `distplot` is a deprecated function and will be removed in a future version. Please adapt your code to use either `displot` (a figure-level function with similar flexibility) or `kdeplot` (an axes-level function for kernel density plots).\n",
      "  warnings.warn(msg, FutureWarning)\n"
     ]
    },
    {
     "data": {
      "text/plain": [
       "Text(0.5, 1.0, 'Hypertuned Random Forest Regression')"
      ]
     },
     "execution_count": 62,
     "metadata": {},
     "output_type": "execute_result"
    },
    {
     "data": {
      "image/png": "[encoded data removed]",
      "text/plain": [
       "<Figure size 432x288 with 1 Axes>"
      ]
     },
     "metadata": {
      "needs_background": "light"
     },
     "output_type": "display_data"
    }
   ],
   "source": [
    "ax = sns.distplot(test_labels, hist = False, color = \"r\", label = \"Actual value \")\n",
    "sns.distplot(rf_predict, hist = False, color = \"b\", label = \"Predicted Values\", ax = ax)\n",
    "plt.title('Hypertuned Random Forest Regression')"
   ]
  },
  {
   "cell_type": "markdown",
   "id": "a0ace5d1",
   "metadata": {
    "id": "a0ace5d1"
   },
   "source": [
    "# Decision Tree"
   ]
  },
  {
   "cell_type": "code",
   "execution_count": 63,
   "id": "1b40e2da",
   "metadata": {
    "colab": {
     "base_uri": "https://localhost:8080/"
    },
    "id": "1b40e2da",
    "outputId": "daa7edae-67ec-4e89-ed18-4626e1a4ead9"
   },
   "outputs": [
    {
     "name": "stdout",
     "output_type": "stream",
     "text": [
      "(21181, 114)\n",
      "(21181,)\n"
     ]
    }
   ],
   "source": [
    "# Training model \n",
    "from sklearn.tree import DecisionTreeRegressor\n",
    "regressor = DecisionTreeRegressor(random_state = 42)\n",
    "regressor.fit(train_data,train_labels)\n",
    "\n",
    "# Predicting results\n",
    "decisiontree_predict = regressor.predict(test_data)\n",
    "decisiontree_predict\n",
    "print(train_data.shape)\n",
    "print(train_labels.shape)"
   ]
  },
  {
   "cell_type": "code",
   "execution_count": 64,
   "id": "9a5f7539",
   "metadata": {
    "colab": {
     "base_uri": "https://localhost:8080/"
    },
    "id": "9a5f7539",
    "outputId": "46309622-abca-49ff-f3ea-219f421f441e"
   },
   "outputs": [
    {
     "data": {
      "text/plain": [
       "0.9595771298941649"
      ]
     },
     "execution_count": 64,
     "metadata": {},
     "output_type": "execute_result"
    }
   ],
   "source": [
    "regressor.score(test_data,test_labels)"
   ]
  },
  {
   "cell_type": "code",
   "execution_count": 65,
   "id": "bef768a9",
   "metadata": {
    "colab": {
     "base_uri": "https://localhost:8080/"
    },
    "id": "bef768a9",
    "outputId": "980590ff-8c13-4a92-ac7b-b309502e2914"
   },
   "outputs": [
    {
     "name": "stdout",
     "output_type": "stream",
     "text": [
      "R2 score :  0.9595771298941649\n"
     ]
    }
   ],
   "source": [
    "# Calculating R2 score :\n",
    "\n",
    "from sklearn.metrics import r2_score\n",
    "r2 = r2_score(test_labels,decisiontree_predict)\n",
    "print(\"R2 score : \",r2)"
   ]
  },
  {
   "cell_type": "code",
   "execution_count": 66,
   "id": "f9fc0253",
   "metadata": {
    "colab": {
     "base_uri": "https://localhost:8080/"
    },
    "id": "f9fc0253",
    "outputId": "9a754bc5-4a46-4c77-ead4-5cbcd2d01f86"
   },
   "outputs": [
    {
     "name": "stdout",
     "output_type": "stream",
     "text": [
      "Adj. R-Squared : 0.7407781990960911\n"
     ]
    }
   ],
   "source": [
    "# Calculating Adj. R2 score: \n",
    "\n",
    "Adjr2_2 = 1 - (1-r)*(len(test_labels)-1)/(len(test_labels)-test_data.shape[1]-1)\n",
    "print(\"Adj. R-Squared : {}\".format(Adjr2_2))"
   ]
  },
  {
   "cell_type": "code",
   "execution_count": 67,
   "id": "c2e89f3b",
   "metadata": {
    "colab": {
     "base_uri": "https://localhost:8080/",
     "height": 403
    },
    "id": "c2e89f3b",
    "outputId": "6379d3ff-b401-4bb5-a67a-0576ec0063e8",
    "scrolled": true
   },
   "outputs": [
    {
     "name": "stderr",
     "output_type": "stream",
     "text": [
      "C:\\Users\\aryan\\anaconda3\\lib\\site-packages\\seaborn\\distributions.py:2619: FutureWarning: `distplot` is a deprecated function and will be removed in a future version. Please adapt your code to use either `displot` (a figure-level function with similar flexibility) or `kdeplot` (an axes-level function for kernel density plots).\n",
      "  warnings.warn(msg, FutureWarning)\n",
      "C:\\Users\\aryan\\anaconda3\\lib\\site-packages\\seaborn\\distributions.py:2619: FutureWarning: `distplot` is a deprecated function and will be removed in a future version. Please adapt your code to use either `displot` (a figure-level function with similar flexibility) or `kdeplot` (an axes-level function for kernel density plots).\n",
      "  warnings.warn(msg, FutureWarning)\n"
     ]
    },
    {
     "data": {
      "text/plain": [
       "Text(0.5, 1.0, 'Decision Tree Regression')"
      ]
     },
     "execution_count": 67,
     "metadata": {},
     "output_type": "execute_result"
    },
    {
     "data": {
      "image/png": "[encoded data removed]",
      "text/plain": [
       "<Figure size 432x288 with 1 Axes>"
      ]
     },
     "metadata": {
      "needs_background": "light"
     },
     "output_type": "display_data"
    }
   ],
   "source": [
    "ax = sns.distplot(test_labels, hist = False, color = \"r\", label = \"Actual value \")\n",
    "sns.distplot(decisiontree_predict, hist = False, color = \"b\", label = \"Predicted Values\", ax = ax)\n",
    "plt.title('Decision Tree Regression')"
   ]
  },
  {
   "cell_type": "markdown",
   "id": "57fe0e3b",
   "metadata": {
    "id": "57fe0e3b"
   },
   "source": [
    "# Model Comparison & Selection \n"
   ]
  },
  {
   "cell_type": "code",
   "execution_count": 99,
   "id": "9e4a766f",
   "metadata": {
    "id": "9e4a766f"
   },
   "outputs": [],
   "source": [
    "from sklearn.metrics import r2_score\n",
    "def compare_models(model):\n",
    "    model_name = model.__class__.__name__\n",
    "    fit=model.fit(train_data,train_labels)\n",
    "    y_pred=fit.predict(test_data)\n",
    "    r2=r2_score(test_labels,y_pred)\n",
    "    return([model_name,r2])"
   ]
  },
  {
   "cell_type": "markdown",
   "id": "fa6b32a6",
   "metadata": {
    "id": "fa6b32a6"
   },
   "source": [
    "## Ensembling Random Forest and Gradient Boosting"
   ]
  },
  {
   "cell_type": "code",
   "execution_count": 100,
   "id": "05e40134",
   "metadata": {
    "execution": {
     "iopub.execute_input": "2022-04-18T20:52:35.598138Z",
     "iopub.status.busy": "2022-04-18T20:52:35.597337Z",
     "iopub.status.idle": "2022-04-18T20:52:35.598988Z",
     "shell.execute_reply": "2022-04-18T20:52:35.599601Z"
    },
    "id": "05e40134",
    "papermill": {
     "duration": 0.095664,
     "end_time": "2022-04-18T20:52:35.599799",
     "exception": false,
     "start_time": "2022-04-18T20:52:35.504135",
     "status": "completed"
    },
    "tags": []
   },
   "outputs": [],
   "source": [
    "from sklearn.ensemble import RandomForestRegressor\n",
    "from sklearn.ensemble import GradientBoostingRegressor\n",
    "from sklearn import svm\n",
    "from sklearn.tree import DecisionTreeRegressor\n",
    "\n",
    "models = [\n",
    "    GradientBoostingRegressor(n_estimators=200, max_depth=3, random_state=0),\n",
    "     RandomForestRegressor(n_estimators=200, max_depth=3, random_state=0),\n",
    "    svm.SVR(),\n",
    "   DecisionTreeRegressor()\n",
    "]"
   ]
  },
  {
   "cell_type": "code",
   "execution_count": 101,
   "id": "5896ad86",
   "metadata": {
    "execution": {
     "iopub.execute_input": "2022-04-18T20:52:35.779736Z",
     "iopub.status.busy": "2022-04-18T20:52:35.779037Z",
     "iopub.status.idle": "2022-04-18T20:52:35.783398Z",
     "shell.execute_reply": "2022-04-18T20:52:35.783984Z"
    },
    "id": "5896ad86",
    "papermill": {
     "duration": 0.094513,
     "end_time": "2022-04-18T20:52:35.784165",
     "exception": false,
     "start_time": "2022-04-18T20:52:35.689652",
     "status": "completed"
    },
    "scrolled": true,
    "tags": []
   },
   "outputs": [],
   "source": [
    "model_train=list(map(compare_models,models)) "
   ]
  },
  {
   "cell_type": "code",
   "execution_count": 102,
   "id": "35c12412",
   "metadata": {
    "colab": {
     "base_uri": "https://localhost:8080/"
    },
    "execution": {
     "iopub.execute_input": "2022-04-18T20:52:35.963009Z",
     "iopub.status.busy": "2022-04-18T20:52:35.962296Z",
     "iopub.status.idle": "2022-04-18T20:52:35.965274Z",
     "shell.execute_reply": "2022-04-18T20:52:35.965794Z"
    },
    "id": "35c12412",
    "outputId": "ebd83ee1-0ca6-4e06-ff7c-78a7b31ab405",
    "papermill": {
     "duration": 0.094707,
     "end_time": "2022-04-18T20:52:35.965973",
     "exception": false,
     "start_time": "2022-04-18T20:52:35.871266",
     "status": "completed"
    },
    "tags": []
   },
   "outputs": [
    {
     "name": "stdout",
     "output_type": "stream",
     "text": [
      "['GradientBoostingRegressor', 0.8947139845774157]\n",
      "['RandomForestRegressor', 0.6734879242518254]\n",
      "['SVR', -0.21920447613838445]\n",
      "['DecisionTreeRegressor', 0.9601253888563391]\n"
     ]
    }
   ],
   "source": [
    "print(*model_train, sep = \"\\n\")"
   ]
  },
  {
   "cell_type": "markdown",
   "id": "674bb9d3",
   "metadata": {
    "id": "674bb9d3",
    "papermill": {
     "duration": 0.088099,
     "end_time": "2022-04-18T20:52:36.144687",
     "exception": false,
     "start_time": "2022-04-18T20:52:36.056588",
     "status": "completed"
    },
    "tags": []
   },
   "source": [
    "The evaluation metric is set based on **R^2 (coefficient of determination)** regression score function, that will represents the proportion of the variance for items (crops) in the regression model. **R^2** score shows how well terms (data points) fit a curve or line.\n",
    "\n",
    "**R^2** is a statistical measure between 0 and 1 which calculates how similar a regression line is to the data it’s fitted to. If it’s a 1, the model 100% predicts the data variance; if it’s a 0, the model predicts none of the variance. \n",
    "\n",
    "From results viewd above, **Decision Tree Regressor** has the highest R^2 score 0f **96%**, **GradientBoostingRegressor** comes second. \n",
    "\n",
    "\n",
    " I'll also calculate **Adjusted R^2** also indicates how well terms fit a curve or line, but adjusts for the number of terms in a model. If you add more and more useless variables to a model, adjusted r-squared will decrease. If you add more useful variables, adjusted r-squared will increase.\n",
    "Adjusted R2 will always be less than or equal to R2. "
   ]
  },
  {
   "cell_type": "code",
   "execution_count": 103,
   "id": "04d6efef",
   "metadata": {
    "execution": {
     "iopub.execute_input": "2022-04-18T20:52:36.329642Z",
     "iopub.status.busy": "2022-04-18T20:52:36.328881Z",
     "iopub.status.idle": "2022-04-18T20:52:36.336323Z",
     "shell.execute_reply": "2022-04-18T20:52:36.336890Z",
     "shell.execute_reply.started": "2022-04-18T18:52:40.733224Z"
    },
    "id": "04d6efef",
    "papermill": {
     "duration": 0.102705,
     "end_time": "2022-04-18T20:52:36.337079",
     "exception": false,
     "start_time": "2022-04-18T20:52:36.234374",
     "status": "completed"
    },
    "tags": []
   },
   "outputs": [],
   "source": [
    "yield_df_onehot = yield_df_onehot.drop(['Year'], axis=1)"
   ]
  },
  {
   "cell_type": "code",
   "execution_count": 104,
   "id": "af0984f6",
   "metadata": {
    "colab": {
     "base_uri": "https://localhost:8080/",
     "height": 317
    },
    "execution": {
     "iopub.execute_input": "2022-04-18T20:52:36.519688Z",
     "iopub.status.busy": "2022-04-18T20:52:36.518957Z",
     "iopub.status.idle": "2022-04-18T20:52:36.539752Z",
     "shell.execute_reply": "2022-04-18T20:52:36.539207Z",
     "shell.execute_reply.started": "2022-04-18T18:52:42.629217Z"
    },
    "id": "af0984f6",
    "outputId": "70423d7d-4666-4c94-8eb2-0098a3a501dd",
    "papermill": {
     "duration": 0.110249,
     "end_time": "2022-04-18T20:52:36.539907",
     "exception": false,
     "start_time": "2022-04-18T20:52:36.429658",
     "status": "completed"
    },
    "tags": []
   },
   "outputs": [
    {
     "data": {
      "text/html": [
       "<div>\n",
       "<style scoped>\n",
       "    .dataframe tbody tr th:only-of-type {\n",
       "        vertical-align: middle;\n",
       "    }\n",
       "\n",
       "    .dataframe tbody tr th {\n",
       "        vertical-align: top;\n",
       "    }\n",
       "\n",
       "    .dataframe thead th {\n",
       "        text-align: right;\n",
       "    }\n",
       "</style>\n",
       "<table border=\"1\" class=\"dataframe\">\n",
       "  <thead>\n",
       "    <tr style=\"text-align: right;\">\n",
       "      <th></th>\n",
       "      <th>hg/ha_yield</th>\n",
       "      <th>average_rain_fall_mm_per_year</th>\n",
       "      <th>pesticides_tonnes</th>\n",
       "      <th>avg_temp</th>\n",
       "      <th>Country_Albania</th>\n",
       "      <th>Country_Algeria</th>\n",
       "      <th>Country_Angola</th>\n",
       "      <th>Country_Argentina</th>\n",
       "      <th>Country_Armenia</th>\n",
       "      <th>Country_Australia</th>\n",
       "      <th>...</th>\n",
       "      <th>Item_Cassava</th>\n",
       "      <th>Item_Maize</th>\n",
       "      <th>Item_Plantains and others</th>\n",
       "      <th>Item_Potatoes</th>\n",
       "      <th>Item_Rice, paddy</th>\n",
       "      <th>Item_Sorghum</th>\n",
       "      <th>Item_Soybeans</th>\n",
       "      <th>Item_Sweet potatoes</th>\n",
       "      <th>Item_Wheat</th>\n",
       "      <th>Item_Yams</th>\n",
       "    </tr>\n",
       "  </thead>\n",
       "  <tbody>\n",
       "    <tr>\n",
       "      <th>0</th>\n",
       "      <td>36613</td>\n",
       "      <td>1485.0</td>\n",
       "      <td>121.0</td>\n",
       "      <td>16.37</td>\n",
       "      <td>1</td>\n",
       "      <td>0</td>\n",
       "      <td>0</td>\n",
       "      <td>0</td>\n",
       "      <td>0</td>\n",
       "      <td>0</td>\n",
       "      <td>...</td>\n",
       "      <td>0</td>\n",
       "      <td>1</td>\n",
       "      <td>0</td>\n",
       "      <td>0</td>\n",
       "      <td>0</td>\n",
       "      <td>0</td>\n",
       "      <td>0</td>\n",
       "      <td>0</td>\n",
       "      <td>0</td>\n",
       "      <td>0</td>\n",
       "    </tr>\n",
       "    <tr>\n",
       "      <th>1</th>\n",
       "      <td>66667</td>\n",
       "      <td>1485.0</td>\n",
       "      <td>121.0</td>\n",
       "      <td>16.37</td>\n",
       "      <td>1</td>\n",
       "      <td>0</td>\n",
       "      <td>0</td>\n",
       "      <td>0</td>\n",
       "      <td>0</td>\n",
       "      <td>0</td>\n",
       "      <td>...</td>\n",
       "      <td>0</td>\n",
       "      <td>0</td>\n",
       "      <td>0</td>\n",
       "      <td>1</td>\n",
       "      <td>0</td>\n",
       "      <td>0</td>\n",
       "      <td>0</td>\n",
       "      <td>0</td>\n",
       "      <td>0</td>\n",
       "      <td>0</td>\n",
       "    </tr>\n",
       "    <tr>\n",
       "      <th>2</th>\n",
       "      <td>23333</td>\n",
       "      <td>1485.0</td>\n",
       "      <td>121.0</td>\n",
       "      <td>16.37</td>\n",
       "      <td>1</td>\n",
       "      <td>0</td>\n",
       "      <td>0</td>\n",
       "      <td>0</td>\n",
       "      <td>0</td>\n",
       "      <td>0</td>\n",
       "      <td>...</td>\n",
       "      <td>0</td>\n",
       "      <td>0</td>\n",
       "      <td>0</td>\n",
       "      <td>0</td>\n",
       "      <td>1</td>\n",
       "      <td>0</td>\n",
       "      <td>0</td>\n",
       "      <td>0</td>\n",
       "      <td>0</td>\n",
       "      <td>0</td>\n",
       "    </tr>\n",
       "    <tr>\n",
       "      <th>3</th>\n",
       "      <td>12500</td>\n",
       "      <td>1485.0</td>\n",
       "      <td>121.0</td>\n",
       "      <td>16.37</td>\n",
       "      <td>1</td>\n",
       "      <td>0</td>\n",
       "      <td>0</td>\n",
       "      <td>0</td>\n",
       "      <td>0</td>\n",
       "      <td>0</td>\n",
       "      <td>...</td>\n",
       "      <td>0</td>\n",
       "      <td>0</td>\n",
       "      <td>0</td>\n",
       "      <td>0</td>\n",
       "      <td>0</td>\n",
       "      <td>1</td>\n",
       "      <td>0</td>\n",
       "      <td>0</td>\n",
       "      <td>0</td>\n",
       "      <td>0</td>\n",
       "    </tr>\n",
       "    <tr>\n",
       "      <th>4</th>\n",
       "      <td>7000</td>\n",
       "      <td>1485.0</td>\n",
       "      <td>121.0</td>\n",
       "      <td>16.37</td>\n",
       "      <td>1</td>\n",
       "      <td>0</td>\n",
       "      <td>0</td>\n",
       "      <td>0</td>\n",
       "      <td>0</td>\n",
       "      <td>0</td>\n",
       "      <td>...</td>\n",
       "      <td>0</td>\n",
       "      <td>0</td>\n",
       "      <td>0</td>\n",
       "      <td>0</td>\n",
       "      <td>0</td>\n",
       "      <td>0</td>\n",
       "      <td>1</td>\n",
       "      <td>0</td>\n",
       "      <td>0</td>\n",
       "      <td>0</td>\n",
       "    </tr>\n",
       "  </tbody>\n",
       "</table>\n",
       "<p>5 rows × 115 columns</p>\n",
       "</div>"
      ],
      "text/plain": [
       "   hg/ha_yield  average_rain_fall_mm_per_year  pesticides_tonnes  avg_temp  \\\n",
       "0        36613                         1485.0              121.0     16.37   \n",
       "1        66667                         1485.0              121.0     16.37   \n",
       "2        23333                         1485.0              121.0     16.37   \n",
       "3        12500                         1485.0              121.0     16.37   \n",
       "4         7000                         1485.0              121.0     16.37   \n",
       "\n",
       "   Country_Albania  Country_Algeria  Country_Angola  Country_Argentina  \\\n",
       "0                1                0               0                  0   \n",
       "1                1                0               0                  0   \n",
       "2                1                0               0                  0   \n",
       "3                1                0               0                  0   \n",
       "4                1                0               0                  0   \n",
       "\n",
       "   Country_Armenia  Country_Australia  ...  Item_Cassava  Item_Maize  \\\n",
       "0                0                  0  ...             0           1   \n",
       "1                0                  0  ...             0           0   \n",
       "2                0                  0  ...             0           0   \n",
       "3                0                  0  ...             0           0   \n",
       "4                0                  0  ...             0           0   \n",
       "\n",
       "   Item_Plantains and others  Item_Potatoes  Item_Rice, paddy  Item_Sorghum  \\\n",
       "0                          0              0                 0             0   \n",
       "1                          0              1                 0             0   \n",
       "2                          0              0                 1             0   \n",
       "3                          0              0                 0             1   \n",
       "4                          0              0                 0             0   \n",
       "\n",
       "   Item_Soybeans  Item_Sweet potatoes  Item_Wheat  Item_Yams  \n",
       "0              0                    0           0          0  \n",
       "1              0                    0           0          0  \n",
       "2              0                    0           0          0  \n",
       "3              0                    0           0          0  \n",
       "4              1                    0           0          0  \n",
       "\n",
       "[5 rows x 115 columns]"
      ]
     },
     "execution_count": 104,
     "metadata": {},
     "output_type": "execute_result"
    }
   ],
   "source": [
    "yield_df_onehot.head()"
   ]
  },
  {
   "cell_type": "code",
   "execution_count": 105,
   "id": "fc8bb60d",
   "metadata": {
    "execution": {
     "iopub.execute_input": "2022-04-18T20:52:36.723973Z",
     "iopub.status.busy": "2022-04-18T20:52:36.722335Z",
     "iopub.status.idle": "2022-04-18T20:52:36.859579Z",
     "shell.execute_reply": "2022-04-18T20:52:36.858990Z",
     "shell.execute_reply.started": "2022-04-18T18:52:49.024678Z"
    },
    "id": "fc8bb60d",
    "papermill": {
     "duration": 0.232855,
     "end_time": "2022-04-18T20:52:36.859740",
     "exception": false,
     "start_time": "2022-04-18T20:52:36.626885",
     "status": "completed"
    },
    "tags": []
   },
   "outputs": [],
   "source": [
    "#setting test data to columns from dataframe and excluding 'hg/ha_yield' values where ML model should be predicting \n",
    "\n",
    "test_df=pd.DataFrame(test_data,columns=yield_df_onehot.loc[:, yield_df_onehot.columns != 'hg/ha_yield'].columns) \n",
    "\n",
    "# using stack function to return a reshaped DataFrame by pivoting the columns of the current dataframe\n",
    "\n",
    "cntry=test_df[[col for col in test_df.columns if 'Country' in col]].stack()[test_df[[col for col in test_df.columns if 'Country' in col]].stack()>0]\n",
    "cntrylist=list(pd.DataFrame(cntry).index.get_level_values(1))\n",
    "countries=[i.split(\"_\")[1] for i in cntrylist]\n",
    "itm=test_df[[col for col in test_df.columns if 'Item' in col]].stack()[test_df[[col for col in test_df.columns if 'Item' in col]].stack()>0]\n",
    "itmlist=list(pd.DataFrame(itm).index.get_level_values(1))\n",
    "items=[i.split(\"_\")[1] for i in itmlist]"
   ]
  },
  {
   "cell_type": "code",
   "execution_count": 106,
   "id": "7a5a44e6",
   "metadata": {
    "colab": {
     "base_uri": "https://localhost:8080/",
     "height": 317
    },
    "execution": {
     "iopub.execute_input": "2022-04-18T20:52:37.069397Z",
     "iopub.status.busy": "2022-04-18T20:52:37.054651Z",
     "iopub.status.idle": "2022-04-18T20:52:37.073840Z",
     "shell.execute_reply": "2022-04-18T20:52:37.073102Z",
     "shell.execute_reply.started": "2022-04-18T18:52:52.423706Z"
    },
    "id": "7a5a44e6",
    "outputId": "da8bc25c-f5bb-4195-d61e-fe1297234276",
    "papermill": {
     "duration": 0.125969,
     "end_time": "2022-04-18T20:52:37.073997",
     "exception": false,
     "start_time": "2022-04-18T20:52:36.948028",
     "status": "completed"
    },
    "tags": []
   },
   "outputs": [
    {
     "data": {
      "text/html": [
       "<div>\n",
       "<style scoped>\n",
       "    .dataframe tbody tr th:only-of-type {\n",
       "        vertical-align: middle;\n",
       "    }\n",
       "\n",
       "    .dataframe tbody tr th {\n",
       "        vertical-align: top;\n",
       "    }\n",
       "\n",
       "    .dataframe thead th {\n",
       "        text-align: right;\n",
       "    }\n",
       "</style>\n",
       "<table border=\"1\" class=\"dataframe\">\n",
       "  <thead>\n",
       "    <tr style=\"text-align: right;\">\n",
       "      <th></th>\n",
       "      <th>average_rain_fall_mm_per_year</th>\n",
       "      <th>pesticides_tonnes</th>\n",
       "      <th>avg_temp</th>\n",
       "      <th>Country_Albania</th>\n",
       "      <th>Country_Algeria</th>\n",
       "      <th>Country_Angola</th>\n",
       "      <th>Country_Argentina</th>\n",
       "      <th>Country_Armenia</th>\n",
       "      <th>Country_Australia</th>\n",
       "      <th>Country_Austria</th>\n",
       "      <th>...</th>\n",
       "      <th>Item_Cassava</th>\n",
       "      <th>Item_Maize</th>\n",
       "      <th>Item_Plantains and others</th>\n",
       "      <th>Item_Potatoes</th>\n",
       "      <th>Item_Rice, paddy</th>\n",
       "      <th>Item_Sorghum</th>\n",
       "      <th>Item_Soybeans</th>\n",
       "      <th>Item_Sweet potatoes</th>\n",
       "      <th>Item_Wheat</th>\n",
       "      <th>Item_Yams</th>\n",
       "    </tr>\n",
       "  </thead>\n",
       "  <tbody>\n",
       "    <tr>\n",
       "      <th>0</th>\n",
       "      <td>0.216539</td>\n",
       "      <td>-0.567154</td>\n",
       "      <td>-0.494072</td>\n",
       "      <td>-0.056332</td>\n",
       "      <td>-0.064591</td>\n",
       "      <td>-0.075483</td>\n",
       "      <td>-0.116161</td>\n",
       "      <td>-0.048644</td>\n",
       "      <td>-0.187317</td>\n",
       "      <td>-0.057583</td>\n",
       "      <td>...</td>\n",
       "      <td>-0.279523</td>\n",
       "      <td>-0.413597</td>\n",
       "      <td>-0.140321</td>\n",
       "      <td>-0.418048</td>\n",
       "      <td>-0.371111</td>\n",
       "      <td>-0.347913</td>\n",
       "      <td>2.772699</td>\n",
       "      <td>-0.337245</td>\n",
       "      <td>-0.398926</td>\n",
       "      <td>-0.175373</td>\n",
       "    </tr>\n",
       "    <tr>\n",
       "      <th>1</th>\n",
       "      <td>-0.193234</td>\n",
       "      <td>-0.622933</td>\n",
       "      <td>0.599856</td>\n",
       "      <td>-0.056332</td>\n",
       "      <td>-0.064591</td>\n",
       "      <td>13.247956</td>\n",
       "      <td>-0.116161</td>\n",
       "      <td>-0.048644</td>\n",
       "      <td>-0.187317</td>\n",
       "      <td>-0.057583</td>\n",
       "      <td>...</td>\n",
       "      <td>-0.279523</td>\n",
       "      <td>-0.413597</td>\n",
       "      <td>-0.140321</td>\n",
       "      <td>-0.418048</td>\n",
       "      <td>-0.371111</td>\n",
       "      <td>-0.347913</td>\n",
       "      <td>-0.360659</td>\n",
       "      <td>2.965201</td>\n",
       "      <td>-0.398926</td>\n",
       "      <td>-0.175373</td>\n",
       "    </tr>\n",
       "    <tr>\n",
       "      <th>2</th>\n",
       "      <td>0.046978</td>\n",
       "      <td>-0.622127</td>\n",
       "      <td>0.465292</td>\n",
       "      <td>-0.056332</td>\n",
       "      <td>-0.064591</td>\n",
       "      <td>-0.075483</td>\n",
       "      <td>-0.116161</td>\n",
       "      <td>-0.048644</td>\n",
       "      <td>-0.187317</td>\n",
       "      <td>-0.057583</td>\n",
       "      <td>...</td>\n",
       "      <td>-0.279523</td>\n",
       "      <td>-0.413597</td>\n",
       "      <td>-0.140321</td>\n",
       "      <td>-0.418048</td>\n",
       "      <td>-0.371111</td>\n",
       "      <td>-0.347913</td>\n",
       "      <td>-0.360659</td>\n",
       "      <td>-0.337245</td>\n",
       "      <td>2.506731</td>\n",
       "      <td>-0.175373</td>\n",
       "    </tr>\n",
       "    <tr>\n",
       "      <th>3</th>\n",
       "      <td>2.957778</td>\n",
       "      <td>0.649841</td>\n",
       "      <td>0.226243</td>\n",
       "      <td>-0.056332</td>\n",
       "      <td>-0.064591</td>\n",
       "      <td>-0.075483</td>\n",
       "      <td>-0.116161</td>\n",
       "      <td>-0.048644</td>\n",
       "      <td>-0.187317</td>\n",
       "      <td>-0.057583</td>\n",
       "      <td>...</td>\n",
       "      <td>3.577527</td>\n",
       "      <td>-0.413597</td>\n",
       "      <td>-0.140321</td>\n",
       "      <td>-0.418048</td>\n",
       "      <td>-0.371111</td>\n",
       "      <td>-0.347913</td>\n",
       "      <td>-0.360659</td>\n",
       "      <td>-0.337245</td>\n",
       "      <td>-0.398926</td>\n",
       "      <td>-0.175373</td>\n",
       "    </tr>\n",
       "    <tr>\n",
       "      <th>4</th>\n",
       "      <td>-0.785285</td>\n",
       "      <td>0.839675</td>\n",
       "      <td>-0.454494</td>\n",
       "      <td>-0.056332</td>\n",
       "      <td>-0.064591</td>\n",
       "      <td>-0.075483</td>\n",
       "      <td>8.608712</td>\n",
       "      <td>-0.048644</td>\n",
       "      <td>-0.187317</td>\n",
       "      <td>-0.057583</td>\n",
       "      <td>...</td>\n",
       "      <td>3.577527</td>\n",
       "      <td>-0.413597</td>\n",
       "      <td>-0.140321</td>\n",
       "      <td>-0.418048</td>\n",
       "      <td>-0.371111</td>\n",
       "      <td>-0.347913</td>\n",
       "      <td>-0.360659</td>\n",
       "      <td>-0.337245</td>\n",
       "      <td>-0.398926</td>\n",
       "      <td>-0.175373</td>\n",
       "    </tr>\n",
       "  </tbody>\n",
       "</table>\n",
       "<p>5 rows × 114 columns</p>\n",
       "</div>"
      ],
      "text/plain": [
       "   average_rain_fall_mm_per_year  pesticides_tonnes  avg_temp  \\\n",
       "0                       0.216539          -0.567154 -0.494072   \n",
       "1                      -0.193234          -0.622933  0.599856   \n",
       "2                       0.046978          -0.622127  0.465292   \n",
       "3                       2.957778           0.649841  0.226243   \n",
       "4                      -0.785285           0.839675 -0.454494   \n",
       "\n",
       "   Country_Albania  Country_Algeria  Country_Angola  Country_Argentina  \\\n",
       "0        -0.056332        -0.064591       -0.075483          -0.116161   \n",
       "1        -0.056332        -0.064591       13.247956          -0.116161   \n",
       "2        -0.056332        -0.064591       -0.075483          -0.116161   \n",
       "3        -0.056332        -0.064591       -0.075483          -0.116161   \n",
       "4        -0.056332        -0.064591       -0.075483           8.608712   \n",
       "\n",
       "   Country_Armenia  Country_Australia  Country_Austria  ...  Item_Cassava  \\\n",
       "0        -0.048644          -0.187317        -0.057583  ...     -0.279523   \n",
       "1        -0.048644          -0.187317        -0.057583  ...     -0.279523   \n",
       "2        -0.048644          -0.187317        -0.057583  ...     -0.279523   \n",
       "3        -0.048644          -0.187317        -0.057583  ...      3.577527   \n",
       "4        -0.048644          -0.187317        -0.057583  ...      3.577527   \n",
       "\n",
       "   Item_Maize  Item_Plantains and others  Item_Potatoes  Item_Rice, paddy  \\\n",
       "0   -0.413597                  -0.140321      -0.418048         -0.371111   \n",
       "1   -0.413597                  -0.140321      -0.418048         -0.371111   \n",
       "2   -0.413597                  -0.140321      -0.418048         -0.371111   \n",
       "3   -0.413597                  -0.140321      -0.418048         -0.371111   \n",
       "4   -0.413597                  -0.140321      -0.418048         -0.371111   \n",
       "\n",
       "   Item_Sorghum  Item_Soybeans  Item_Sweet potatoes  Item_Wheat  Item_Yams  \n",
       "0     -0.347913       2.772699            -0.337245   -0.398926  -0.175373  \n",
       "1     -0.347913      -0.360659             2.965201   -0.398926  -0.175373  \n",
       "2     -0.347913      -0.360659            -0.337245    2.506731  -0.175373  \n",
       "3     -0.347913      -0.360659            -0.337245   -0.398926  -0.175373  \n",
       "4     -0.347913      -0.360659            -0.337245   -0.398926  -0.175373  \n",
       "\n",
       "[5 rows x 114 columns]"
      ]
     },
     "execution_count": 106,
     "metadata": {},
     "output_type": "execute_result"
    }
   ],
   "source": [
    "test_df.head()"
   ]
  },
  {
   "cell_type": "code",
   "execution_count": 107,
   "id": "08aa1e88",
   "metadata": {
    "colab": {
     "base_uri": "https://localhost:8080/",
     "height": 206
    },
    "execution": {
     "iopub.execute_input": "2022-04-18T20:52:37.271604Z",
     "iopub.status.busy": "2022-04-18T20:52:37.270496Z",
     "iopub.status.idle": "2022-04-18T20:52:37.274921Z",
     "shell.execute_reply": "2022-04-18T20:52:37.274272Z",
     "shell.execute_reply.started": "2022-04-18T18:52:56.082660Z"
    },
    "id": "08aa1e88",
    "outputId": "0f1d723f-de42-4826-f4f5-e611f7b31136",
    "papermill": {
     "duration": 0.11133,
     "end_time": "2022-04-18T20:52:37.275072",
     "exception": false,
     "start_time": "2022-04-18T20:52:37.163742",
     "status": "completed"
    },
    "tags": []
   },
   "outputs": [
    {
     "data": {
      "text/html": [
       "<div>\n",
       "<style scoped>\n",
       "    .dataframe tbody tr th:only-of-type {\n",
       "        vertical-align: middle;\n",
       "    }\n",
       "\n",
       "    .dataframe tbody tr th {\n",
       "        vertical-align: top;\n",
       "    }\n",
       "\n",
       "    .dataframe thead th {\n",
       "        text-align: right;\n",
       "    }\n",
       "</style>\n",
       "<table border=\"1\" class=\"dataframe\">\n",
       "  <thead>\n",
       "    <tr style=\"text-align: right;\">\n",
       "      <th></th>\n",
       "      <th>average_rain_fall_mm_per_year</th>\n",
       "      <th>pesticides_tonnes</th>\n",
       "      <th>avg_temp</th>\n",
       "    </tr>\n",
       "  </thead>\n",
       "  <tbody>\n",
       "    <tr>\n",
       "      <th>0</th>\n",
       "      <td>0.216539</td>\n",
       "      <td>-0.567154</td>\n",
       "      <td>-0.494072</td>\n",
       "    </tr>\n",
       "    <tr>\n",
       "      <th>1</th>\n",
       "      <td>-0.193234</td>\n",
       "      <td>-0.622933</td>\n",
       "      <td>0.599856</td>\n",
       "    </tr>\n",
       "    <tr>\n",
       "      <th>2</th>\n",
       "      <td>0.046978</td>\n",
       "      <td>-0.622127</td>\n",
       "      <td>0.465292</td>\n",
       "    </tr>\n",
       "    <tr>\n",
       "      <th>3</th>\n",
       "      <td>2.957778</td>\n",
       "      <td>0.649841</td>\n",
       "      <td>0.226243</td>\n",
       "    </tr>\n",
       "    <tr>\n",
       "      <th>4</th>\n",
       "      <td>-0.785285</td>\n",
       "      <td>0.839675</td>\n",
       "      <td>-0.454494</td>\n",
       "    </tr>\n",
       "  </tbody>\n",
       "</table>\n",
       "</div>"
      ],
      "text/plain": [
       "   average_rain_fall_mm_per_year  pesticides_tonnes  avg_temp\n",
       "0                       0.216539          -0.567154 -0.494072\n",
       "1                      -0.193234          -0.622933  0.599856\n",
       "2                       0.046978          -0.622127  0.465292\n",
       "3                       2.957778           0.649841  0.226243\n",
       "4                      -0.785285           0.839675 -0.454494"
      ]
     },
     "execution_count": 107,
     "metadata": {},
     "output_type": "execute_result"
    }
   ],
   "source": [
    "test_df.drop([col for col in test_df.columns if 'Item' in col],axis=1,inplace=True)\n",
    "test_df.drop([col for col in test_df.columns if 'Country' in col],axis=1,inplace=True)\n",
    "test_df.head()"
   ]
  },
  {
   "cell_type": "code",
   "execution_count": 108,
   "id": "e1a3af3b",
   "metadata": {
    "colab": {
     "base_uri": "https://localhost:8080/",
     "height": 206
    },
    "execution": {
     "iopub.execute_input": "2022-04-18T20:52:37.471461Z",
     "iopub.status.busy": "2022-04-18T20:52:37.470451Z",
     "iopub.status.idle": "2022-04-18T20:52:37.474111Z",
     "shell.execute_reply": "2022-04-18T20:52:37.474639Z",
     "shell.execute_reply.started": "2022-04-18T18:52:59.767606Z"
    },
    "id": "e1a3af3b",
    "outputId": "19978127-0163-48b8-a30a-a4bf861fe19c",
    "papermill": {
     "duration": 0.10814,
     "end_time": "2022-04-18T20:52:37.474837",
     "exception": false,
     "start_time": "2022-04-18T20:52:37.366697",
     "status": "completed"
    },
    "scrolled": true,
    "tags": []
   },
   "outputs": [
    {
     "data": {
      "text/html": [
       "<div>\n",
       "<style scoped>\n",
       "    .dataframe tbody tr th:only-of-type {\n",
       "        vertical-align: middle;\n",
       "    }\n",
       "\n",
       "    .dataframe tbody tr th {\n",
       "        vertical-align: top;\n",
       "    }\n",
       "\n",
       "    .dataframe thead th {\n",
       "        text-align: right;\n",
       "    }\n",
       "</style>\n",
       "<table border=\"1\" class=\"dataframe\">\n",
       "  <thead>\n",
       "    <tr style=\"text-align: right;\">\n",
       "      <th></th>\n",
       "      <th>average_rain_fall_mm_per_year</th>\n",
       "      <th>pesticides_tonnes</th>\n",
       "      <th>avg_temp</th>\n",
       "      <th>Country</th>\n",
       "      <th>Item</th>\n",
       "    </tr>\n",
       "  </thead>\n",
       "  <tbody>\n",
       "    <tr>\n",
       "      <th>0</th>\n",
       "      <td>0.216539</td>\n",
       "      <td>-0.567154</td>\n",
       "      <td>-0.494072</td>\n",
       "      <td>Uruguay</td>\n",
       "      <td>Soybeans</td>\n",
       "    </tr>\n",
       "    <tr>\n",
       "      <th>1</th>\n",
       "      <td>-0.193234</td>\n",
       "      <td>-0.622933</td>\n",
       "      <td>0.599856</td>\n",
       "      <td>Angola</td>\n",
       "      <td>Sweet potatoes</td>\n",
       "    </tr>\n",
       "    <tr>\n",
       "      <th>2</th>\n",
       "      <td>0.046978</td>\n",
       "      <td>-0.622127</td>\n",
       "      <td>0.465292</td>\n",
       "      <td>Uganda</td>\n",
       "      <td>Wheat</td>\n",
       "    </tr>\n",
       "    <tr>\n",
       "      <th>3</th>\n",
       "      <td>2.957778</td>\n",
       "      <td>0.649841</td>\n",
       "      <td>0.226243</td>\n",
       "      <td>Colombia</td>\n",
       "      <td>Cassava</td>\n",
       "    </tr>\n",
       "    <tr>\n",
       "      <th>4</th>\n",
       "      <td>-0.785285</td>\n",
       "      <td>0.839675</td>\n",
       "      <td>-0.454494</td>\n",
       "      <td>Argentina</td>\n",
       "      <td>Cassava</td>\n",
       "    </tr>\n",
       "  </tbody>\n",
       "</table>\n",
       "</div>"
      ],
      "text/plain": [
       "   average_rain_fall_mm_per_year  pesticides_tonnes  avg_temp    Country  \\\n",
       "0                       0.216539          -0.567154 -0.494072    Uruguay   \n",
       "1                      -0.193234          -0.622933  0.599856     Angola   \n",
       "2                       0.046978          -0.622127  0.465292     Uganda   \n",
       "3                       2.957778           0.649841  0.226243   Colombia   \n",
       "4                      -0.785285           0.839675 -0.454494  Argentina   \n",
       "\n",
       "             Item  \n",
       "0        Soybeans  \n",
       "1  Sweet potatoes  \n",
       "2           Wheat  \n",
       "3         Cassava  \n",
       "4         Cassava  "
      ]
     },
     "execution_count": 108,
     "metadata": {},
     "output_type": "execute_result"
    }
   ],
   "source": [
    "test_df['Country']=countries\n",
    "test_df['Item']=items\n",
    "test_df.head()"
   ]
  },
  {
   "cell_type": "code",
   "execution_count": 109,
   "id": "a9ee411b",
   "metadata": {
    "colab": {
     "base_uri": "https://localhost:8080/"
    },
    "execution": {
     "iopub.execute_input": "2022-04-18T20:52:37.658318Z",
     "iopub.status.busy": "2022-04-18T20:52:37.657174Z",
     "iopub.status.idle": "2022-04-18T20:52:38.137680Z",
     "shell.execute_reply": "2022-04-18T20:52:38.136955Z",
     "shell.execute_reply.started": "2022-04-18T18:53:02.122336Z"
    },
    "id": "a9ee411b",
    "outputId": "ecd118a6-5b00-4091-846b-42980b435057",
    "papermill": {
     "duration": 0.573766,
     "end_time": "2022-04-18T20:52:38.137852",
     "exception": false,
     "start_time": "2022-04-18T20:52:37.564086",
     "status": "completed"
    },
    "scrolled": true,
    "tags": []
   },
   "outputs": [
    {
     "name": "stdout",
     "output_type": "stream",
     "text": [
      "R2 score :  0.9601992301940683\n",
      "Adj. R-Squared : 0.7407781990960911\n"
     ]
    }
   ],
   "source": [
    "from sklearn.tree import DecisionTreeRegressor\n",
    "clf=DecisionTreeRegressor()\n",
    "model=clf.fit(train_data,train_labels)\n",
    "ensemble_pred = model.predict(test_data)\n",
    "test_df[\"yield_predicted\"]= ensemble_pred\n",
    "test_df[\"yield_actual\"]=pd.DataFrame(test_labels)[\"hg/ha_yield\"].tolist()\n",
    "test_group=test_df.groupby(\"Item\")\n",
    "test_group.apply(lambda x: r2_score(x.yield_actual,x.yield_predicted))\n",
    "\n",
    "#R2 Score\n",
    "from sklearn.metrics import r2_score\n",
    "r1 = r2_score(test_labels,ensemble_pred)\n",
    "print(\"R2 score : \",r1)\n",
    "\n",
    "# Calculating Adj. R2 score: \n",
    "\n",
    "Adjr2_1 = 1 - (1-r)*(len(test_labels)-1)/(len(test_labels)-test_data.shape[1]-1)\n",
    "print(\"Adj. R-Squared : {}\".format(Adjr2_1))"
   ]
  },
  {
   "cell_type": "code",
   "execution_count": 1,
   "id": "d17970d4",
   "metadata": {
    "colab": {
     "base_uri": "https://localhost:8080/",
     "height": 295
    },
    "execution": {
     "iopub.execute_input": "2022-04-18T20:52:38.322681Z",
     "iopub.status.busy": "2022-04-18T20:52:38.321569Z",
     "iopub.status.idle": "2022-04-18T20:52:38.553213Z",
     "shell.execute_reply": "2022-04-18T20:52:38.552626Z",
     "shell.execute_reply.started": "2022-04-18T18:53:03.819884Z"
    },
    "id": "d17970d4",
    "outputId": "dda3e419-58fe-4f97-b5c7-b87af0ded682",
    "papermill": {
     "duration": 0.32487,
     "end_time": "2022-04-18T20:52:38.553385",
     "exception": false,
     "start_time": "2022-04-18T20:52:38.228515",
     "status": "completed"
    },
    "tags": []
   },
   "outputs": [
    {
     "ename": "NameError",
     "evalue": "name 'plt' is not defined",
     "output_type": "error",
     "traceback": [
      "\u001b[1;31m---------------------------------------------------------------------------\u001b[0m",
      "\u001b[1;31mNameError\u001b[0m                                 Traceback (most recent call last)",
      "\u001b[1;32m~\\AppData\\Local\\Temp/ipykernel_7456/3511559945.py\u001b[0m in \u001b[0;36m<module>\u001b[1;34m\u001b[0m\n\u001b[0;32m      1\u001b[0m \u001b[1;31m# So let's run the model actual values against the predicted ones\u001b[0m\u001b[1;33m\u001b[0m\u001b[1;33m\u001b[0m\u001b[0m\n\u001b[0;32m      2\u001b[0m \u001b[1;33m\u001b[0m\u001b[0m\n\u001b[1;32m----> 3\u001b[1;33m \u001b[0mfig\u001b[0m\u001b[1;33m,\u001b[0m \u001b[0max\u001b[0m \u001b[1;33m=\u001b[0m \u001b[0mplt\u001b[0m\u001b[1;33m.\u001b[0m\u001b[0msubplots\u001b[0m\u001b[1;33m(\u001b[0m\u001b[1;33m)\u001b[0m\u001b[1;33m\u001b[0m\u001b[1;33m\u001b[0m\u001b[0m\n\u001b[0m\u001b[0;32m      4\u001b[0m \u001b[1;33m\u001b[0m\u001b[0m\n\u001b[0;32m      5\u001b[0m \u001b[0max\u001b[0m\u001b[1;33m.\u001b[0m\u001b[0mscatter\u001b[0m\u001b[1;33m(\u001b[0m\u001b[0mtest_df\u001b[0m\u001b[1;33m[\u001b[0m\u001b[1;34m\"yield_actual\"\u001b[0m\u001b[1;33m]\u001b[0m\u001b[1;33m,\u001b[0m \u001b[0mtest_df\u001b[0m\u001b[1;33m[\u001b[0m\u001b[1;34m\"yield_predicted\"\u001b[0m\u001b[1;33m]\u001b[0m\u001b[1;33m,\u001b[0m\u001b[0medgecolors\u001b[0m\u001b[1;33m=\u001b[0m\u001b[1;33m(\u001b[0m\u001b[1;36m0\u001b[0m\u001b[1;33m,\u001b[0m \u001b[1;36m0\u001b[0m\u001b[1;33m,\u001b[0m \u001b[1;36m0\u001b[0m\u001b[1;33m)\u001b[0m\u001b[1;33m)\u001b[0m\u001b[1;33m\u001b[0m\u001b[1;33m\u001b[0m\u001b[0m\n",
      "\u001b[1;31mNameError\u001b[0m: name 'plt' is not defined"
     ]
    }
   ],
   "source": [
    "# So let's run the model actual values against the predicted ones \n",
    "\n",
    "fig, ax = plt.subplots() \n",
    "\n",
    "ax.scatter(test_df[\"yield_actual\"], test_df[\"yield_predicted\"],edgecolors=(0, 0, 0))\n",
    "\n",
    "ax.set_xlabel('Actual')\n",
    "ax.set_ylabel('Predicted')\n",
    "ax.set_title(\"Actual vs Predicted\")\n",
    "plt.show()"
   ]
  },
  {
   "cell_type": "markdown",
   "id": "23f21d7c",
   "metadata": {},
   "source": [
    "## Ensembling Random Forest and SVR Regression"
   ]
  },
  {
   "cell_type": "code",
   "execution_count": 83,
   "id": "NvAHpIjK0aw-",
   "metadata": {
    "colab": {
     "base_uri": "https://localhost:8080/",
     "height": 364
    },
    "id": "NvAHpIjK0aw-",
    "outputId": "659f3cd0-dcdb-4909-9a2d-221fc2505dc6"
   },
   "outputs": [
    {
     "name": "stdout",
     "output_type": "stream",
     "text": [
      "Ensemble MSE: 191026338.87776613\n",
      "Ensemble MAE: 5753.090135081669\n",
      "R2 score :  0.9741954514804235\n",
      "Adj. R-Squared : 0.7407781990960911\n"
     ]
    },
    {
     "data": {
      "image/png": "[encoded data removed]",
      "text/plain": [
       "<Figure size 432x288 with 1 Axes>"
      ]
     },
     "metadata": {
      "needs_background": "light"
     },
     "output_type": "display_data"
    }
   ],
   "source": [
    "# Import necessary libraries\n",
    "import numpy as np\n",
    "import pandas as pd\n",
    "from sklearn.svm import SVR\n",
    "from sklearn.metrics import mean_squared_error, mean_absolute_error\n",
    "from sklearn.datasets import make_regression\n",
    "from sklearn.model_selection import train_test_split\n",
    "from sklearn.ensemble import RandomForestRegressor\n",
    "from sklearn.preprocessing import StandardScaler\n",
    "\n",
    "# Load and preprocess data\n",
    "scaler = StandardScaler()\n",
    "train_data = scaler.fit_transform(train_data)\n",
    "test_data = scaler.transform(test_data)\n",
    "\n",
    "# Train SVR to extract features\n",
    "svr = SVR(kernel='rbf', C=1e3, gamma=0.1)  #radial basis function \n",
    "svr.fit(train_data, train_labels)\n",
    "train_data_svr = svr.predict(train_data).reshape(-1, 1)\n",
    "test_data_svr = svr.predict(test_data).reshape(-1, 1)\n",
    "\n",
    "# Define and train CNN model\n",
    "cnn = RandomForestRegressor(n_estimators=500, max_depth=95, random_state=42)\n",
    "cnn.fit(train_data, train_labels)\n",
    "\n",
    "# Ensemble model by concatenating features from SVR and CNN\n",
    "train_data_ensemble = np.concatenate([cnn.predict(train_data).reshape(-1, 1), train_data_svr], axis=1)\n",
    "test_data_ensemble = np.concatenate([cnn.predict(test_data).reshape(-1, 1), test_data_svr], axis=1)\n",
    "\n",
    "# Train the ensemble model using a simple linear regression model\n",
    "from sklearn.linear_model import LinearRegression\n",
    "ensemble = LinearRegression()\n",
    "ensemble.fit(train_data_ensemble, train_labels)\n",
    "\n",
    "# Evaluate the ensemble model\n",
    "y_pred = ensemble.predict(test_data_ensemble)\n",
    "print(\"Ensemble MSE:\", mean_squared_error(test_labels, y_pred))\n",
    "print(\"Ensemble MAE:\", mean_absolute_error(test_labels, y_pred))\n",
    "\n",
    "\n",
    "#R2 Score\n",
    "from sklearn.metrics import r2_score\n",
    "r1 = r2_score(test_labels,y_pred)\n",
    "print(\"R2 score : \",r1)\n",
    "\n",
    "# Calculating Adj. R2 score: \n",
    "\n",
    "Adjr2_1 = 1 - (1-r)*(len(test_labels)-1)/(len(test_labels)-test_data.shape[1]-1)\n",
    "print(\"Adj. R-Squared : {}\".format(Adjr2_1))\n",
    "\n",
    "\n",
    "from sklearn.tree import DecisionTreeRegressor\n",
    "clf=DecisionTreeRegressor()\n",
    "model=clf.fit(train_data,train_labels)\n",
    "\n",
    "test_df[\"yield_predicted\"]= y_pred\n",
    "test_df[\"yield_actual\"]=pd.DataFrame(test_labels)[\"hg/ha_yield\"].tolist()\n",
    "test_group=test_df.groupby(\"Item\")\n",
    "\n",
    "# So let's run the model actual values against the predicted ones \n",
    "\n",
    "fig, ax = plt.subplots() \n",
    "\n",
    "ax.scatter(test_df[\"yield_actual\"], test_df[\"yield_predicted\"],edgecolors=(0, 0, 0))\n",
    "\n",
    "ax.set_xlabel('Actual')\n",
    "ax.set_ylabel('Predicted')\n",
    "ax.set_title(\"Actual vs Predicted\")\n",
    "plt.show()\n"
   ]
  },
  {
   "cell_type": "markdown",
   "id": "XZQdaWeZGXFe",
   "metadata": {
    "id": "XZQdaWeZGXFe"
   },
   "source": [
    "**We train a Support Vector Regression (SVR) model to extract features from the input data, and a Random Forest Regressor (RFR) model as a simple CNN to learn complex patterns and relationships within the data.**"
   ]
  },
  {
   "cell_type": "markdown",
   "id": "HFJFs1SbGZoP",
   "metadata": {
    "id": "HFJFs1SbGZoP"
   },
   "source": [
    "In this example code, we first generate a random dataset with 1000 samples and 10 features, where 5 features are informative. We split the data into training and test sets and scale the features using a StandardScaler.\n",
    "\n",
    "We train a Support Vector Regression (SVR) model to extract features from the input data, and a Random Forest Regressor (RFR) model as a simple CNN to learn complex patterns and relationships within the data.\n",
    "\n",
    "We predict the output of the RFR model for each sample in the training and test data, and use these features to concatenate with the output of the SVR model to use as input to the ensemble model.\n",
    "\n",
    "We concatenate the output of the RFR model with the features extracted by the SVR model and use this as input to a simple linear regression model with a final output of 1.\n",
    "\n",
    "We compile and train the ensemble model using both the input data and the features extracted from SVR and RFR. Finally, we evaluate the ensemble model using the test data and print the mean squared error and mean absolute error scores."
   ]
  },
  {
   "cell_type": "markdown",
   "id": "5b32ea90",
   "metadata": {},
   "source": [
    "## Ensembling Random Forest and CNN"
   ]
  },
  {
   "cell_type": "code",
   "execution_count": 85,
   "id": "0fbc9adf",
   "metadata": {
    "colab": {
     "base_uri": "https://localhost:8080/",
     "height": 399
    },
    "id": "0fbc9adf",
    "outputId": "9806fd44-a036-43f8-f5a5-9dcc2860336f"
   },
   "outputs": [
    {
     "name": "stdout",
     "output_type": "stream",
     "text": [
      "662/662 [==============================] - 1s 2ms/step\n",
      "221/221 [==============================] - 0s 2ms/step\n",
      "Ensemble MSE: 191431584.58807895\n",
      "Ensemble MAE: 5797.666086356401\n",
      "R2 score :  0.9741407093822628\n",
      "Adj. R-Squared : 0.7407781990960911\n"
     ]
    },
    {
     "data": {
      "image/png": "[encoded data removed]",
      "text/plain": [
       "<Figure size 432x288 with 1 Axes>"
      ]
     },
     "metadata": {
      "needs_background": "light"
     },
     "output_type": "display_data"
    }
   ],
   "source": [
    "# Import necessary libraries\n",
    "import numpy as np\n",
    "from sklearn.ensemble import RandomForestRegressor\n",
    "from sklearn.metrics import mean_squared_error, mean_absolute_error\n",
    "from sklearn.datasets import make_regression\n",
    "from sklearn.model_selection import train_test_split\n",
    "from sklearn.preprocessing import StandardScaler\n",
    "from keras.models import Sequential\n",
    "from keras.layers import Dense, Flatten, Conv1D, MaxPooling1D\n",
    "\n",
    "# Load and preprocess data\n",
    "scaler = StandardScaler()\n",
    "train_data = scaler.fit_transform(train_data)\n",
    "test_data = scaler.transform(test_data)\n",
    "\n",
    "# Define CNN model\n",
    "cnn = Sequential()\n",
    "cnn.add(Conv1D(filters=64, kernel_size=3, activation='relu', input_shape=(114, 1)))\n",
    "cnn.add(MaxPooling1D(pool_size=2))\n",
    "cnn.add(Conv1D(filters=64, kernel_size=6, activation='relu', input_shape=(114, 1)))\n",
    "cnn.add(MaxPooling1D(pool_size=2))\n",
    "cnn.add(Conv1D(filters=64, kernel_size=9, activation='relu', input_shape=(114, 1)))\n",
    "cnn.add(MaxPooling1D(pool_size=2))\n",
    "cnn.add(Flatten())\n",
    "cnn.add(Dense(50, activation='relu'))\n",
    "cnn.add(Dense(1))\n",
    "\n",
    "# Train CNN model\n",
    "cnn.compile(optimizer='adam', loss='mse')\n",
    "train_data_cnn = train_data.reshape((train_data.shape[0], train_data.shape[1], 1))\n",
    "test_data_cnn = test_data.reshape((test_data.shape[0], test_data.shape[1], 1))\n",
    "cnn.fit(train_data_cnn, train_labels, epochs=10, batch_size=32, verbose=0)\n",
    "\n",
    "# Train RFR model\n",
    "rfr = RandomForestRegressor(n_estimators=500, max_depth=95, random_state=42)\n",
    "rfr.fit(train_data, train_labels)\n",
    "\n",
    "# Ensemble model by concatenating features from RFR and CNN\n",
    "train_data_ensemble = np.concatenate([rfr.predict(train_data).reshape(-1, 1), cnn.predict(train_data_cnn)], axis=1)\n",
    "test_data_ensemble = np.concatenate([rfr.predict(test_data).reshape(-1, 1), cnn.predict(test_data_cnn)], axis=1)\n",
    "\n",
    "# Train the ensemble model using a simple linear regression model\n",
    "from sklearn.linear_model import LinearRegression\n",
    "ensemble = LinearRegression()\n",
    "ensemble.fit(train_data_ensemble, train_labels)\n",
    "\n",
    "# Evaluate the ensemble model\n",
    "y_pred = ensemble.predict(test_data_ensemble)\n",
    "print(\"Ensemble MSE:\", mean_squared_error(test_labels, y_pred))\n",
    "print(\"Ensemble MAE:\", mean_absolute_error(test_labels, y_pred))\n",
    "\n",
    "#R2 Score\n",
    "from sklearn.metrics import r2_score\n",
    "r1 = r2_score(test_labels,y_pred)\n",
    "print(\"R2 score : \",r1)\n",
    "\n",
    "# Calculating Adj. R2 score: \n",
    "\n",
    "Adjr2_1 = 1 - (1-r)*(len(test_labels)-1)/(len(test_labels)-test_data.shape[1]-1)\n",
    "print(\"Adj. R-Squared : {}\".format(Adjr2_1))\n",
    "\n",
    "\n",
    "from sklearn.tree import DecisionTreeRegressor\n",
    "clf=DecisionTreeRegressor()\n",
    "model=clf.fit(train_data,train_labels)\n",
    "\n",
    "test_df[\"yield_predicted\"]= y_pred\n",
    "test_df[\"yield_actual\"]=pd.DataFrame(test_labels)[\"hg/ha_yield\"].tolist()\n",
    "test_group=test_df.groupby(\"Item\")\n",
    "\n",
    "# So let's run the model actual values against the predicted ones \n",
    "\n",
    "fig, ax = plt.subplots() \n",
    "\n",
    "ax.scatter(test_df[\"yield_actual\"], test_df[\"yield_predicted\"],edgecolors=(0, 0, 0))\n",
    "\n",
    "ax.set_xlabel('Actual')\n",
    "ax.set_ylabel('Predicted')\n",
    "ax.set_title(\"Actual vs Predicted\")\n",
    "plt.show()"
   ]
  },
  {
   "cell_type": "markdown",
   "id": "NC1norYnLKAk",
   "metadata": {
    "id": "NC1norYnLKAk"
   },
   "source": [
    "In this example code, we load the MNIST dataset and preprocess it by normalizing the pixel values and converting the target labels to one-hot encoded vectors.\n",
    "\n",
    "We define a CNN model with two convolution layers, two max pooling layers, and two dense layers. We compile the model with the Adam optimizer and categorical cross-entropy loss function.\n",
    "\n",
    "We train the model using the fit method, passing in the training data and labels, the number of epochs, batch size, and validation data. The fit method updates the model parameters by minimizing the loss function using backpropagation and gradient descent."
   ]
  },
  {
   "cell_type": "markdown",
   "id": "b068ecd7",
   "metadata": {},
   "source": [
    "## Ensembling Random Forest, SVM and CNN"
   ]
  },
  {
   "cell_type": "code",
   "execution_count": 115,
   "id": "CUoPiGP2O1o0",
   "metadata": {
    "id": "CUoPiGP2O1o0",
    "scrolled": true
   },
   "outputs": [
    {
     "name": "stdout",
     "output_type": "stream",
     "text": [
      "221/221 [==============================] - 1s 5ms/step\n",
      "Ensemble MSE: tf.Tensor(191431584.588079, shape=(), dtype=float64)\n",
      "Ensemble MAE: 5797.666086356401\n",
      "R2 score :  0.9741407093822628\n",
      "Adj. R-Squared : 0.7407781990960911\n"
     ]
    },
    {
     "data": {
      "image/png": "[encoded data removed]",
      "text/plain": [
       "<Figure size 432x288 with 1 Axes>"
      ]
     },
     "metadata": {
      "needs_background": "light"
     },
     "output_type": "display_data"
    }
   ],
   "source": [
    "# Import necessary libraries\n",
    "# Import necessary libraries\n",
    "import numpy as np\n",
    "from sklearn.ensemble import RandomForestRegressor\n",
    "from sklearn.metrics import mean_squared_error, mean_absolute_error\n",
    "from sklearn.datasets import make_regression\n",
    "from sklearn.model_selection import train_test_split\n",
    "from sklearn.preprocessing import StandardScaler\n",
    "from keras.models import Sequential\n",
    "from keras.layers import Dense, Flatten, Conv1D, MaxPooling1D\n",
    "from sklearn.svm import SVR\n",
    "from keras.models import Sequential\n",
    "from keras.layers import Conv2D, MaxPooling2D, Dense, Flatten\n",
    "from keras.optimizers import Adam\n",
    "from keras.losses import mean_squared_error\n",
    "from keras.datasets import mnist\n",
    "\n",
    "# Load and preprocess data\n",
    "scaler = StandardScaler()\n",
    "train_data = scaler.fit_transform(train_data)\n",
    "test_data = scaler.transform(test_data)\n",
    "\n",
    "# Define CNN model\n",
    "cnn = Sequential()\n",
    "cnn.add(Conv1D(filters=64, kernel_size=3, activation='relu', input_shape=(114, 1)))\n",
    "cnn.add(MaxPooling1D(pool_size=2))\n",
    "cnn.add(Conv1D(filters=64, kernel_size=6, activation='relu', input_shape=(114, 1)))\n",
    "cnn.add(MaxPooling1D(pool_size=2))\n",
    "cnn.add(Conv1D(filters=64, kernel_size=9, activation='relu', input_shape=(114, 1)))\n",
    "cnn.add(MaxPooling1D(pool_size=2))\n",
    "cnn.add(Flatten())\n",
    "cnn.add(Dense(50, activation='relu'))\n",
    "cnn.add(Dense(1))\n",
    "\n",
    "# Train CNN model\n",
    "cnn.compile(optimizer='adam', loss='mse')\n",
    "train_data_cnn = train_data.reshape((train_data.shape[0], train_data.shape[1], 1))\n",
    "test_data_cnn = test_data.reshape((test_data.shape[0], test_data.shape[1], 1))\n",
    "cnn.fit(train_data_cnn, train_labels, epochs=10, batch_size=32, verbose=0)\n",
    "\n",
    "# Train RFR model\n",
    "rfr = RandomForestRegressor(n_estimators=500, max_depth=95, random_state=42)\n",
    "rfr.fit(train_data, train_labels)\n",
    "\n",
    "# Define SVM Regression model\n",
    "svm_model = SVR(kernel='linear')\n",
    "\n",
    "# Train SVM Regression model\n",
    "svm_model.fit(train_data.reshape(train_data.shape[0], -1), train_labels)\n",
    "\n",
    "# Ensemble model by concatenating features from RFR and CNN\n",
    "# Predict using Random Forest Regression model\n",
    "rf_pred = rfr.predict(test_data.reshape(test_data.shape[0], -1))\n",
    "\n",
    "# Predict using SVM Regression model\n",
    "svm_pred = svm_model.predict(test_data.reshape(test_data.shape[0], -1))\n",
    "\n",
    "# Predict using CNN model\n",
    "cnn_pred = cnn.predict(test_data)\n",
    "\n",
    "# Ensemble predictions using weighted averaging\n",
    "y_pred = (0.34 * rf_pred) + (0.33 * svm_pred) + (0.33 * cnn_pred)\n",
    "\n",
    "\n",
    "\n",
    "# Evaluate the ensemble model\n",
    "y_pred = ensemble.predict(test_data_ensemble)\n",
    "print(\"Ensemble MSE:\", mean_squared_error(test_labels, y_pred))\n",
    "print(\"Ensemble MAE:\", mean_absolute_error(test_labels, y_pred))\n",
    "\n",
    "#R2 Score\n",
    "from sklearn.metrics import r2_score\n",
    "r1 = r2_score(test_labels,y_pred)\n",
    "print(\"R2 score : \",r1)\n",
    "\n",
    "# Calculating Adj. R2 score: \n",
    "\n",
    "Adjr2_1 = 1 - (1-r)*(len(test_labels)-1)/(len(test_labels)-test_data.shape[1]-1)\n",
    "print(\"Adj. R-Squared : {}\".format(Adjr2_1))\n",
    "\n",
    "\n",
    "from sklearn.tree import DecisionTreeRegressor\n",
    "clf=DecisionTreeRegressor()\n",
    "model=clf.fit(train_data,train_labels)\n",
    "\n",
    "test_df[\"yield_predicted\"]= y_pred\n",
    "test_df[\"yield_actual\"]=pd.DataFrame(test_labels)[\"hg/ha_yield\"].tolist()\n",
    "test_group=test_df.groupby(\"Item\")\n",
    "\n",
    "# So let's run the model actual values against the predicted ones \n",
    "\n",
    "fig, ax = plt.subplots() \n",
    "\n",
    "ax.scatter(test_df[\"yield_actual\"], test_df[\"yield_predicted\"],edgecolors=(0, 0, 0))\n",
    "\n",
    "ax.set_xlabel('Actual')\n",
    "ax.set_ylabel('Predicted')\n",
    "ax.set_title(\"Actual vs Predicted\")\n",
    "plt.show()"
   ]
  },
  {
   "cell_type": "markdown",
   "id": "9fb28e64",
   "metadata": {},
   "source": [
    "# Ensemble Model for Naive Byes and CNN"
   ]
  },
  {
   "cell_type": "code",
   "execution_count": 126,
   "id": "3a826e05",
   "metadata": {},
   "outputs": [
    {
     "name": "stdout",
     "output_type": "stream",
     "text": [
      "221/221 [==============================] - 1s 4ms/step\n"
     ]
    },
    {
     "ename": "ValueError",
     "evalue": "Found input variables with inconsistent numbers of samples: [7061, 1]",
     "output_type": "error",
     "traceback": [
      "\u001b[1;31m---------------------------------------------------------------------------\u001b[0m",
      "\u001b[1;31mValueError\u001b[0m                                Traceback (most recent call last)",
      "\u001b[1;32m~\\AppData\\Local\\Temp/ipykernel_18708/3434084283.py\u001b[0m in \u001b[0;36m<module>\u001b[1;34m\u001b[0m\n\u001b[0;32m     48\u001b[0m \u001b[1;33m\u001b[0m\u001b[0m\n\u001b[0;32m     49\u001b[0m \u001b[1;31m# Calculate accuracy of the ensemble model\u001b[0m\u001b[1;33m\u001b[0m\u001b[1;33m\u001b[0m\u001b[0m\n\u001b[1;32m---> 50\u001b[1;33m \u001b[0mensemble_accuracy\u001b[0m \u001b[1;33m=\u001b[0m \u001b[0maccuracy_score\u001b[0m\u001b[1;33m(\u001b[0m\u001b[0mtest_labels\u001b[0m\u001b[1;33m,\u001b[0m \u001b[0mensemble_predictions\u001b[0m\u001b[1;33m)\u001b[0m\u001b[1;33m\u001b[0m\u001b[1;33m\u001b[0m\u001b[0m\n\u001b[0m\u001b[0;32m     51\u001b[0m \u001b[0mprint\u001b[0m\u001b[1;33m(\u001b[0m\u001b[1;34m\"Ensemble Model Accuracy:\"\u001b[0m\u001b[1;33m,\u001b[0m \u001b[0mensemble_accuracy\u001b[0m\u001b[1;33m)\u001b[0m\u001b[1;33m\u001b[0m\u001b[1;33m\u001b[0m\u001b[0m\n",
      "\u001b[1;32m~\\anaconda3\\lib\\site-packages\\sklearn\\utils\\_param_validation.py\u001b[0m in \u001b[0;36mwrapper\u001b[1;34m(*args, **kwargs)\u001b[0m\n\u001b[0;32m    190\u001b[0m \u001b[1;33m\u001b[0m\u001b[0m\n\u001b[0;32m    191\u001b[0m             \u001b[1;32mtry\u001b[0m\u001b[1;33m:\u001b[0m\u001b[1;33m\u001b[0m\u001b[1;33m\u001b[0m\u001b[0m\n\u001b[1;32m--> 192\u001b[1;33m                 \u001b[1;32mreturn\u001b[0m \u001b[0mfunc\u001b[0m\u001b[1;33m(\u001b[0m\u001b[1;33m*\u001b[0m\u001b[0margs\u001b[0m\u001b[1;33m,\u001b[0m \u001b[1;33m**\u001b[0m\u001b[0mkwargs\u001b[0m\u001b[1;33m)\u001b[0m\u001b[1;33m\u001b[0m\u001b[1;33m\u001b[0m\u001b[0m\n\u001b[0m\u001b[0;32m    193\u001b[0m             \u001b[1;32mexcept\u001b[0m \u001b[0mInvalidParameterError\u001b[0m \u001b[1;32mas\u001b[0m \u001b[0me\u001b[0m\u001b[1;33m:\u001b[0m\u001b[1;33m\u001b[0m\u001b[1;33m\u001b[0m\u001b[0m\n\u001b[0;32m    194\u001b[0m                 \u001b[1;31m# When the function is just a wrapper around an estimator, we allow\u001b[0m\u001b[1;33m\u001b[0m\u001b[1;33m\u001b[0m\u001b[0m\n",
      "\u001b[1;32m~\\anaconda3\\lib\\site-packages\\sklearn\\metrics\\_classification.py\u001b[0m in \u001b[0;36maccuracy_score\u001b[1;34m(y_true, y_pred, normalize, sample_weight)\u001b[0m\n\u001b[0;32m    219\u001b[0m \u001b[1;33m\u001b[0m\u001b[0m\n\u001b[0;32m    220\u001b[0m     \u001b[1;31m# Compute accuracy for each possible representation\u001b[0m\u001b[1;33m\u001b[0m\u001b[1;33m\u001b[0m\u001b[0m\n\u001b[1;32m--> 221\u001b[1;33m     \u001b[0my_type\u001b[0m\u001b[1;33m,\u001b[0m \u001b[0my_true\u001b[0m\u001b[1;33m,\u001b[0m \u001b[0my_pred\u001b[0m \u001b[1;33m=\u001b[0m \u001b[0m_check_targets\u001b[0m\u001b[1;33m(\u001b[0m\u001b[0my_true\u001b[0m\u001b[1;33m,\u001b[0m \u001b[0my_pred\u001b[0m\u001b[1;33m)\u001b[0m\u001b[1;33m\u001b[0m\u001b[1;33m\u001b[0m\u001b[0m\n\u001b[0m\u001b[0;32m    222\u001b[0m     \u001b[0mcheck_consistent_length\u001b[0m\u001b[1;33m(\u001b[0m\u001b[0my_true\u001b[0m\u001b[1;33m,\u001b[0m \u001b[0my_pred\u001b[0m\u001b[1;33m,\u001b[0m \u001b[0msample_weight\u001b[0m\u001b[1;33m)\u001b[0m\u001b[1;33m\u001b[0m\u001b[1;33m\u001b[0m\u001b[0m\n\u001b[0;32m    223\u001b[0m     \u001b[1;32mif\u001b[0m \u001b[0my_type\u001b[0m\u001b[1;33m.\u001b[0m\u001b[0mstartswith\u001b[0m\u001b[1;33m(\u001b[0m\u001b[1;34m\"multilabel\"\u001b[0m\u001b[1;33m)\u001b[0m\u001b[1;33m:\u001b[0m\u001b[1;33m\u001b[0m\u001b[1;33m\u001b[0m\u001b[0m\n",
      "\u001b[1;32m~\\anaconda3\\lib\\site-packages\\sklearn\\metrics\\_classification.py\u001b[0m in \u001b[0;36m_check_targets\u001b[1;34m(y_true, y_pred)\u001b[0m\n\u001b[0;32m     84\u001b[0m     \u001b[0my_pred\u001b[0m \u001b[1;33m:\u001b[0m \u001b[0marray\u001b[0m \u001b[1;32mor\u001b[0m \u001b[0mindicator\u001b[0m \u001b[0mmatrix\u001b[0m\u001b[1;33m\u001b[0m\u001b[1;33m\u001b[0m\u001b[0m\n\u001b[0;32m     85\u001b[0m     \"\"\"\n\u001b[1;32m---> 86\u001b[1;33m     \u001b[0mcheck_consistent_length\u001b[0m\u001b[1;33m(\u001b[0m\u001b[0my_true\u001b[0m\u001b[1;33m,\u001b[0m \u001b[0my_pred\u001b[0m\u001b[1;33m)\u001b[0m\u001b[1;33m\u001b[0m\u001b[1;33m\u001b[0m\u001b[0m\n\u001b[0m\u001b[0;32m     87\u001b[0m     \u001b[0mtype_true\u001b[0m \u001b[1;33m=\u001b[0m \u001b[0mtype_of_target\u001b[0m\u001b[1;33m(\u001b[0m\u001b[0my_true\u001b[0m\u001b[1;33m,\u001b[0m \u001b[0minput_name\u001b[0m\u001b[1;33m=\u001b[0m\u001b[1;34m\"y_true\"\u001b[0m\u001b[1;33m)\u001b[0m\u001b[1;33m\u001b[0m\u001b[1;33m\u001b[0m\u001b[0m\n\u001b[0;32m     88\u001b[0m     \u001b[0mtype_pred\u001b[0m \u001b[1;33m=\u001b[0m \u001b[0mtype_of_target\u001b[0m\u001b[1;33m(\u001b[0m\u001b[0my_pred\u001b[0m\u001b[1;33m,\u001b[0m \u001b[0minput_name\u001b[0m\u001b[1;33m=\u001b[0m\u001b[1;34m\"y_pred\"\u001b[0m\u001b[1;33m)\u001b[0m\u001b[1;33m\u001b[0m\u001b[1;33m\u001b[0m\u001b[0m\n",
      "\u001b[1;32m~\\anaconda3\\lib\\site-packages\\sklearn\\utils\\validation.py\u001b[0m in \u001b[0;36mcheck_consistent_length\u001b[1;34m(*arrays)\u001b[0m\n\u001b[0;32m    395\u001b[0m     \u001b[0muniques\u001b[0m \u001b[1;33m=\u001b[0m \u001b[0mnp\u001b[0m\u001b[1;33m.\u001b[0m\u001b[0munique\u001b[0m\u001b[1;33m(\u001b[0m\u001b[0mlengths\u001b[0m\u001b[1;33m)\u001b[0m\u001b[1;33m\u001b[0m\u001b[1;33m\u001b[0m\u001b[0m\n\u001b[0;32m    396\u001b[0m     \u001b[1;32mif\u001b[0m \u001b[0mlen\u001b[0m\u001b[1;33m(\u001b[0m\u001b[0muniques\u001b[0m\u001b[1;33m)\u001b[0m \u001b[1;33m>\u001b[0m \u001b[1;36m1\u001b[0m\u001b[1;33m:\u001b[0m\u001b[1;33m\u001b[0m\u001b[1;33m\u001b[0m\u001b[0m\n\u001b[1;32m--> 397\u001b[1;33m         raise ValueError(\n\u001b[0m\u001b[0;32m    398\u001b[0m             \u001b[1;34m\"Found input variables with inconsistent numbers of samples: %r\"\u001b[0m\u001b[1;33m\u001b[0m\u001b[1;33m\u001b[0m\u001b[0m\n\u001b[0;32m    399\u001b[0m             \u001b[1;33m%\u001b[0m \u001b[1;33m[\u001b[0m\u001b[0mint\u001b[0m\u001b[1;33m(\u001b[0m\u001b[0ml\u001b[0m\u001b[1;33m)\u001b[0m \u001b[1;32mfor\u001b[0m \u001b[0ml\u001b[0m \u001b[1;32min\u001b[0m \u001b[0mlengths\u001b[0m\u001b[1;33m]\u001b[0m\u001b[1;33m\u001b[0m\u001b[1;33m\u001b[0m\u001b[0m\n",
      "\u001b[1;31mValueError\u001b[0m: Found input variables with inconsistent numbers of samples: [7061, 1]"
     ]
    }
   ],
   "source": [
    "from sklearn.naive_bayes import MultinomialNB\n",
    "from sklearn.metrics import accuracy_score\n",
    "from sklearn.model_selection import train_test_split\n",
    "import numpy as np\n",
    "import keras\n",
    "from keras.models import Sequential\n",
    "from keras.layers import Dense, Flatten, Conv1D, MaxPooling1D\n",
    "\n",
    "\n",
    "# Train the Naive Bayes model\n",
    "nb_model = MultinomialNB()\n",
    "nb_model.fit(train_data, train_labels)\n",
    "\n",
    "# Train the CNN model\n",
    "#input_shape = train_data.shape[1:]\n",
    "num_classes = len(np.unique(train_labels))\n",
    "\n",
    "cnn = Sequential()\n",
    "cnn.add(Conv1D(filters=64, kernel_size=3, activation='relu', input_shape=(114, 1)))\n",
    "cnn.add(MaxPooling1D(pool_size=2))\n",
    "cnn.add(Conv1D(filters=64, kernel_size=6, activation='relu', input_shape=(114, 1)))\n",
    "cnn.add(MaxPooling1D(pool_size=2))\n",
    "cnn.add(Conv1D(filters=64, kernel_size=9, activation='relu', input_shape=(114, 1)))\n",
    "cnn.add(MaxPooling1D(pool_size=2))\n",
    "cnn.add(Flatten())\n",
    "cnn.add(Dense(50, activation='relu'))\n",
    "cnn.add(Dense(1))\n",
    "\n",
    "cnn.compile(loss='categorical_crossentropy', optimizer='adam', metrics=['accuracy'])\n",
    "\n",
    "# # Convert labels to one-hot encoding\n",
    "# train_labels_onehot = keras.utils.to_categorical(train_labels, num_classes)\n",
    "# test_labels_onehot = keras.utils.to_categorical(test_labels, num_classes)\n",
    "\n",
    "# cnn.fit(train_data, train_labels_onehot, epochs=10, batch_size=32, validation_data=(test_data, test_labels_onehot))\n",
    "\n",
    "# Train CNN model\n",
    "cnn.compile(optimizer='adam', loss='mse')\n",
    "train_data_cnn = train_data.reshape((train_data.shape[0], train_data.shape[1], 1))\n",
    "test_data_cnn = test_data.reshape((test_data.shape[0], test_data.shape[1], 1))\n",
    "cnn.fit(train_data_cnn, train_labels, epochs=10, batch_size=32, verbose=0)\n",
    "\n",
    "# Combine the predictions of the two models using a voting classifier\n",
    "nb_predictions = nb_model.predict(test_data)\n",
    "cnn_predictions = cnn.predict(test_data)\n",
    "combined_predictions = np.argmax(nb_predictions, axis=0) + np.argmax(cnn_predictions, axis=0)\n",
    "ensemble_predictions = np.round(combined_predictions / 2)\n",
    "\n",
    "# Calculate accuracy of the ensemble model\n",
    "ensemble_accuracy = accuracy_score(test_labels, ensemble_predictions)\n",
    "print(\"Ensemble Model Accuracy:\", ensemble_accuracy)\n"
   ]
  },
  {
   "cell_type": "code",
   "execution_count": null,
   "id": "10aeb6fa",
   "metadata": {},
   "outputs": [],
   "source": []
  }
 ],
 "metadata": {
  "colab": {
   "provenance": []
  },
  "kernelspec": {
   "display_name": "Python 3 (ipykernel)",
   "language": "python",
   "name": "python3"
  },
  "language_info": {
   "codemirror_mode": {
    "name": "ipython",
    "version": 3
   },
   "file_extension": ".py",
   "mimetype": "text/x-python",
   "name": "python",
   "nbconvert_exporter": "python",
   "pygments_lexer": "ipython3",
   "version": "3.9.7"
  },
  "papermill": {
   "default_parameters": {},
   "duration": 36.21319,
   "end_time": "2022-04-18T20:52:44.344078",
   "environment_variables": {},
   "exception": null,
   "input_path": "__notebook__.ipynb",
   "output_path": "__notebook__.ipynb",
   "parameters": {},
   "start_time": "2022-04-18T20:52:08.130888",
   "version": "2.3.3"
  }
 },
 "nbformat": 4,
 "nbformat_minor": 5
}
